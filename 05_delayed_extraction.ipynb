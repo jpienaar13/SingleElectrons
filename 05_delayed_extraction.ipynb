{
 "cells": [
  {
   "cell_type": "markdown",
   "metadata": {
    "collapsed": true,
    "deletable": true,
    "editable": true
   },
   "source": [
    "### Setup and Load Data ###"
   ]
  },
  {
   "cell_type": "code",
   "execution_count": 1,
   "metadata": {
    "collapsed": false,
    "deletable": true,
    "editable": true
   },
   "outputs": [
    {
     "name": "stdout",
     "output_type": "stream",
     "text": [
      "Lax Version : 1.5.2\n"
     ]
    },
    {
     "name": "stderr",
     "output_type": "stream",
     "text": [
      "/project/lgrandi/anaconda3/envs/pax_head/lib/python3.4/site-packages/seaborn-0.8.1-py3.4.egg/seaborn/apionly.py:6: UserWarning: As seaborn no longer sets a default style on import, the seaborn.apionly module is deprecated. It will be removed in a future version.\n",
      "  warnings.warn(msg, UserWarning)\n"
     ]
    }
   ],
   "source": [
    "run ../initialize.ipynb"
   ]
  },
  {
   "cell_type": "code",
   "execution_count": 2,
   "metadata": {
    "collapsed": true
   },
   "outputs": [],
   "source": [
    "mpl.rcParams['axes.linewidth'] = 2.5\n",
    "R_tpc=pax_config['DEFAULT']['tpc_radius']"
   ]
  },
  {
   "cell_type": "code",
   "execution_count": 3,
   "metadata": {
    "collapsed": true
   },
   "outputs": [],
   "source": [
    "def get_file_list(path, pattern, remove_string='', remove_path=True):\n",
    "    '''\n",
    "    Get a list of files matching pattern in path. Optional to remove a part of the path (i.e. the extention)\n",
    "    Optional to remove the path\n",
    "    '''\n",
    "    file_list = glob.glob(path + pattern)\n",
    "    # Remove path\n",
    "    for i, f in enumerate(file_list):\n",
    "        if remove_path:\n",
    "            f = f.replace(path, '')\n",
    "        if remove_string != '':\n",
    "            f = f.replace(remove_string, '')\n",
    "        file_list[i] = f\n",
    "    file_list = np.sort(file_list)\n",
    "    return file_list\n"
   ]
  },
  {
   "cell_type": "markdown",
   "metadata": {},
   "source": [
    "### Extract Hist from pre-processed pickles: SR0"
   ]
  },
  {
   "cell_type": "code",
   "execution_count": 135,
   "metadata": {
    "collapsed": false
   },
   "outputs": [
    {
     "name": "stdout",
     "output_type": "stream",
     "text": [
      "Processed data available selection: 0 rows removed (100.00% passed)\n",
      "Source in place selection: 1390 rows removed (4.86% passed)\n",
      "Source in place selection: 559 rows removed (61.74% passed)\n",
      "Source in place selection: 1372 rows removed (6.09% passed)\n"
     ]
    },
    {
     "name": "stderr",
     "output_type": "stream",
     "text": [
      "/project/lgrandi/anaconda3/envs/pax_head/lib/python3.4/site-packages/hax-2.4.0-py3.4.egg/hax/cuts.py:125: UserWarning: Pandas doesn't allow columns to be created via a new attribute name - see https://pandas.pydata.org/pandas-docs/stable/indexing.html#attribute-access\n",
      "  d.cut_history = prev_cuts + [passthrough_dict]\n"
     ]
    }
   ],
   "source": [
    "datasets = hax.runs.datasets \n",
    "datasets = hax.runs.tags_selection(include=['*sciencerun0'],\n",
    "                                  exclude=['bad','messy', 'test',\n",
    "                                           'nofield','lowfield',\n",
    "                                           'commissioning', 'flash',\n",
    "                                           'pmttrip','trip','_pmttrip',\n",
    "                                           'source_opening',\n",
    "                                           ],\n",
    "                                  )\n",
    "datasets= hax.cuts.selection(datasets, datasets['location'] != '', 'Processed data available')\n",
    "\n",
    "#Radon\n",
    "datasets_rn = hax.cuts.selection(datasets, datasets['source__type']=='Rn220', 'Source in place')\n",
    "dataset_names_rn = datasets_rn['name']\n",
    "\n",
    "#Bkg\n",
    "datasets_bkg = hax.cuts.selection(datasets, datasets['source__type']=='none', 'Source in place')\n",
    "dataset_names_bkg = datasets_bkg['name']\n",
    "\n",
    "#Krypton\n",
    "datasets_kr = hax.cuts.selection(datasets, datasets['source__type']=='Kr83m', 'Source in place')\n",
    "dataset_names_kr = datasets_kr['name']"
   ]
  },
  {
   "cell_type": "code",
   "execution_count": 136,
   "metadata": {
    "collapsed": false
   },
   "outputs": [
    {
     "name": "stderr",
     "output_type": "stream",
     "text": [
      "\r",
      "  0%|          | 0/3453 [00:00<?, ?it/s]"
     ]
    },
    {
     "name": "stdout",
     "output_type": "stream",
     "text": [
      "Radon Data\n",
      "Found 3453 datasets\n"
     ]
    },
    {
     "name": "stderr",
     "output_type": "stream",
     "text": [
      "100%|██████████| 3453/3453 [02:24<00:00, 23.86it/s]"
     ]
    },
    {
     "name": "stdout",
     "output_type": "stream",
     "text": [
      "CPU times: user 13.2 s, sys: 17.8 s, total: 31 s\n",
      "Wall time: 2min 24s\n"
     ]
    },
    {
     "name": "stderr",
     "output_type": "stream",
     "text": [
      "\n"
     ]
    }
   ],
   "source": [
    "%%time\n",
    "print('Radon Data')\n",
    "#simpath= '/home/jpienaar/Test_files/'\n",
    "simpath= '/scratch/midway2/jpienaar/cache_files/'\n",
    "\n",
    "#Find datasets\n",
    "datasets = get_file_list(simpath, '*dt.pkl', ' ')\n",
    "print('Found %d datasets' % len(datasets))\n",
    "n_files=len(datasets)\n",
    "\n",
    "dicts_datasets_rn={}\n",
    "dicts_datasets_kr={}\n",
    "dicts_datasets_bkg={}\n",
    "for dataset in tqdm(datasets[:]):\n",
    "    key=dataset[:-7]\n",
    "    if dataset_names_rn.isin([dataset[:-7]]).any():\n",
    "        with open(simpath+dataset, 'rb') as handle:\n",
    "            data_dict = pickle.load(handle)\n",
    "        dicts_datasets_rn[key]=data_dict\n",
    "              \n",
    "    elif dataset_names_kr.isin([dataset[:-7]]).any():\n",
    "        with open(simpath+dataset, 'rb') as handle:\n",
    "            data_dict = pickle.load(handle)\n",
    "        dicts_datasets_kr[key]=data_dict\n",
    "        \n",
    "    elif dataset_names_bkg.isin([dataset[:-7]]).any():\n",
    "        with open(simpath+dataset, 'rb') as handle:\n",
    "            data_dict = pickle.load(handle)\n",
    "        dicts_datasets_bkg[key]=data_dict\n",
    "    \n",
    "#df_PI=pd.concat(df_PI)"
   ]
  },
  {
   "cell_type": "code",
   "execution_count": 137,
   "metadata": {
    "collapsed": false
   },
   "outputs": [
    {
     "name": "stdout",
     "output_type": "stream",
     "text": [
      "Background 901\n",
      "Krypton 89\n",
      "Radon 70\n"
     ]
    }
   ],
   "source": [
    "dict_source_sr0={'Radon' : dicts_datasets_rn, 'Krypton': dicts_datasets_kr, 'Background' : dicts_datasets_bkg}\n",
    "for source, dict_data in dict_source_sr0.items():\n",
    "    print(source, len(dict_data))"
   ]
  },
  {
   "cell_type": "markdown",
   "metadata": {},
   "source": [
    "### Extract Hist from pre-processed pickles: SR1"
   ]
  },
  {
   "cell_type": "code",
   "execution_count": 138,
   "metadata": {
    "collapsed": false
   },
   "outputs": [
    {
     "name": "stdout",
     "output_type": "stream",
     "text": [
      "Processed data available selection: 0 rows removed (100.00% passed)\n",
      "Source in place selection: 7229 rows removed (4.56% passed)\n",
      "Source in place selection: 1185 rows removed (84.35% passed)\n",
      "Source in place selection: 7119 rows removed (6.01% passed)\n"
     ]
    },
    {
     "name": "stderr",
     "output_type": "stream",
     "text": [
      "/project/lgrandi/anaconda3/envs/pax_head/lib/python3.4/site-packages/hax-2.4.0-py3.4.egg/hax/cuts.py:125: UserWarning: Pandas doesn't allow columns to be created via a new attribute name - see https://pandas.pydata.org/pandas-docs/stable/indexing.html#attribute-access\n",
      "  d.cut_history = prev_cuts + [passthrough_dict]\n"
     ]
    }
   ],
   "source": [
    "datasets = hax.runs.datasets \n",
    "datasets = hax.runs.tags_selection(include=['*sciencerun1'],\n",
    "                                  exclude=['bad','messy', 'test',\n",
    "                                           'nofield','lowfield',\n",
    "                                           'commissioning', 'flash',\n",
    "                                           'pmttrip','trip','_pmttrip',\n",
    "                                           'source_opening',\n",
    "                                           ],\n",
    "                                  )\n",
    "datasets= hax.cuts.selection(datasets, datasets['location'] != '', 'Processed data available')\n",
    "\n",
    "#Radon\n",
    "datasets_rn = hax.cuts.selection(datasets, datasets['source__type']=='Rn220', 'Source in place')\n",
    "dataset_names_rn = datasets_rn['name']\n",
    "\n",
    "#Bkg\n",
    "datasets_bkg = hax.cuts.selection(datasets, datasets['source__type']=='none', 'Source in place')\n",
    "dataset_names_bkg = datasets_bkg['name']\n",
    "\n",
    "#Krypton\n",
    "datasets_kr = hax.cuts.selection(datasets, datasets['source__type']=='Kr83m', 'Source in place')\n",
    "dataset_names_kr = datasets_kr['name']"
   ]
  },
  {
   "cell_type": "code",
   "execution_count": 139,
   "metadata": {
    "collapsed": false
   },
   "outputs": [
    {
     "name": "stderr",
     "output_type": "stream",
     "text": [
      "\r",
      "  0%|          | 0/3453 [00:00<?, ?it/s]"
     ]
    },
    {
     "name": "stdout",
     "output_type": "stream",
     "text": [
      "Radon Data\n",
      "Found 3453 datasets\n"
     ]
    },
    {
     "name": "stderr",
     "output_type": "stream",
     "text": [
      "100%|██████████| 3453/3453 [06:27<00:00,  8.91it/s] "
     ]
    },
    {
     "name": "stdout",
     "output_type": "stream",
     "text": [
      "CPU times: user 27 s, sys: 34.1 s, total: 1min 1s\n",
      "Wall time: 6min 27s\n"
     ]
    },
    {
     "name": "stderr",
     "output_type": "stream",
     "text": [
      "\n"
     ]
    }
   ],
   "source": [
    "%%time\n",
    "print('Radon Data')\n",
    "#simpath= '/home/jpienaar/Test_files/'\n",
    "simpath= '/scratch/midway2/jpienaar/cache_files/'\n",
    "\n",
    "#Find datasets\n",
    "datasets = get_file_list(simpath, '*dt.pkl', ' ')\n",
    "print('Found %d datasets' % len(datasets))\n",
    "n_files=len(datasets)\n",
    "\n",
    "dicts_datasets_rn={}\n",
    "dicts_datasets_kr={}\n",
    "dicts_datasets_bkg={}\n",
    "for dataset in tqdm(datasets[:]):\n",
    "    key=dataset[:-7]\n",
    "    if dataset_names_rn.isin([dataset[:-7]]).any():\n",
    "        with open(simpath+dataset, 'rb') as handle:\n",
    "            data_dict = pickle.load(handle)\n",
    "        dicts_datasets_rn[key]=data_dict\n",
    "              \n",
    "    elif dataset_names_kr.isin([dataset[:-7]]).any():\n",
    "        with open(simpath+dataset, 'rb') as handle:\n",
    "            data_dict = pickle.load(handle)\n",
    "        dicts_datasets_kr[key]=data_dict\n",
    "        \n",
    "    elif dataset_names_bkg.isin([dataset[:-7]]).any():\n",
    "        with open(simpath+dataset, 'rb') as handle:\n",
    "            data_dict = pickle.load(handle)\n",
    "        dicts_datasets_bkg[key]=data_dict\n",
    "    \n",
    "#df_PI=pd.concat(df_PI)"
   ]
  },
  {
   "cell_type": "code",
   "execution_count": 149,
   "metadata": {
    "collapsed": false
   },
   "outputs": [
    {
     "name": "stdout",
     "output_type": "stream",
     "text": [
      "Background 1969\n",
      "Krypton 204\n",
      "Radon 200\n"
     ]
    }
   ],
   "source": [
    "dict_source_sr1={'Radon' : dicts_datasets_rn, 'Krypton': dicts_datasets_kr, 'Background' : dicts_datasets_bkg}\n",
    "for source, dict_data in dict_source_sr1.items():\n",
    "    print(source, len(dict_data))"
   ]
  },
  {
   "cell_type": "markdown",
   "metadata": {},
   "source": [
    "### Time Distribution"
   ]
  },
  {
   "cell_type": "code",
   "execution_count": 141,
   "metadata": {
    "collapsed": false,
    "scrolled": false
   },
   "outputs": [
    {
     "name": "stderr",
     "output_type": "stream",
     "text": [
      "/project/lgrandi/anaconda3/envs/pax_head/lib/python3.4/site-packages/hax-2.4.0-py3.4.egg/hax/cuts.py:125: UserWarning: Pandas doesn't allow columns to be created via a new attribute name - see https://pandas.pydata.org/pandas-docs/stable/indexing.html#attribute-access\n",
      "  d.cut_history = prev_cuts + [passthrough_dict]\n",
      " 40%|███▉      | 359/901 [00:00<00:00, 3588.29it/s]"
     ]
    },
    {
     "name": "stdout",
     "output_type": "stream",
     "text": [
      "Background\n",
      "Source in place selection: 6795 rows removed (67.00% passed)\n"
     ]
    },
    {
     "name": "stderr",
     "output_type": "stream",
     "text": [
      "100%|██████████| 901/901 [00:00<00:00, 3578.48it/s]\n",
      "/project/lgrandi/anaconda3/envs/pax_head/lib/python3.4/site-packages/ipykernel/__main__.py:39: SettingWithCopyWarning: \n",
      "A value is trying to be set on a copy of a slice from a DataFrame.\n",
      "Try using .loc[row_indexer,col_indexer] = value instead\n",
      "\n",
      "See the caveats in the documentation: http://pandas.pydata.org/pandas-docs/stable/indexing.html#indexing-view-versus-copy\n",
      "100%|██████████| 89/89 [00:00<00:00, 3491.17it/s]\n"
     ]
    },
    {
     "name": "stdout",
     "output_type": "stream",
     "text": [
      "Krypton\n",
      "Source in place selection: 19022 rows removed (7.63% passed)\n"
     ]
    },
    {
     "name": "stderr",
     "output_type": "stream",
     "text": [
      "100%|██████████| 70/70 [00:00<00:00, 3295.34it/s]"
     ]
    },
    {
     "name": "stdout",
     "output_type": "stream",
     "text": [
      "Radon\n",
      "Source in place selection: 19177 rows removed (6.88% passed)\n"
     ]
    },
    {
     "name": "stderr",
     "output_type": "stream",
     "text": [
      "\n",
      " 13%|█▎        | 248/1969 [00:00<00:00, 2477.21it/s]"
     ]
    },
    {
     "name": "stdout",
     "output_type": "stream",
     "text": [
      "Background\n",
      "Source in place selection: 6795 rows removed (67.00% passed)\n"
     ]
    },
    {
     "name": "stderr",
     "output_type": "stream",
     "text": [
      "100%|██████████| 1969/1969 [00:00<00:00, 3394.08it/s]\n",
      "/project/lgrandi/anaconda3/envs/pax_head/lib/python3.4/site-packages/ipykernel/__main__.py:77: SettingWithCopyWarning: \n",
      "A value is trying to be set on a copy of a slice from a DataFrame.\n",
      "Try using .loc[row_indexer,col_indexer] = value instead\n",
      "\n",
      "See the caveats in the documentation: http://pandas.pydata.org/pandas-docs/stable/indexing.html#indexing-view-versus-copy\n",
      "100%|██████████| 204/204 [00:00<00:00, 4556.16it/s]\n"
     ]
    },
    {
     "name": "stdout",
     "output_type": "stream",
     "text": [
      "Krypton\n",
      "Source in place selection: 19022 rows removed (7.63% passed)\n"
     ]
    },
    {
     "name": "stderr",
     "output_type": "stream",
     "text": [
      "100%|██████████| 200/200 [00:00<00:00, 3681.31it/s]"
     ]
    },
    {
     "name": "stdout",
     "output_type": "stream",
     "text": [
      "Radon\n",
      "Source in place selection: 19177 rows removed (6.88% passed)\n"
     ]
    },
    {
     "name": "stderr",
     "output_type": "stream",
     "text": [
      "\n"
     ]
    },
    {
     "data": {
      "image/png": "[encoded data removed]",
      "text/plain": [
       "<matplotlib.figure.Figure at 0x7f2410c67eb8>"
      ]
     },
     "metadata": {},
     "output_type": "display_data"
    }
   ],
   "source": [
    "# Plots average lifetime over a run, versus run number\n",
    "\n",
    "#plt.figure(figsize=(10, 8))\n",
    "source_key={'Radon': 'Rn220', 'Krypton': 'Kr83m', 'Background': 'none'}\n",
    "colours=['blue', 'orange', 'green']\n",
    "index=0\n",
    "_xmax=10**8\n",
    "_tpoints=np.linspace(0, _xmax, 201)\n",
    "_xmin=_tpoints[1]\n",
    "_ymax=1.7e-7\n",
    "livet_hist=0\n",
    "events=0\n",
    "source_dfs_sr0={}\n",
    "source_dfs_sr1={}\n",
    "\n",
    "for source, dict_data in dict_source_sr0.items():\n",
    "    print(source)\n",
    "    #plt.figure(figsize=(10, 8))\n",
    "    \n",
    "    average_array=[]\n",
    "    datasets_array=[]\n",
    "    \n",
    "    datasets = hax.runs.datasets\n",
    "    datasets_source = hax.cuts.selection(datasets, datasets['source__type']==source_key[source], 'Source in place')\n",
    "\n",
    "    for key, data in tqdm(dict_data.items()):\n",
    "        livet_hist\n",
    "        livet_hist=data['livet_hist']\n",
    "        events=data['events']\n",
    "\n",
    "        new_hist=livet_hist.sum('s2_area')\n",
    "        new_hist=new_hist/events\n",
    "            \n",
    "        average_array.append(np.average(new_hist[:]))\n",
    "        datasets_array.append(key)\n",
    "        \n",
    "    source_datasets=datasets.loc[datasets.name.isin(datasets_array)]\n",
    "    assert len(average_array)==len(source_datasets)\n",
    "    source_datasets['average_livetime']=average_array\n",
    "    test_df=pd.DataFrame({'name': datasets_array, 'average': average_array})\n",
    "    test_df=pd.merge(source_datasets, test_df, on='name', how='outer')\n",
    "                \n",
    "    #plt.xlabel('Time Since S2 [ns]', fontsize=12)\n",
    "    #plt.ylabel('Live Time Fraction [/bin]', fontsize=12)\n",
    "    #plt.xlim([_xmin, _xmax])\n",
    "    #plt.savefig(\"fig_%s_reduced_livet.png\" %source, bboxes='tight')\n",
    "    #plt.savefig(\"fig_%s_reduced_livet.pdf\" %source, bboxes='tight')\n",
    "    #plt.show()\n",
    "    \n",
    "    source_dfs_sr0[source]=test_df\n",
    "\n",
    "livet_hist=0\n",
    "events=0   \n",
    "for source, dict_data in dict_source_sr1.items():\n",
    "    print(source)\n",
    "    #plt.figure(figsize=(10, 8))\n",
    "    \n",
    "    average_array=[]\n",
    "    datasets_array=[]\n",
    "    \n",
    "    datasets = hax.runs.datasets\n",
    "    datasets_source = hax.cuts.selection(datasets, datasets['source__type']==source_key[source], 'Source in place')\n",
    "\n",
    "    for key, data in tqdm(dict_data.items()):\n",
    "        livet_hist\n",
    "        livet_hist=data['livet_hist']\n",
    "        events=data['events']\n",
    "\n",
    "        new_hist=livet_hist.sum('s2_area')\n",
    "        new_hist=new_hist/events\n",
    "            \n",
    "        average_array.append(np.average(new_hist[:]))\n",
    "        datasets_array.append(key)\n",
    "        \n",
    "    source_datasets=datasets.loc[datasets.name.isin(datasets_array)]\n",
    "    assert len(average_array)==len(source_datasets)\n",
    "    source_datasets['average_livetime']=average_array\n",
    "    test_df=pd.DataFrame({'name': datasets_array, 'average': average_array})\n",
    "    test_df=pd.merge(source_datasets, test_df, on='name', how='outer')\n",
    "                \n",
    "    #plt.xlabel('Time Since S2 [ns]', fontsize=12)\n",
    "    #plt.ylabel('Live Time Fraction [/bin]', fontsize=12)\n",
    "    #plt.xlim([_xmin, _xmax])\n",
    "    #plt.savefig(\"fig_%s_reduced_livet.png\" %source, bboxes='tight')\n",
    "    #plt.savefig(\"fig_%s_reduced_livet.pdf\" %source, bboxes='tight')\n",
    "    #plt.show()\n",
    "    \n",
    "    source_dfs_sr1[source]=test_df\n",
    "\n",
    "plt.figure(figsize=(10, 8))\n",
    "index=0\n",
    "for key, df in source_dfs_sr0.items():\n",
    "    plt.plot(df['start'], df['average_livetime'], marker='o', linewidth=0, color=colours[index], label=key)\n",
    "    index+=1\n",
    "index=0\n",
    "for key, df in source_dfs_sr1.items():\n",
    "    plt.plot(df['start'], df['average_livetime'], marker='o', linewidth=0, color=colours[index], label=key, alpha =0.5)\n",
    "    index+=1\n",
    "plt.xlabel('Date', fontsize=12)\n",
    "#plt.xlim([datetime.date(2017, 2, 3), datetime.date(2017, 2, 6)])\n",
    "plt.ylim([0, 0.01])\n",
    "plt.legend(loc='best')\n",
    "plt.ylabel('Average Live Time Fraction', fontsize=12)\n",
    "plt.xticks(rotation='vertical')\n",
    "#plt.savefig(\"fig_date_livet.png\", bboxes='tight')\n",
    "#plt.savefig(\"fig_date_livet.pdf\", bboxes='tight')\n",
    "plt.show()\n"
   ]
  },
  {
   "cell_type": "markdown",
   "metadata": {},
   "source": [
    "###  Livetime - all events"
   ]
  },
  {
   "cell_type": "code",
   "execution_count": 35,
   "metadata": {
    "collapsed": false
   },
   "outputs": [
    {
     "name": "stdout",
     "output_type": "stream",
     "text": [
      "Background\n",
      "1825692\n",
      "Krypton\n",
      "1794282\n",
      "Radon\n",
      "2673544\n",
      "Background\n",
      "Background 170620_2315\n",
      "Background 170209_0611\n",
      "Background 170209_0812\n",
      "Background 170411_2114\n",
      "Background 170620_2215\n",
      "7731668\n",
      "Krypton\n",
      "Krypton 170310_1215\n",
      "8562947\n",
      "Radon\n",
      "13428205\n"
     ]
    },
    {
     "data": {
      "image/png": "[encoded data removed]",
      "text/plain": [
       "<matplotlib.figure.Figure at 0x7f24113a3128>"
      ]
     },
     "metadata": {},
     "output_type": "display_data"
    }
   ],
   "source": [
    "#Plots Live Time Fraction#\n",
    "\n",
    "plt.figure(figsize=(10, 8))\n",
    "colours=['blue', 'orange', 'green', 'magenta', 'cyan', 'red']\n",
    "index=0\n",
    "_xmax=10**8\n",
    "_tpoints=np.linspace(0, _xmax, 201)\n",
    "_xmin=_tpoints[1]\n",
    "_ymax=1.7e-7\n",
    "events_hist=0\n",
    "events=0\n",
    "plt.set_cmap(\"Blues\")\n",
    "for source, dict_data in dict_source_sr0.items():\n",
    "    print(source)\n",
    "    del events_hist\n",
    "    events=0\n",
    "    for key, data in dict_data.items():\n",
    "        try:\n",
    "            events_hist\n",
    "            events_hist+=data['livet_hist']\n",
    "            weight_hist+=data['livet_weights']\n",
    "            events+=data['events']\n",
    "        except NameError:\n",
    "            events_hist=data['livet_hist']\n",
    "            weight_hist=data['livet_weights']\n",
    "            events=data['events']\n",
    "        except KeyError:\n",
    "            print(source, key)\n",
    "    \n",
    "    events_hist=events_hist.sum('s2_area')\n",
    "    events_hist=events_hist\n",
    "    weight_hist=weight_hist.sum('s2_area')\n",
    "    weight_hist=weight_hist\n",
    "\n",
    "    #Confidence Bands\n",
    "    x = _tpoints\n",
    "    x = np.sort(np.array(list(x[1:]) + list(x[:-1])))\n",
    "    y1=events_hist-np.sqrt(weight_hist)\n",
    "    y2=events_hist+np.sqrt(weight_hist)\n",
    "    y_single = np.repeat(y1[:], 2)\n",
    "    y_total = np.repeat(y2[:], 2)\n",
    "        \n",
    "    #Plot\n",
    "    plt.step(_tpoints[1:], events_hist/events, linewidth=3,  color=colours[index], label=source+' SR0')\n",
    "    plt.fill_between(x, y_single/events, y_total/events, facecolor=colours[index], interpolate=True, alpha = 0.25)\n",
    "    index+=1\n",
    "    \n",
    "    print(events)\n",
    "    \n",
    "for source, dict_data in dict_source_sr1.items():\n",
    "    print(source)\n",
    "    del events_hist\n",
    "    events=0\n",
    "    for key, data in dict_data.items():\n",
    "        try:\n",
    "            events_hist\n",
    "            events_hist+=data['livet_hist']\n",
    "            weight_hist+=data['livet_weights']\n",
    "            events+=data['events']\n",
    "        except NameError:\n",
    "            events_hist=data['livet_hist']\n",
    "            weight_hist=data['livet_weights']\n",
    "            events=data['events']\n",
    "        except KeyError:\n",
    "            print(source, key)\n",
    "    \n",
    "    events_hist=events_hist.sum('s2_area')\n",
    "    events_hist=events_hist\n",
    "    weight_hist=weight_hist.sum('s2_area')\n",
    "    weight_hist=weight_hist\n",
    "\n",
    "    #Confidence Bands\n",
    "    x = _tpoints\n",
    "    x = np.sort(np.array(list(x[1:]) + list(x[:-1])))\n",
    "    y1=events_hist-np.sqrt(weight_hist)\n",
    "    y2=events_hist+np.sqrt(weight_hist)\n",
    "    y_single = np.repeat(y1[:], 2)\n",
    "    y_total = np.repeat(y2[:], 2)\n",
    "        \n",
    "    #Plot\n",
    "    plt.step(_tpoints[1:], events_hist/events, linewidth=3,  color=colours[index], label=source+' SR1')\n",
    "    plt.fill_between(x, y_single/events, y_total/events, facecolor=colours[index], interpolate=True, alpha = 0.25)\n",
    "    index+=1\n",
    "    \n",
    "    print(events)\n",
    "\n",
    "\n",
    "plt.xlim([0, _xmax])\n",
    "plt.xlabel('Time Since S2 [ns]', fontsize=12)\n",
    "plt.ylabel('Live Time Fraction [/bin]', fontsize=12)\n",
    "axes = plt.gca()\n",
    "axes.tick_params(width=2, length=10)\n",
    "plt.legend(loc='best', fontsize=12)\n",
    "#plt.savefig(\"fig_livet_example.png\", bboxes='tight')\n",
    "#plt.savefig(\"fig_livet_example.pdf\", bboxes='tight')\n",
    "#plt.yscale('log')\n",
    "plt.show()"
   ]
  },
  {
   "cell_type": "markdown",
   "metadata": {},
   "source": [
    "### Uncorrected Peak Rate"
   ]
  },
  {
   "cell_type": "code",
   "execution_count": 33,
   "metadata": {
    "collapsed": false
   },
   "outputs": [
    {
     "name": "stdout",
     "output_type": "stream",
     "text": [
      "Background\n",
      "1825692\n",
      "Krypton\n",
      "1794282\n",
      "Radon\n",
      "2673544\n",
      "Background\n",
      "Background 170620_2315\n",
      "Background 170209_0611\n",
      "Background 170209_0812\n",
      "Background 170411_2114\n",
      "Background 170620_2215\n",
      "7731668\n",
      "Krypton\n",
      "Krypton 170310_1215\n",
      "8562947\n",
      "Radon\n",
      "13428205\n"
     ]
    },
    {
     "data": {
      "image/png": "[encoded data removed]",
      "text/plain": [
       "<matplotlib.figure.Figure at 0x7f241e7f9358>"
      ]
     },
     "metadata": {},
     "output_type": "display_data"
    }
   ],
   "source": [
    "#Plots uncorrected event with error added#\n",
    "\n",
    "plt.figure(figsize=(10, 8))\n",
    "index=0\n",
    "window_length=10**8\n",
    "_tpoints=np.linspace(0, window_length, 201)\n",
    "_xmin=_tpoints[1]\n",
    "_ymax=1.7e-7\n",
    "events_hist=0\n",
    "events=0\n",
    "index=0\n",
    "plt.set_cmap(\"Blues\")\n",
    "for source, dict_data in dict_source_sr0.items():\n",
    "    print(source)\n",
    "    del events_hist\n",
    "    events=0\n",
    "    for key, data in dict_data.items():\n",
    "        try:\n",
    "            events_hist\n",
    "            events_hist+=data['deltat']\n",
    "            weight_hist+=data['deltat_weights']\n",
    "            events+=data['events']\n",
    "        except NameError:\n",
    "            events_hist=data['deltat']\n",
    "            weight_hist=data['deltat_weights']\n",
    "            events=data['events']\n",
    "        except KeyError:\n",
    "            print(source, key)\n",
    "        \n",
    "    events_hist=events_hist.sum('s2_area')\n",
    "    events_hist=events_hist\n",
    "    weight_hist=weight_hist.sum('s2_area')\n",
    "    weight_hist=weight_hist\n",
    "\n",
    "    #Confidence Bands\n",
    "    x = _tpoints\n",
    "    x = np.sort(np.array(list(x[1:]) + list(x[:-1])))\n",
    "    y1=events_hist-np.sqrt(weight_hist)\n",
    "    y2=events_hist+np.sqrt(weight_hist)\n",
    "    y_single = np.repeat(y1[:], 2)\n",
    "    y_total = np.repeat(y2[:], 2)\n",
    "        \n",
    "    #Plot\n",
    "    plt.step(_tpoints[1:], events_hist/events, linewidth=3,  color=colours[index], label=source+' SR0')\n",
    "    plt.fill_between(x, y_single/events, y_total/events, facecolor=colours[index], interpolate=True, alpha = 0.25)\n",
    "    index+=1\n",
    "    \n",
    "    print(events)\n",
    "    \n",
    "for source, dict_data in dict_source_sr1.items():\n",
    "    print(source)\n",
    "    del events_hist\n",
    "    events=0\n",
    "    for key, data in dict_data.items():\n",
    "        try:\n",
    "            events_hist\n",
    "            events_hist+=data['deltat']\n",
    "            weight_hist+=data['deltat_weights']\n",
    "            events+=data['events']\n",
    "        except NameError:\n",
    "            events_hist=data['deltat']\n",
    "            weight_hist=data['deltat_weights']\n",
    "            events=data['events']\n",
    "        except KeyError:\n",
    "            print(source, key)\n",
    "        \n",
    "    events_hist=events_hist.sum('s2_area')\n",
    "    events_hist=events_hist\n",
    "    weight_hist=weight_hist.sum('s2_area')\n",
    "    weight_hist=weight_hist\n",
    "\n",
    "    #Confidence Bands\n",
    "    x = _tpoints\n",
    "    x = np.sort(np.array(list(x[1:]) + list(x[:-1])))\n",
    "    y1=events_hist-np.sqrt(weight_hist)\n",
    "    y2=events_hist+np.sqrt(weight_hist)\n",
    "    y_single = np.repeat(y1[:], 2)\n",
    "    y_total = np.repeat(y2[:], 2)\n",
    "        \n",
    "    #Plot\n",
    "    plt.step(_tpoints[1:], events_hist/events, linewidth=3,  color=colours[index], label=source+' SR1')\n",
    "    plt.fill_between(x, y_single/events, y_total/events, facecolor=colours[index], interpolate=True, alpha = 0.25)\n",
    "    index+=1\n",
    "    \n",
    "    print(events)\n",
    "\n",
    "plt.xlim([0, window_length])\n",
    "plt.xlabel('Time Since S2 [ns]', fontsize=12)\n",
    "plt.ylabel('Uncorrected Peak Rate [ns$^{-1}$]', fontsize=12)\n",
    "axes = plt.gca()\n",
    "axes.tick_params(width=2, length=10)\n",
    "plt.legend(loc='best', fontsize=12)\n",
    "#plt.savefig(\"fig_deltat_example.png\", bboxes='tight')\n",
    "#plt.savefig(\"fig_deltat_example.pdf\", bboxes='tight')\n",
    "#plt.yscale('log')\n",
    "plt.show()"
   ]
  },
  {
   "cell_type": "markdown",
   "metadata": {},
   "source": [
    "### Live Time Corrected Peak Rate"
   ]
  },
  {
   "cell_type": "code",
   "execution_count": 36,
   "metadata": {
    "collapsed": false
   },
   "outputs": [
    {
     "name": "stdout",
     "output_type": "stream",
     "text": [
      "Background\n",
      "1825692\n",
      "Krypton\n",
      "1794282\n",
      "Radon\n",
      "2673544\n",
      "Background\n",
      "Background 170620_2315\n",
      "Background 170209_0611\n",
      "Background 170209_0812\n",
      "Background 170411_2114\n",
      "Background 170620_2215\n",
      "7731668\n",
      "Krypton\n",
      "Krypton 170310_1215\n",
      "8562947\n",
      "Radon\n",
      "13428205\n"
     ]
    },
    {
     "data": {
      "image/png": "[encoded data removed]",
      "text/plain": [
       "<matplotlib.figure.Figure at 0x7f2411330828>"
      ]
     },
     "metadata": {},
     "output_type": "display_data"
    }
   ],
   "source": [
    "#Plots corrected event with error added#\n",
    "\n",
    "plt.figure(figsize=(10, 8))\n",
    "index=0\n",
    "window_length=10**8\n",
    "_tpoints=np.linspace(0, window_length, 201)\n",
    "_xmin=_tpoints[1]\n",
    "_ymax=1.7e-7\n",
    "events_hist=0\n",
    "events=0\n",
    "index=0\n",
    "\n",
    "for source, dict_data in dict_source_sr0.items():\n",
    "    print(source)\n",
    "    del events_hist\n",
    "    del livet_hist\n",
    "    events=0\n",
    "    for key, data in dict_data.items():\n",
    "        try:\n",
    "            events_hist\n",
    "            events_hist+=data['deltat']\n",
    "            weight_hist+=data['deltat_weights']\n",
    "            livet_hist+=data['livet_hist']\n",
    "            livet_weight+=data['livet_weights']\n",
    "            events+=data['events']\n",
    "        except NameError:\n",
    "            events_hist=data['deltat']\n",
    "            weight_hist=data['deltat_weights']\n",
    "            livet_hist=data['livet_hist']\n",
    "            livet_weight=data['livet_weights']\n",
    "            events=data['events']\n",
    "        except KeyError:\n",
    "            print(source, key)\n",
    "        \n",
    "    events_hist=events_hist.sum('s2_area')\n",
    "    weight_hist=weight_hist.sum('s2_area')\n",
    "    livet_hist=livet_hist.sum('s2_area')\n",
    "    livet_weight=livet_weight.sum('s2_area')\n",
    "    \n",
    "    #Error\n",
    "    num_value=np.array(events_hist)\n",
    "    denum_value=np.array(livet_hist)\n",
    "    num_error = np.sqrt(weight_hist)\n",
    "    denum_error = np.sqrt(livet_weight)\n",
    "    e1 = num_error\n",
    "    e2 = denum_error\n",
    "    b1 = num_value\n",
    "    b2 = denum_value\n",
    "    w=b1/b2\n",
    "    \n",
    "    ratio_error = np.abs(((1-2*w)*e1*e1 + w*w*e2*e2)/(b2*b2))       \n",
    "    ratio = num_value/denum_value \n",
    "    \n",
    "    #Confidence Bands\n",
    "    x = _tpoints\n",
    "    x = np.sort(np.array(list(x[1:]) + list(x[:-1])))\n",
    "    y1=ratio-np.sqrt(ratio_error)\n",
    "    y2=ratio+np.sqrt(ratio_error)\n",
    "    y_lower = np.repeat(y1[:], 2)\n",
    "    y_upper = np.repeat(y2[:], 2)\n",
    "        \n",
    "    #Plot\n",
    "    plt.step(_tpoints[1:], ratio*1000000, linewidth=3,  color=colours[index], label=source+' SR0')\n",
    "    plt.fill_between(x, y_lower*1000000, y_upper*1000000, facecolor=colours[index], interpolate=True, alpha = 0.25)\n",
    "    index+=1\n",
    "    \n",
    "    print(events)\n",
    "    \n",
    "for source, dict_data in dict_source_sr1.items():\n",
    "    print(source)\n",
    "    del events_hist\n",
    "    del livet_hist\n",
    "    events=0\n",
    "    for key, data in dict_data.items():\n",
    "        try:\n",
    "            events_hist\n",
    "            events_hist+=data['deltat']\n",
    "            weight_hist+=data['deltat_weights']\n",
    "            livet_hist+=data['livet_hist']\n",
    "            livet_weight+=data['livet_weights']\n",
    "            events+=data['events']\n",
    "        except NameError:\n",
    "            events_hist=data['deltat']\n",
    "            weight_hist=data['deltat_weights']\n",
    "            livet_hist=data['livet_hist']\n",
    "            livet_weight=data['livet_weights']\n",
    "            events=data['events']\n",
    "        except KeyError:\n",
    "            print(source, key)\n",
    "        \n",
    "    events_hist=events_hist.sum('s2_area')\n",
    "    weight_hist=weight_hist.sum('s2_area')\n",
    "    livet_hist=livet_hist.sum('s2_area')\n",
    "    livet_weight=livet_weight.sum('s2_area')\n",
    "    \n",
    "    #Error\n",
    "    num_value=np.array(events_hist)\n",
    "    denum_value=np.array(livet_hist)\n",
    "    num_error = np.sqrt(weight_hist)\n",
    "    denum_error = np.sqrt(livet_weight)\n",
    "    e1 = num_error\n",
    "    e2 = denum_error\n",
    "    b1 = num_value\n",
    "    b2 = denum_value\n",
    "    w=b1/b2\n",
    "    \n",
    "    ratio_error = np.abs(((1-2*w)*e1*e1 + w*w*e2*e2)/(b2*b2))       \n",
    "    ratio = num_value/denum_value \n",
    "    \n",
    "    #Confidence Bands\n",
    "    x = _tpoints\n",
    "    x = np.sort(np.array(list(x[1:]) + list(x[:-1])))\n",
    "    y1=ratio-np.sqrt(ratio_error)\n",
    "    y2=ratio+np.sqrt(ratio_error)\n",
    "    y_lower = np.repeat(y1[:], 2)\n",
    "    y_upper = np.repeat(y2[:], 2)\n",
    "        \n",
    "    #Plot\n",
    "    plt.step(_tpoints[1:], ratio*1000000, linewidth=3,  color=colours[index], label=source+' SR1')\n",
    "    plt.fill_between(x, y_lower*1000000, y_upper*1000000, facecolor=colours[index], interpolate=True, alpha = 0.25)\n",
    "    index+=1\n",
    "    \n",
    "    print(events)\n",
    "\n",
    "plt.xlim([_tpoints[5], _tpoints[-2]])\n",
    "plt.ylim([0, 10])\n",
    "plt.xlabel('Time Since S2 [ms]', fontsize=12)\n",
    "plt.ylabel('Corrected Peak Rate [ns$^{-1}$]', fontsize=12)\n",
    "axes = plt.gca()\n",
    "axes.tick_params(width=2, length=10)\n",
    "plt.legend(loc='best', fontsize=12)\n",
    "#plt.savefig(\"fig_deltat_example.png\", bboxes='tight')\n",
    "#plt.savefig(\"fig_deltat_example.pdf\", bboxes='tight')\n",
    "#plt.yscale('log')\n",
    "plt.show()"
   ]
  },
  {
   "cell_type": "markdown",
   "metadata": {},
   "source": [
    "Questions:\n",
    "    \n",
    " 1.) Why Kr_SR0 higher than Kr_SR1? Probably event rate related. Look at individual calibrations. Should decrease with Kr source strength. If so, need some kind of cut to remove peaks from other events.\n",
    " \n",
    " 2.)Why is Rn_SR0 higher than Rn_SR1. Source has not changed in activity signficantly. Injection procedure might have changed however. Could be lower overall event rate in SR1 if Kr explanation from (1) holds. Simple to check event rate.\n",
    " \n",
    " 3.) Might be different \"decay\" tmes in SR0 and SR1 background. Could be bacground related? More alpha backgrounds in SR0 possibly. Check individual energy lines to be sure"
   ]
  },
  {
   "cell_type": "markdown",
   "metadata": {},
   "source": [
    "### Split By Date of Krypton Dataset\n",
    "\n",
    "  * If peak rate is related to event rate, should see decreasing peak rate trend in Krypton data"
   ]
  },
  {
   "cell_type": "code",
   "execution_count": 112,
   "metadata": {
    "collapsed": false
   },
   "outputs": [
    {
     "name": "stdout",
     "output_type": "stream",
     "text": [
      "2017-01-17 2017-02-10\n",
      "TimeCut Low selection: 0 rows removed (100.00% passed)\n",
      "TimeCut High selection: 109 rows removed (21.01% passed)\n",
      "2017-02-10 2017-02-17\n",
      "TimeCut Low selection: 29 rows removed (78.99% passed)\n",
      "TimeCut High selection: 94 rows removed (13.76% passed)\n",
      "2017-02-17 2017-02-24\n",
      "TimeCut Low selection: 44 rows removed (68.12% passed)\n",
      "TimeCut High selection: 77 rows removed (18.09% passed)\n",
      "2017-02-24 2017-03-03\n",
      "TimeCut Low selection: 61 rows removed (55.80% passed)\n",
      "TimeCut High selection: 61 rows removed (20.78% passed)\n",
      "2017-03-03 2017-03-06\n",
      "TimeCut Low selection: 77 rows removed (44.20% passed)\n",
      "TimeCut High selection: 61 rows removed (0.00% passed)\n",
      "2017-03-06 2017-03-20\n",
      "TimeCut Low selection: 77 rows removed (44.20% passed)\n",
      "TimeCut High selection: 30 rows removed (50.82% passed)\n",
      "2017-03-20 2017-04-01\n",
      "TimeCut Low selection: 108 rows removed (21.74% passed)\n",
      "TimeCut High selection: 30 rows removed (0.00% passed)\n",
      "2017-04-01 2017-04-09\n",
      "TimeCut Low selection: 108 rows removed (21.74% passed)\n",
      "TimeCut High selection: 11 rows removed (63.33% passed)\n",
      "2017-04-09 2017-04-20\n",
      "TimeCut Low selection: 127 rows removed (7.97% passed)\n",
      "TimeCut High selection: 0 rows removed (100.00% passed)\n"
     ]
    },
    {
     "name": "stderr",
     "output_type": "stream",
     "text": [
      "/project/lgrandi/anaconda3/envs/pax_head/lib/python3.4/site-packages/hax-2.4.0-py3.4.egg/hax/cuts.py:125: UserWarning: Pandas doesn't allow columns to be created via a new attribute name - see https://pandas.pydata.org/pandas-docs/stable/indexing.html#attribute-access\n",
      "  d.cut_history = prev_cuts + [passthrough_dict]\n"
     ]
    },
    {
     "data": {
      "image/png": "[encoded data removed]",
      "text/plain": [
       "<matplotlib.figure.Figure at 0x7f241ec56c88>"
      ]
     },
     "metadata": {},
     "output_type": "display_data"
    }
   ],
   "source": [
    "plt.figure(figsize=(10, 8))\n",
    "index=0\n",
    "for key, df in source_dfs_sr1.items():\n",
    "    if key == 'Krypton':\n",
    "        for t_index, date in enumerate(kr_cal_dates[:-1]):\n",
    "            print(kr_cal_dates[t_index], kr_cal_dates[t_index+1])\n",
    "            df_temp=hax.cuts.selection(df, df.start>kr_cal_dates[t_index], 'TimeCut Low')\n",
    "            df_temp=hax.cuts.selection(df_temp, df_temp.start<kr_cal_dates[t_index+1], 'TimeCut High')\n",
    "            plt.plot(df_temp['start'], df_temp['average_livetime'], \n",
    "                     marker='o', linewidth=0, color=colours[index], label=key)\n",
    "            index+=1\n",
    "        #plt.plot(df['start'], df['average_livetime'], \n",
    "        #        marker='s', linewidth=0, color='black', label=key, markersize=10)\n",
    "\n",
    "plt.xlabel('Date', fontsize=12)\n",
    "#plt.xlim([datetime.date(2017, 3, 1), datetime.date(2017, 4, 20)])\n",
    "plt.legend(loc='best')\n",
    "plt.ylabel('Average Live Time Fraction', fontsize=12)\n",
    "plt.xticks(rotation='vertical')\n",
    "#plt.savefig(\"fig_date_livet.png\", bboxes='tight')\n",
    "#plt.savefig(\"fig_date_livet.pdf\", bboxes='tight')\n",
    "plt.show()\n"
   ]
  },
  {
   "cell_type": "code",
   "execution_count": 113,
   "metadata": {
    "collapsed": false
   },
   "outputs": [
    {
     "name": "stderr",
     "output_type": "stream",
     "text": [
      "/project/lgrandi/anaconda3/envs/pax_head/lib/python3.4/site-packages/hax-2.4.0-py3.4.egg/hax/cuts.py:125: UserWarning: Pandas doesn't allow columns to be created via a new attribute name - see https://pandas.pydata.org/pandas-docs/stable/indexing.html#attribute-access\n",
      "  d.cut_history = prev_cuts + [passthrough_dict]\n",
      " 12%|█▏        | 422/3386 [00:00<00:00, 4212.17it/s]"
     ]
    },
    {
     "name": "stdout",
     "output_type": "stream",
     "text": [
      "Load Data\n",
      "Found 3386 datasets\n",
      "TimeCut Low selection: 0 rows removed (100.00% passed)\n",
      "TimeCut High selection: 426 rows removed (6.37% passed)\n"
     ]
    },
    {
     "name": "stderr",
     "output_type": "stream",
     "text": [
      "100%|██████████| 3386/3386 [00:03<00:00, 876.04it/s] \n",
      " 13%|█▎        | 453/3386 [00:00<00:00, 4528.23it/s]"
     ]
    },
    {
     "name": "stdout",
     "output_type": "stream",
     "text": [
      "TimeCut Low selection: 29 rows removed (93.63% passed)\n",
      "TimeCut High selection: 411 rows removed (3.52% passed)\n"
     ]
    },
    {
     "name": "stderr",
     "output_type": "stream",
     "text": [
      "100%|██████████| 3386/3386 [00:02<00:00, 1403.87it/s]\n",
      " 14%|█▍        | 476/3386 [00:00<00:00, 4751.34it/s]"
     ]
    },
    {
     "name": "stdout",
     "output_type": "stream",
     "text": [
      "TimeCut Low selection: 44 rows removed (90.33% passed)\n",
      "TimeCut High selection: 394 rows removed (4.14% passed)\n"
     ]
    },
    {
     "name": "stderr",
     "output_type": "stream",
     "text": [
      "100%|██████████| 3386/3386 [00:02<00:00, 1141.66it/s]\n",
      " 14%|█▍        | 471/3386 [00:00<00:00, 4706.42it/s]"
     ]
    },
    {
     "name": "stdout",
     "output_type": "stream",
     "text": [
      "TimeCut Low selection: 61 rows removed (86.59% passed)\n",
      "TimeCut High selection: 378 rows removed (4.06% passed)\n"
     ]
    },
    {
     "name": "stderr",
     "output_type": "stream",
     "text": [
      "100%|██████████| 3386/3386 [00:02<00:00, 1454.10it/s]\n",
      " 14%|█▍        | 486/3386 [00:00<00:00, 4850.00it/s]"
     ]
    },
    {
     "name": "stdout",
     "output_type": "stream",
     "text": [
      "TimeCut Low selection: 77 rows removed (83.08% passed)\n",
      "TimeCut High selection: 363 rows removed (3.97% passed)\n"
     ]
    },
    {
     "name": "stderr",
     "output_type": "stream",
     "text": [
      "100%|██████████| 3386/3386 [00:02<00:00, 1601.67it/s]\n",
      " 14%|█▍        | 471/3386 [00:00<00:00, 4705.39it/s]"
     ]
    },
    {
     "name": "stdout",
     "output_type": "stream",
     "text": [
      "TimeCut Low selection: 92 rows removed (79.78% passed)\n",
      "TimeCut High selection: 347 rows removed (4.41% passed)\n"
     ]
    },
    {
     "name": "stderr",
     "output_type": "stream",
     "text": [
      "100%|██████████| 3386/3386 [00:02<00:00, 1536.38it/s]\n",
      " 16%|█▋        | 558/3386 [00:00<00:00, 5571.45it/s]"
     ]
    },
    {
     "name": "stdout",
     "output_type": "stream",
     "text": [
      "TimeCut Low selection: 108 rows removed (76.26% passed)\n",
      "TimeCut High selection: 328 rows removed (5.48% passed)\n"
     ]
    },
    {
     "name": "stderr",
     "output_type": "stream",
     "text": [
      "100%|██████████| 3386/3386 [00:03<00:00, 1127.93it/s]\n",
      " 14%|█▍        | 488/3386 [00:00<00:00, 4878.20it/s]"
     ]
    },
    {
     "name": "stdout",
     "output_type": "stream",
     "text": [
      "TimeCut Low selection: 127 rows removed (72.09% passed)\n",
      "TimeCut High selection: 310 rows removed (5.49% passed)\n"
     ]
    },
    {
     "name": "stderr",
     "output_type": "stream",
     "text": [
      "100%|██████████| 3386/3386 [00:02<00:00, 1658.43it/s]"
     ]
    },
    {
     "name": "stdout",
     "output_type": "stream",
     "text": [
      "CPU times: user 6.84 s, sys: 679 ms, total: 7.52 s\n",
      "Wall time: 21 s\n"
     ]
    },
    {
     "name": "stderr",
     "output_type": "stream",
     "text": [
      "\n"
     ]
    }
   ],
   "source": [
    "%%time\n",
    "\n",
    "kr_cal_dates=[datetime.date(2017, 1, 17), datetime.date(2017, 2, 10), datetime.date(2017, 2, 17), \n",
    "              datetime.date(2017, 2, 24), datetime.date(2017, 3, 3), datetime.date(2017, 3, 10), \n",
    "              datetime.date(2017, 3, 20), datetime.date(2017, 4, 7), datetime.date(2017, 4, 20)]\n",
    "\n",
    "print('Load Data')\n",
    "#simpath= '/home/jpienaar/Test_files/'\n",
    "simpath= '/scratch/midway2/jpienaar/cache_files/'\n",
    "\n",
    "#Find datasets\n",
    "datasets = get_file_list(simpath, '*dt.pkl', ' ')\n",
    "print('Found %d datasets' % len(datasets))\n",
    "n_files=len(datasets)\n",
    "\n",
    "dict_kr_calibrations={}\n",
    "for t_index, date in enumerate(kr_cal_dates[:-1]):\n",
    "    df=datasets_kr\n",
    "    df_temp=hax.cuts.selection(df, df.start>kr_cal_dates[t_index], 'TimeCut Low')\n",
    "    df_temp=hax.cuts.selection(df_temp, df_temp.start<kr_cal_dates[t_index+1], 'TimeCut High')\n",
    "    dataset_names=df_temp['name']\n",
    "    dict_calibration={}\n",
    "    for dataset in tqdm(datasets[:]):\n",
    "        key=dataset[:-7]\n",
    "        if dataset_names.isin([dataset[:-7]]).any():\n",
    "            with open(simpath+dataset, 'rb') as handle:\n",
    "                data_dict = pickle.load(handle)\n",
    "                dict_calibration[key]=data_dict\n",
    "    dict_kr_calibrations['Cal %i' %t_index]=dict_calibration"
   ]
  },
  {
   "cell_type": "code",
   "execution_count": 116,
   "metadata": {
    "collapsed": false
   },
   "outputs": [
    {
     "name": "stdout",
     "output_type": "stream",
     "text": [
      "Cal 3 16\n",
      "1187321\n",
      "Cal 0 29\n",
      "2808031\n",
      "Cal 5 16\n",
      "Cal 5 170310_1215\n"
     ]
    },
    {
     "name": "stderr",
     "output_type": "stream",
     "text": [
      "/project/lgrandi/anaconda3/envs/pax_head/lib/python3.4/site-packages/ipykernel/__main__.py:49: RuntimeWarning: divide by zero encountered in true_divide\n",
      "/project/lgrandi/anaconda3/envs/pax_head/lib/python3.4/site-packages/ipykernel/__main__.py:51: RuntimeWarning: invalid value encountered in multiply\n",
      "/project/lgrandi/anaconda3/envs/pax_head/lib/python3.4/site-packages/ipykernel/__main__.py:52: RuntimeWarning: divide by zero encountered in true_divide\n"
     ]
    },
    {
     "name": "stdout",
     "output_type": "stream",
     "text": [
      "1058963\n",
      "Cal 7 12\n",
      "621796\n",
      "Cal 6 19\n",
      "1413690\n",
      "Cal 1 15\n",
      "1115570\n",
      "Cal 4 15\n",
      "1112301\n",
      "Cal 2 17\n"
     ]
    },
    {
     "name": "stderr",
     "output_type": "stream",
     "text": [
      "/project/lgrandi/anaconda3/envs/pax_head/lib/python3.4/site-packages/ipykernel/__main__.py:49: RuntimeWarning: invalid value encountered in true_divide\n",
      "/project/lgrandi/anaconda3/envs/pax_head/lib/python3.4/site-packages/ipykernel/__main__.py:52: RuntimeWarning: invalid value encountered in true_divide\n"
     ]
    },
    {
     "name": "stdout",
     "output_type": "stream",
     "text": [
      "1352916\n"
     ]
    },
    {
     "data": {
      "image/png": "[encoded data removed]",
      "text/plain": [
       "<matplotlib.figure.Figure at 0x7f24122bad68>"
      ]
     },
     "metadata": {},
     "output_type": "display_data"
    }
   ],
   "source": [
    "#Plots corrected event with error added#\n",
    "colours=['blue', 'orange', 'green', 'magenta', 'cyan', 'red', 'grey', 'black', 'brown']\n",
    "plt.figure(figsize=(10, 8))\n",
    "index=0\n",
    "window_length=10**8\n",
    "_tpoints=np.linspace(0, window_length, 201)\n",
    "_xmin=_tpoints[1]\n",
    "_ymax=1.7e-7\n",
    "events_hist=0\n",
    "events=0\n",
    "index=0\n",
    "\n",
    "for source, dict_data in dict_kr_calibrations.items():\n",
    "    print(source, len(dict_data))\n",
    "    del events_hist\n",
    "    #del livet_hist\n",
    "    events=0\n",
    "    for key, data in dict_data.items():\n",
    "        try:\n",
    "            events_hist\n",
    "            events_hist+=data['deltat']\n",
    "            weight_hist+=data['deltat_weights']\n",
    "            livet_hist+=data['livet_hist']\n",
    "            livet_weight+=data['livet_weights']\n",
    "            events+=data['events']\n",
    "        except NameError:\n",
    "            events_hist=data['deltat']\n",
    "            weight_hist=data['deltat_weights']\n",
    "            livet_hist=data['livet_hist']\n",
    "            livet_weight=data['livet_weights']\n",
    "            events=data['events']\n",
    "        except KeyError:\n",
    "            print(source, key)\n",
    "        \n",
    "    events_hist=events_hist.sum('s2_area')\n",
    "    weight_hist=weight_hist.sum('s2_area')\n",
    "    livet_hist=livet_hist.sum('s2_area')\n",
    "    livet_weight=livet_weight.sum('s2_area')\n",
    "    \n",
    "    #Error\n",
    "    num_value=np.array(events_hist)\n",
    "    denum_value=np.array(livet_hist)\n",
    "    num_error = np.sqrt(weight_hist)\n",
    "    denum_error = np.sqrt(livet_weight)\n",
    "    e1 = num_error\n",
    "    e2 = denum_error\n",
    "    b1 = num_value\n",
    "    b2 = denum_value\n",
    "    w=b1/b2\n",
    "    \n",
    "    ratio_error = np.abs(((1-2*w)*e1*e1 + w*w*e2*e2)/(b2*b2))       \n",
    "    ratio = num_value/denum_value \n",
    "    \n",
    "    #Confidence Bands\n",
    "    x = _tpoints\n",
    "    x = np.sort(np.array(list(x[1:]) + list(x[:-1])))\n",
    "    y1=ratio-np.sqrt(ratio_error)\n",
    "    y2=ratio+np.sqrt(ratio_error)\n",
    "    y_lower = np.repeat(y1[:], 2)\n",
    "    y_upper = np.repeat(y2[:], 2)\n",
    "        \n",
    "    #Plot\n",
    "    plt.step(_tpoints[1:], ratio*1000000, linewidth=3,  color=colours[index], label=source)\n",
    "    plt.fill_between(x, y_lower*1000000, y_upper*1000000, facecolor=colours[index], interpolate=True, alpha = 0.25)\n",
    "    index+=1\n",
    "    \n",
    "    print(events)\n",
    "\n",
    "plt.xlim([_tpoints[5], _tpoints[-2]])\n",
    "plt.ylim([2, 3.75])\n",
    "plt.xlabel('Time Since S2 [ns]', fontsize=12)\n",
    "plt.ylabel('Corrected Peak Rate [ms$^{-1}$]', fontsize=12)\n",
    "axes = plt.gca()\n",
    "axes.tick_params(width=2, length=10)\n",
    "plt.legend(loc='best', fontsize=12)\n",
    "#plt.savefig(\"fig_deltat_example.png\", bboxes='tight')\n",
    "#plt.savefig(\"fig_deltat_example.pdf\", bboxes='tight')\n",
    "#plt.yscale('log')\n",
    "plt.show()"
   ]
  },
  {
   "cell_type": "markdown",
   "metadata": {},
   "source": [
    "1.) Peak rate related to event rate seems to be true in Kr data, though 6th injection (Cal 5), is an outlier. Problematic. Decrease trend aslo not consistent with Rb83 half life"
   ]
  },
  {
   "cell_type": "markdown",
   "metadata": {},
   "source": [
    "### Split by Date of Rn Datasets"
   ]
  },
  {
   "cell_type": "code",
   "execution_count": 119,
   "metadata": {
    "collapsed": false
   },
   "outputs": [
    {
     "name": "stdout",
     "output_type": "stream",
     "text": [
      "2017-01-17 2017-04-01\n",
      "TimeCut Low selection: 0 rows removed (100.00% passed)\n",
      "TimeCut High selection: 164 rows removed (18.00% passed)\n",
      "2017-04-01 2017-06-01\n",
      "TimeCut Low selection: 36 rows removed (82.00% passed)\n",
      "TimeCut High selection: 105 rows removed (35.98% passed)\n",
      "2017-06-01 2017-07-01\n",
      "TimeCut Low selection: 95 rows removed (52.50% passed)\n",
      "TimeCut High selection: 37 rows removed (64.76% passed)\n",
      "2017-07-01 2017-08-01\n",
      "TimeCut Low selection: 163 rows removed (18.50% passed)\n",
      "TimeCut High selection: 11 rows removed (70.27% passed)\n",
      "2017-08-01 2017-09-01\n",
      "TimeCut Low selection: 189 rows removed (5.50% passed)\n",
      "TimeCut High selection: 0 rows removed (100.00% passed)\n"
     ]
    },
    {
     "name": "stderr",
     "output_type": "stream",
     "text": [
      "/project/lgrandi/anaconda3/envs/pax_head/lib/python3.4/site-packages/hax-2.4.0-py3.4.egg/hax/cuts.py:125: UserWarning: Pandas doesn't allow columns to be created via a new attribute name - see https://pandas.pydata.org/pandas-docs/stable/indexing.html#attribute-access\n",
      "  d.cut_history = prev_cuts + [passthrough_dict]\n"
     ]
    },
    {
     "data": {
      "image/png": "[encoded data removed]",
      "text/plain": [
       "<matplotlib.figure.Figure at 0x7f24122915c0>"
      ]
     },
     "metadata": {},
     "output_type": "display_data"
    }
   ],
   "source": [
    "plt.figure(figsize=(10, 8))\n",
    "index=0\n",
    "for key, df in source_dfs_sr1.items():\n",
    "    if key == 'Radon':\n",
    "        for t_index, date in enumerate(rn_cal_dates[:-1]):\n",
    "            print(rn_cal_dates[t_index], rn_cal_dates[t_index+1])\n",
    "            df_temp=hax.cuts.selection(df, df.start>rn_cal_dates[t_index], 'TimeCut Low')\n",
    "            df_temp=hax.cuts.selection(df_temp, df_temp.start<rn_cal_dates[t_index+1], 'TimeCut High')\n",
    "            plt.plot(df_temp['start'], df_temp['average_livetime'], \n",
    "                     marker='o', linewidth=0, color=colours[index], label=key)\n",
    "            index+=1\n",
    "        #plt.plot(df['start'], df['average_livetime'], \n",
    "        #        marker='s', linewidth=0, color='black', label=key, markersize=10)\n",
    "\n",
    "plt.xlabel('Date', fontsize=12)\n",
    "#plt.xlim([datetime.date(2017, 3, 1), datetime.date(2017, 4, 20)])\n",
    "plt.legend(loc='best')\n",
    "plt.ylabel('Average Live Time Fraction', fontsize=12)\n",
    "plt.xticks(rotation='vertical')\n",
    "#plt.savefig(\"fig_date_livet.png\", bboxes='tight')\n",
    "#plt.savefig(\"fig_date_livet.pdf\", bboxes='tight')\n",
    "plt.show()\n"
   ]
  },
  {
   "cell_type": "code",
   "execution_count": 118,
   "metadata": {
    "collapsed": false
   },
   "outputs": [
    {
     "name": "stderr",
     "output_type": "stream",
     "text": [
      "/project/lgrandi/anaconda3/envs/pax_head/lib/python3.4/site-packages/hax-2.4.0-py3.4.egg/hax/cuts.py:125: UserWarning: Pandas doesn't allow columns to be created via a new attribute name - see https://pandas.pydata.org/pandas-docs/stable/indexing.html#attribute-access\n",
      "  d.cut_history = prev_cuts + [passthrough_dict]\n",
      " 14%|█▍        | 480/3386 [00:00<00:00, 4792.11it/s]"
     ]
    },
    {
     "name": "stdout",
     "output_type": "stream",
     "text": [
      "Load Data\n",
      "Found 3386 datasets\n",
      "TimeCut Low selection: 0 rows removed (100.00% passed)\n",
      "TimeCut High selection: 309 rows removed (10.43% passed)\n"
     ]
    },
    {
     "name": "stderr",
     "output_type": "stream",
     "text": [
      "100%|██████████| 3386/3386 [00:05<00:00, 620.43it/s] \n",
      " 13%|█▎        | 450/3386 [00:00<00:00, 4497.15it/s]"
     ]
    },
    {
     "name": "stdout",
     "output_type": "stream",
     "text": [
      "TimeCut Low selection: 36 rows removed (89.57% passed)\n",
      "TimeCut High selection: 250 rows removed (19.09% passed)\n"
     ]
    },
    {
     "name": "stderr",
     "output_type": "stream",
     "text": [
      "100%|██████████| 3386/3386 [00:09<00:00, 366.43it/s] \n",
      " 13%|█▎        | 426/3386 [00:00<00:00, 4256.35it/s]"
     ]
    },
    {
     "name": "stdout",
     "output_type": "stream",
     "text": [
      "TimeCut Low selection: 95 rows removed (72.46% passed)\n",
      "TimeCut High selection: 182 rows removed (27.20% passed)\n"
     ]
    },
    {
     "name": "stderr",
     "output_type": "stream",
     "text": [
      "100%|██████████| 3386/3386 [00:09<00:00, 341.38it/s] \n",
      " 10%|▉         | 330/3386 [00:00<00:00, 3293.26it/s]"
     ]
    },
    {
     "name": "stdout",
     "output_type": "stream",
     "text": [
      "TimeCut Low selection: 163 rows removed (52.75% passed)\n",
      "TimeCut High selection: 156 rows removed (14.29% passed)\n"
     ]
    },
    {
     "name": "stderr",
     "output_type": "stream",
     "text": [
      "100%|██████████| 3386/3386 [00:04<00:00, 767.56it/s] \n",
      " 14%|█▎        | 461/3386 [00:00<00:00, 4604.83it/s]"
     ]
    },
    {
     "name": "stdout",
     "output_type": "stream",
     "text": [
      "TimeCut Low selection: 189 rows removed (45.22% passed)\n",
      "TimeCut High selection: 92 rows removed (41.03% passed)\n"
     ]
    },
    {
     "name": "stderr",
     "output_type": "stream",
     "text": [
      "100%|██████████| 3386/3386 [00:02<00:00, 1530.74it/s]"
     ]
    },
    {
     "name": "stdout",
     "output_type": "stream",
     "text": [
      "CPU times: user 5.46 s, sys: 2.76 s, total: 8.22 s\n",
      "Wall time: 31.3 s\n"
     ]
    },
    {
     "name": "stderr",
     "output_type": "stream",
     "text": [
      "\n"
     ]
    }
   ],
   "source": [
    "%%time\n",
    "\n",
    "rn_cal_dates=[datetime.date(2017, 1, 17), datetime.date(2017, 4, 1), datetime.date(2017, 6, 1), \n",
    "              datetime.date(2017, 7, 1), datetime.date(2017, 8, 1), datetime.date(2017, 9, 1)]\n",
    "\n",
    "print('Load Data')\n",
    "#simpath= '/home/jpienaar/Test_files/'\n",
    "simpath= '/scratch/midway2/jpienaar/cache_files/'\n",
    "\n",
    "#Find datasets\n",
    "datasets = get_file_list(simpath, '*dt.pkl', ' ')\n",
    "print('Found %d datasets' % len(datasets))\n",
    "n_files=len(datasets)\n",
    "\n",
    "dict_rn_calibrations={}\n",
    "for t_index, date in enumerate(rn_cal_dates[:-1]):\n",
    "    df=datasets_rn\n",
    "    df_temp=hax.cuts.selection(df, df.start>rn_cal_dates[t_index], 'TimeCut Low')\n",
    "    df_temp=hax.cuts.selection(df_temp, df_temp.start<rn_cal_dates[t_index+1], 'TimeCut High')\n",
    "    dataset_names=df_temp['name']\n",
    "    dict_calibration={}\n",
    "    for dataset in tqdm(datasets[:]):\n",
    "        key=dataset[:-7]\n",
    "        if dataset_names.isin([dataset[:-7]]).any():\n",
    "            with open(simpath+dataset, 'rb') as handle:\n",
    "                data_dict = pickle.load(handle)\n",
    "                dict_calibration[key]=data_dict\n",
    "    dict_rn_calibrations['Cal %i' %t_index]=dict_calibration"
   ]
  },
  {
   "cell_type": "code",
   "execution_count": 143,
   "metadata": {
    "collapsed": false
   },
   "outputs": [
    {
     "name": "stdout",
     "output_type": "stream",
     "text": [
      "Cal 1 59\n",
      "3400386\n",
      "Cal 3 26\n",
      "2242460\n",
      "Cal 0 36\n",
      "2196794\n",
      "Cal 4 11\n",
      "1149277\n",
      "Cal 2 68\n",
      "4439288\n"
     ]
    },
    {
     "data": {
      "image/png": "[encoded data removed]",
      "text/plain": [
       "<matplotlib.figure.Figure at 0x7f24113e0860>"
      ]
     },
     "metadata": {},
     "output_type": "display_data"
    }
   ],
   "source": [
    "#Plots corrected event with error added#\n",
    "colours=['blue', 'orange', 'green', 'magenta', 'cyan', 'red', 'grey', 'black', 'brown']\n",
    "plt.figure(figsize=(10, 8))\n",
    "index=0\n",
    "window_length=10**8\n",
    "_tpoints=np.linspace(0, window_length, 201)\n",
    "_xmin=_tpoints[1]\n",
    "_ymax=1.7e-7\n",
    "events_hist=0\n",
    "events=0\n",
    "index=0\n",
    "\n",
    "for source, dict_data in dict_rn_calibrations.items():\n",
    "    print(source, len(dict_data))\n",
    "    del events_hist\n",
    "    #del livet_hist\n",
    "    events=0\n",
    "    for key, data in dict_data.items():\n",
    "        try:\n",
    "            events_hist\n",
    "            events_hist+=data['deltat']\n",
    "            weight_hist+=data['deltat_weights']\n",
    "            livet_hist+=data['livet_hist']\n",
    "            livet_weight+=data['livet_weights']\n",
    "            events+=data['events']\n",
    "        except NameError:\n",
    "            events_hist=data['deltat']\n",
    "            weight_hist=data['deltat_weights']\n",
    "            livet_hist=data['livet_hist']\n",
    "            livet_weight=data['livet_weights']\n",
    "            events=data['events']\n",
    "        except KeyError:\n",
    "            print(source, key)\n",
    "        \n",
    "    events_hist=events_hist.sum('s2_area')\n",
    "    weight_hist=weight_hist.sum('s2_area')\n",
    "    livet_hist=livet_hist.sum('s2_area')\n",
    "    livet_weight=livet_weight.sum('s2_area')\n",
    "    \n",
    "    #Error\n",
    "    num_value=np.array(events_hist)\n",
    "    denum_value=np.array(livet_hist)\n",
    "    num_error = np.sqrt(weight_hist)\n",
    "    denum_error = np.sqrt(livet_weight)\n",
    "    e1 = num_error\n",
    "    e2 = denum_error\n",
    "    b1 = num_value\n",
    "    b2 = denum_value\n",
    "    w=b1/b2\n",
    "    \n",
    "    ratio_error = np.abs(((1-2*w)*e1*e1 + w*w*e2*e2)/(b2*b2))       \n",
    "    ratio = num_value/denum_value \n",
    "    \n",
    "    #Confidence Bands\n",
    "    x = _tpoints\n",
    "    x = np.sort(np.array(list(x[1:]) + list(x[:-1])))\n",
    "    y1=ratio-np.sqrt(ratio_error)\n",
    "    y2=ratio+np.sqrt(ratio_error)\n",
    "    y_lower = np.repeat(y1[:], 2)\n",
    "    y_upper = np.repeat(y2[:], 2)\n",
    "        \n",
    "    #Plot\n",
    "    plt.step(_tpoints[1:], ratio*1000000, linewidth=3,  color=colours[index], label=source)\n",
    "    plt.fill_between(x, y_lower*1000000, y_upper*1000000, facecolor=colours[index], interpolate=True, alpha = 0.25)\n",
    "    index+=1\n",
    "    \n",
    "    print(events)\n",
    "\n",
    "plt.xlim([_tpoints[5], _tpoints[-2]])\n",
    "plt.ylim([3.2, 7.5])\n",
    "plt.xlabel('Time Since S2 [ns]', fontsize=12)\n",
    "plt.ylabel('Corrected Peak Rate [ms$^{-1}$]', fontsize=12)\n",
    "axes = plt.gca()\n",
    "axes.tick_params(width=2, length=10)\n",
    "plt.legend(loc='best', fontsize=12)\n",
    "#plt.savefig(\"fig_deltat_example.png\", bboxes='tight')\n",
    "#plt.savefig(\"fig_deltat_example.pdf\", bboxes='tight')\n",
    "#plt.yscale('log')\n",
    "plt.show()"
   ]
  },
  {
   "cell_type": "markdown",
   "metadata": {},
   "source": [
    "Rn data also shows decreasing trend in prak rate. But why though? This would not be expected, as Th228 does not decay over months timescale, and increasing e-lifetime should lead to higher not lower single electron rate.\n",
    "\n",
    "Look at Bkg data. Deocouples \"opening the valve\" effect."
   ]
  },
  {
   "cell_type": "markdown",
   "metadata": {},
   "source": [
    "### Split Bkg data by Date"
   ]
  },
  {
   "cell_type": "code",
   "execution_count": 148,
   "metadata": {
    "collapsed": false
   },
   "outputs": [
    {
     "name": "stdout",
     "output_type": "stream",
     "text": [
      "2017-01-17 2017-03-01\n",
      "TimeCut Low selection: 0 rows removed (100.00% passed)\n",
      "TimeCut High selection: 1545 rows removed (21.53% passed)\n",
      "2017-03-01 2017-04-01\n",
      "TimeCut Low selection: 424 rows removed (78.47% passed)\n",
      "TimeCut High selection: 1332 rows removed (13.79% passed)\n",
      "2017-04-01 2017-05-01\n",
      "TimeCut Low selection: 637 rows removed (67.65% passed)\n",
      "TimeCut High selection: 729 rows removed (45.27% passed)\n",
      "2017-05-01 2017-06-01\n",
      "TimeCut Low selection: 1240 rows removed (37.02% passed)\n",
      "TimeCut High selection: 325 rows removed (55.42% passed)\n",
      "2017-06-01 2017-07-01\n",
      "TimeCut Low selection: 1644 rows removed (16.51% passed)\n",
      "TimeCut High selection: 0 rows removed (100.00% passed)\n"
     ]
    },
    {
     "name": "stderr",
     "output_type": "stream",
     "text": [
      "/project/lgrandi/anaconda3/envs/pax_head/lib/python3.4/site-packages/hax-2.4.0-py3.4.egg/hax/cuts.py:125: UserWarning: Pandas doesn't allow columns to be created via a new attribute name - see https://pandas.pydata.org/pandas-docs/stable/indexing.html#attribute-access\n",
      "  d.cut_history = prev_cuts + [passthrough_dict]\n"
     ]
    },
    {
     "data": {
      "image/png": "[encoded data removed]",
      "text/plain": [
       "<matplotlib.figure.Figure at 0x7f241e9767f0>"
      ]
     },
     "metadata": {},
     "output_type": "display_data"
    }
   ],
   "source": [
    "plt.figure(figsize=(10, 8))\n",
    "index=0\n",
    "for key, df in source_dfs_sr1.items():\n",
    "    if key == 'Background':\n",
    "        for t_index, date in enumerate(bkg_cal_dates[:-1]):\n",
    "            print(bkg_cal_dates[t_index], bkg_cal_dates[t_index+1])\n",
    "            df_temp=hax.cuts.selection(df, df.start>bkg_cal_dates[t_index], 'TimeCut Low')\n",
    "            df_temp=hax.cuts.selection(df_temp, df_temp.start<bkg_cal_dates[t_index+1], 'TimeCut High')\n",
    "            plt.plot(df_temp['start'], df_temp['average_livetime'], \n",
    "                     marker='o', linewidth=0, color=colours[index], label=key)\n",
    "            index+=1\n",
    "        #plt.plot(df['start'], df['average_livetime'], \n",
    "        #        marker='s', linewidth=0, color='black', label=key, markersize=10)\n",
    "\n",
    "plt.xlabel('Date', fontsize=12)\n",
    "#plt.xlim([datetime.date(2017, 2, 1), datetime.date(2017, 3, 1)])\n",
    "plt.ylim([0, 0.005])\n",
    "plt.legend(loc='best')\n",
    "plt.ylabel('Average Live Time Fraction', fontsize=12)\n",
    "plt.xticks(rotation='vertical')\n",
    "#plt.savefig(\"fig_date_livet.png\", bboxes='tight')\n",
    "#plt.savefig(\"fig_date_livet.pdf\", bboxes='tight')\n",
    "plt.show()\n"
   ]
  },
  {
   "cell_type": "code",
   "execution_count": 130,
   "metadata": {
    "collapsed": false
   },
   "outputs": [
    {
     "name": "stderr",
     "output_type": "stream",
     "text": [
      "/project/lgrandi/anaconda3/envs/pax_head/lib/python3.4/site-packages/hax-2.4.0-py3.4.egg/hax/cuts.py:125: UserWarning: Pandas doesn't allow columns to be created via a new attribute name - see https://pandas.pydata.org/pandas-docs/stable/indexing.html#attribute-access\n",
      "  d.cut_history = prev_cuts + [passthrough_dict]\n",
      " 13%|█▎        | 431/3386 [00:00<00:00, 4300.49it/s]"
     ]
    },
    {
     "name": "stdout",
     "output_type": "stream",
     "text": [
      "Load Data\n",
      "Found 3386 datasets\n",
      "TimeCut Low selection: 0 rows removed (100.00% passed)\n",
      "TimeCut High selection: 5965 rows removed (6.64% passed)\n"
     ]
    },
    {
     "name": "stderr",
     "output_type": "stream",
     "text": [
      "100%|██████████| 3386/3386 [00:41<00:00, 80.80it/s]  \n",
      " 14%|█▎        | 459/3386 [00:00<00:00, 4588.18it/s]"
     ]
    },
    {
     "name": "stdout",
     "output_type": "stream",
     "text": [
      "TimeCut Low selection: 424 rows removed (93.36% passed)\n",
      "TimeCut High selection: 5752 rows removed (3.57% passed)\n"
     ]
    },
    {
     "name": "stderr",
     "output_type": "stream",
     "text": [
      "100%|██████████| 3386/3386 [00:25<00:00, 134.08it/s] \n",
      " 11%|█         | 377/3386 [00:00<00:00, 3767.87it/s]"
     ]
    },
    {
     "name": "stdout",
     "output_type": "stream",
     "text": [
      "TimeCut Low selection: 637 rows removed (90.03% passed)\n",
      "TimeCut High selection: 5132 rows removed (10.78% passed)\n"
     ]
    },
    {
     "name": "stderr",
     "output_type": "stream",
     "text": [
      "100%|██████████| 3386/3386 [01:03<00:00, 53.53it/s]  \n",
      " 13%|█▎        | 441/3386 [00:00<00:00, 4400.87it/s]"
     ]
    },
    {
     "name": "stdout",
     "output_type": "stream",
     "text": [
      "TimeCut Low selection: 1257 rows removed (80.33% passed)\n",
      "TimeCut High selection: 4728 rows removed (7.87% passed)\n"
     ]
    },
    {
     "name": "stderr",
     "output_type": "stream",
     "text": [
      "100%|██████████| 3386/3386 [00:53<00:00, 63.58it/s]  \n",
      " 14%|█▍        | 483/3386 [00:00<00:00, 4793.56it/s]"
     ]
    },
    {
     "name": "stdout",
     "output_type": "stream",
     "text": [
      "TimeCut Low selection: 1661 rows removed (74.00% passed)\n",
      "TimeCut High selection: 4380 rows removed (7.36% passed)\n"
     ]
    },
    {
     "name": "stderr",
     "output_type": "stream",
     "text": [
      "100%|██████████| 3386/3386 [00:36<00:00, 93.48it/s]  "
     ]
    },
    {
     "name": "stdout",
     "output_type": "stream",
     "text": [
      "CPU times: user 20 s, sys: 14.4 s, total: 34.4 s\n",
      "Wall time: 3min 39s\n"
     ]
    },
    {
     "name": "stderr",
     "output_type": "stream",
     "text": [
      "\n"
     ]
    }
   ],
   "source": [
    "%%time\n",
    "\n",
    "bkg_cal_dates=[datetime.date(2017, 1, 17), datetime.date(2017, 3, 1), datetime.date(2017, 4, 1), \n",
    "              datetime.date(2017, 5, 1), datetime.date(2017, 6, 1), datetime.date(2017, 7, 1)]\n",
    "\n",
    "print('Load Data')\n",
    "#simpath= '/home/jpienaar/Test_files/'\n",
    "simpath= '/scratch/midway2/jpienaar/cache_files/'\n",
    "\n",
    "#Find datasets\n",
    "datasets = get_file_list(simpath, '*dt.pkl', ' ')\n",
    "print('Found %d datasets' % len(datasets))\n",
    "n_files=len(datasets)\n",
    "\n",
    "dict_bkg_calibrations={}\n",
    "for t_index, date in enumerate(bkg_cal_dates[:-1]):\n",
    "    df=datasets_bkg\n",
    "    df_temp=hax.cuts.selection(df, df.start>bkg_cal_dates[t_index], 'TimeCut Low')\n",
    "    df_temp=hax.cuts.selection(df_temp, df_temp.start<bkg_cal_dates[t_index+1], 'TimeCut High')\n",
    "    dataset_names=df_temp['name']\n",
    "    dict_calibration={}\n",
    "    for dataset in tqdm(datasets[:]):\n",
    "        key=dataset[:-7]\n",
    "        if dataset_names.isin([dataset[:-7]]).any():\n",
    "            with open(simpath+dataset, 'rb') as handle:\n",
    "                data_dict = pickle.load(handle)\n",
    "                dict_calibration[key]=data_dict\n",
    "    dict_bkg_calibrations['Cal %i' %t_index]=dict_calibration"
   ]
  },
  {
   "cell_type": "code",
   "execution_count": 134,
   "metadata": {
    "collapsed": false
   },
   "outputs": [
    {
     "name": "stdout",
     "output_type": "stream",
     "text": [
      "Cal 1 213\n"
     ]
    },
    {
     "name": "stderr",
     "output_type": "stream",
     "text": [
      "/project/lgrandi/anaconda3/envs/pax_head/lib/python3.4/site-packages/ipykernel/__main__.py:49: RuntimeWarning: divide by zero encountered in true_divide\n",
      "/project/lgrandi/anaconda3/envs/pax_head/lib/python3.4/site-packages/ipykernel/__main__.py:51: RuntimeWarning: invalid value encountered in multiply\n",
      "/project/lgrandi/anaconda3/envs/pax_head/lib/python3.4/site-packages/ipykernel/__main__.py:52: RuntimeWarning: divide by zero encountered in true_divide\n"
     ]
    },
    {
     "name": "stdout",
     "output_type": "stream",
     "text": [
      "933914\n",
      "Cal 3 404\n",
      "1784090\n",
      "Cal 0 424\n",
      "Cal 0 170209_0611\n",
      "Cal 0 170209_0812\n",
      "1687568\n",
      "Cal 4 325\n",
      "Cal 4 170620_2215\n",
      "Cal 4 170620_2315\n",
      "1093421\n",
      "Cal 2 603\n",
      "Cal 2 170411_2114\n",
      "2232675\n"
     ]
    },
    {
     "data": {
      "image/png": "[encoded data removed]",
      "text/plain": [
       "<matplotlib.figure.Figure at 0x7f2410a4c550>"
      ]
     },
     "metadata": {},
     "output_type": "display_data"
    }
   ],
   "source": [
    "#Plots corrected event with error added#\n",
    "colours=['blue', 'orange', 'green', 'magenta', 'cyan', 'red', 'grey', 'black', 'brown']\n",
    "plt.figure(figsize=(10, 8))\n",
    "index=0\n",
    "window_length=10**8\n",
    "_tpoints=np.linspace(0, window_length, 201)\n",
    "_xmin=_tpoints[1]\n",
    "_ymax=1.7e-7\n",
    "events_hist=0\n",
    "events=0\n",
    "index=0\n",
    "\n",
    "for source, dict_data in dict_bkg_calibrations.items():\n",
    "    print(source, len(dict_data))\n",
    "    del events_hist\n",
    "    #del livet_hist\n",
    "    events=0\n",
    "    for key, data in dict_data.items():\n",
    "        try:\n",
    "            events_hist\n",
    "            events_hist+=data['deltat']\n",
    "            weight_hist+=data['deltat_weights']\n",
    "            livet_hist+=data['livet_hist']\n",
    "            livet_weight+=data['livet_weights']\n",
    "            events+=data['events']\n",
    "        except NameError:\n",
    "            events_hist=data['deltat']\n",
    "            weight_hist=data['deltat_weights']\n",
    "            livet_hist=data['livet_hist']\n",
    "            livet_weight=data['livet_weights']\n",
    "            events=data['events']\n",
    "        except KeyError:\n",
    "            print(source, key)\n",
    "        \n",
    "    events_hist=events_hist.sum('s2_area')\n",
    "    weight_hist=weight_hist.sum('s2_area')\n",
    "    livet_hist=livet_hist.sum('s2_area')\n",
    "    livet_weight=livet_weight.sum('s2_area')\n",
    "    \n",
    "    #Error\n",
    "    num_value=np.array(events_hist)\n",
    "    denum_value=np.array(livet_hist)\n",
    "    num_error = np.sqrt(weight_hist)\n",
    "    denum_error = np.sqrt(livet_weight)\n",
    "    e1 = num_error\n",
    "    e2 = denum_error\n",
    "    b1 = num_value\n",
    "    b2 = denum_value\n",
    "    w=b1/b2\n",
    "    \n",
    "    ratio_error = np.abs(((1-2*w)*e1*e1 + w*w*e2*e2)/(b2*b2))       \n",
    "    ratio = num_value/denum_value \n",
    "    \n",
    "    #Confidence Bands\n",
    "    x = _tpoints\n",
    "    x = np.sort(np.array(list(x[1:]) + list(x[:-1])))\n",
    "    y1=ratio-np.sqrt(ratio_error)\n",
    "    y2=ratio+np.sqrt(ratio_error)\n",
    "    y_lower = np.repeat(y1[:], 2)\n",
    "    y_upper = np.repeat(y2[:], 2)\n",
    "        \n",
    "    #Plot\n",
    "    plt.step(_tpoints[1:], ratio*1000000, linewidth=3,  color=colours[index], label=source)\n",
    "    plt.fill_between(x, y_lower*1000000, y_upper*1000000, facecolor=colours[index], interpolate=True, alpha = 0.25)\n",
    "    index+=1\n",
    "    \n",
    "    print(events)\n",
    "\n",
    "plt.xlim([_tpoints[5], _tpoints[-2]])\n",
    "plt.ylim([2.0, 6])\n",
    "plt.xlabel('Time Since S2 [ns]', fontsize=12)\n",
    "plt.ylabel('Corrected Peak Rate [ms$^{-1}$]', fontsize=12)\n",
    "axes = plt.gca()\n",
    "axes.tick_params(width=2, length=10)\n",
    "plt.legend(loc='best', fontsize=12)\n",
    "#plt.savefig(\"fig_deltat_example.png\", bboxes='tight')\n",
    "#plt.savefig(\"fig_deltat_example.pdf\", bboxes='tight')\n",
    "#plt.yscale('log')\n",
    "plt.show()"
   ]
  },
  {
   "cell_type": "markdown",
   "metadata": {},
   "source": [
    "From background seems different \"rates\" between different radon and krypton calibrations much more likely to be correlated to different \"valve\" conditions than enything else"
   ]
  },
  {
   "cell_type": "markdown",
   "metadata": {},
   "source": [
    "### Nxxt up look at individual energy lines to check decay of single electron rate. Also remove AFT values and reprocess pkl files"
   ]
  },
  {
   "cell_type": "code",
   "execution_count": null,
   "metadata": {
    "collapsed": true
   },
   "outputs": [],
   "source": []
  },
  {
   "cell_type": "code",
   "execution_count": null,
   "metadata": {
    "collapsed": true
   },
   "outputs": [],
   "source": []
  },
  {
   "cell_type": "code",
   "execution_count": null,
   "metadata": {
    "collapsed": true
   },
   "outputs": [],
   "source": []
  },
  {
   "cell_type": "code",
   "execution_count": null,
   "metadata": {
    "collapsed": true
   },
   "outputs": [],
   "source": []
  },
  {
   "cell_type": "code",
   "execution_count": null,
   "metadata": {
    "collapsed": true
   },
   "outputs": [],
   "source": [
    "###TODO!!!!! NOrmalize next 3 cells by number of S2s of given size"
   ]
  },
  {
   "cell_type": "code",
   "execution_count": null,
   "metadata": {
    "collapsed": false
   },
   "outputs": [],
   "source": [
    "##Live Time Corrected 2d Plots##\n",
    "\n",
    "#plt.figure(figsize=(10, 8))\n",
    "colours=['blue', 'orange', 'green']\n",
    "index=0\n",
    "_xmax=10**8\n",
    "_tpoints=np.linspace(0, _xmax, 201)\n",
    "_xmin=_tpoints[1]\n",
    "_ymax=1.7e-7\n",
    "livet_hist=0\n",
    "events=0\n",
    "plt.set_cmap(\"Oranges\")\n",
    "\n",
    "_s2bins=50\n",
    "_tbins=200\n",
    "for source, dict_data in dict_source.items():\n",
    "    print(source, len(dict_data))\n",
    "    plt.figure(figsize=(10, 8))\n",
    "    del events_hist\n",
    "    del livet_hist\n",
    "    events=0\n",
    "    for key, data in dict_data.items():\n",
    "        try:\n",
    "            events_hist\n",
    "            events_hist+=data['deltat']\n",
    "            livet_hist+=data['livet_hist']\n",
    "            events+=data['events']\n",
    "        except NameError:\n",
    "            events_hist=data['deltat']\n",
    "            livet_hist=data['livet_hist']\n",
    "            events=data['events']\n",
    "    \n",
    "    \n",
    "    blank_hist=events_hist.similar_blank_histogram()\n",
    "    for idt in range(_tbins):\n",
    "        for ids2 in range (_s2bins):\n",
    "            #blank_hist[idt][ids2]=\n",
    "            bin_content=events_hist[idt][ids2]/livet_hist[idt][ids2]\n",
    "            if np.isnan(bin_content):\n",
    "                blank_hist[idt][ids2]=0\n",
    "            else:\n",
    "                blank_hist[idt][ids2]=bin_content\n",
    "    \n",
    "    blank_hist=blank_hist*10**6 #ms adjustment\n",
    "    blank_hist.plot(cblabel = 'Corrected Event Rate [ms$^{-1}$.S2$^{-1}$]', vmax=1*10**1, vmin =0)\n",
    "    plt.xlabel('Time Since S2 [ns]', fontsize=12)\n",
    "    plt.ylabel('S2 Size [Log10(PE)]', fontsize=12)\n",
    "    #plt.savefig(\"fig_%s_2d_rate_corrected.png\" %source, bboxes='tight')\n",
    "    #plt.savefig(\"fig_%s_2d_rate_corrected.pdf\" %source, bboxes='tight')\n",
    "    plt.show()    \n",
    "\n",
    "   \n",
    "    #new_hist.plot(label=source, color=colours[index])\n",
    "    #index+=1\n"
   ]
  },
  {
   "cell_type": "code",
   "execution_count": null,
   "metadata": {
    "collapsed": false
   },
   "outputs": [],
   "source": [
    "#plt.figure(figsize=(10, 8))\n",
    "colours=['blue', 'orange', 'green']\n",
    "index=0\n",
    "_xmax=10**8\n",
    "_tpoints=np.linspace(0, _xmax, 201)\n",
    "_xmin=_tpoints[1]\n",
    "_ymax=1.7e-7\n",
    "events_hist=0\n",
    "events=0\n",
    "plt.set_cmap(\"Oranges\")\n",
    "for source, dict_data in dict_source.items():\n",
    "    print(source)\n",
    "    plt.figure(figsize=(10, 8))\n",
    "    del events_hist\n",
    "    events=0\n",
    "    for key, data in dict_data.items():\n",
    "        try:\n",
    "            events_hist\n",
    "            events_hist+=data['deltat']\n",
    "            events+=data['events']\n",
    "        except NameError:\n",
    "            events_hist=data['deltat']\n",
    "            events=data['events']\n",
    "    \n",
    "    new_hist=events_hist/events\n",
    "    new_hist.plot(cblabel = 'Uncorrected Events [ns$^{-1}$.S2$^{-1}$]', norm=LogNorm(), vmin=10**-11, vmax=10**-7)\n",
    "    plt.xlabel('Time Since S2 [ns]', fontsize=12)\n",
    "    plt.ylabel('S2 Size [Log10(PE)]', fontsize=12)\n",
    "    #plt.savefig(\"fig_%s_2d_rate.png\" %source, bboxes='tight')\n",
    "    #plt.savefig(\"fig_%s_2d_rate.pdf\" %source, bboxes='tight')\n",
    "    plt.show()    \n",
    "\n",
    "   \n",
    "    #new_hist.plot(label=source, color=colours[index])\n",
    "    #index+=1\n"
   ]
  },
  {
   "cell_type": "code",
   "execution_count": null,
   "metadata": {
    "collapsed": false
   },
   "outputs": [],
   "source": [
    "#plt.figure(figsize=(10, 8))\n",
    "colours=['blue', 'orange', 'green']\n",
    "index=0\n",
    "_xmax=10**8\n",
    "_tpoints=np.linspace(0, _xmax, 201)\n",
    "_xmin=_tpoints[1]\n",
    "_ymax=1.7e-7\n",
    "events_hist=0\n",
    "events=0\n",
    "plt.set_cmap(\"Oranges\")\n",
    "for source, dict_data in dict_source.items():\n",
    "    print(source)\n",
    "    plt.figure(figsize=(10, 8))\n",
    "    del events_hist\n",
    "    events=0\n",
    "    for key, data in dict_data.items():\n",
    "        try:\n",
    "            events_hist\n",
    "            events_hist+=data['livet_hist']\n",
    "            events+=data['events']\n",
    "        except NameError:\n",
    "            events_hist=data['livet_hist']\n",
    "            events=data['events']\n",
    "    \n",
    "    new_hist=events_hist/events\n",
    "    new_hist.plot(cblabel = 'Live Time Fraction [bin$^{-1}$.S2$^{-1}$]', norm=LogNorm(), vmin=10**-6, vmax=10**-2)\n",
    "    plt.xlabel('Time Since S2 [ns]', fontsize=12)\n",
    "    plt.ylabel('S2 Size [Log10(PE)]', fontsize=12)\n",
    "    #plt.savefig(\"fig_%s_2d_livetime.png\" %source, bboxes='tight')\n",
    "    #plt.savefig(\"fig_%s_2d_livetime.pdf\" %source, bboxes='tight')\n",
    "    plt.show()    \n",
    "\n",
    "   \n",
    "    #new_hist.plot(label=source, color=colours[index])\n",
    "    #index+=1\n"
   ]
  },
  {
   "cell_type": "code",
   "execution_count": null,
   "metadata": {
    "collapsed": false
   },
   "outputs": [],
   "source": [
    "#plt.figure(figsize=(10, 8))\n",
    "colours=['blue', 'orange', 'green']\n",
    "index=0\n",
    "_xmax=10**8\n",
    "_tpoints=np.linspace(0, _xmax, 201)\n",
    "_xmin=_tpoints[1]\n",
    "_ymax=1.7e-7\n",
    "peaks_hist=0\n",
    "events=0\n",
    "for source, dict_data in dict_source.items():\n",
    "    print(source)\n",
    "    plt.figure(figsize=(10, 8))\n",
    "    del peaks_hist\n",
    "    events=0\n",
    "    for key, data in dict_data.items():\n",
    "        try:\n",
    "            peaks_hist\n",
    "            peaks_hist+=data['peaks']\n",
    "            events+=data['events']\n",
    "        except NameError:\n",
    "            peaks_hist=data['peaks']\n",
    "            events=data['events']\n",
    "    \n",
    "    new_hist=peaks_hist/events\n",
    "    new_hist.plot(cblabel = 'Uncorrected Events [ns$^{-1}$]' ,norm=LogNorm(), vmin=10**-11, vmax=10**-7)\n",
    "    plt.xlabel('Time Since S2 [ns]', fontsize=12)\n",
    "    plt.ylabel('Peak Size [Log10(PE)]', fontsize=12)\n",
    "    #plt.savefig(\"fig_%s_2d_peaks.png\" %source, bboxes='tight')\n",
    "    #plt.savefig(\"fig_%s_2d_peaks.pdf\" %source, bboxes='tight')\n",
    "    plt.show()    \n",
    "\n",
    "   \n"
   ]
  },
  {
   "cell_type": "markdown",
   "metadata": {},
   "source": [
    "### Position Correlation Stuff"
   ]
  },
  {
   "cell_type": "code",
   "execution_count": null,
   "metadata": {
    "collapsed": false
   },
   "outputs": [],
   "source": [
    "#plt.figure(figsize=(10, 8))\n",
    "colours=['blue', 'orange', 'green', 'red', 'magenta', 'cyan']\n",
    "index=0\n",
    "_ymin=2*10**-3\n",
    "_xmax=(47.9)**2\n",
    "_rpoints=np.linspace(0, (R_tpc)**2, 101)\n",
    "_ymax=0.8*10**0\n",
    "r2_hist=0\n",
    "for source, dict_data in dict_source.items():\n",
    "    plt.figure(figsize=(10, 4))\n",
    "    print(source, len(dict_data))\n",
    "    del r2_hist\n",
    "    events=0\n",
    "    for key, data in dict_data.items():\n",
    "        #print(key)\n",
    "        try:\n",
    "            r2_hist\n",
    "            r2_hist+=data['dt_r2']\n",
    "            events+=data['events']\n",
    "        except NameError:\n",
    "            r2_hist = data['dt_r2']\n",
    "            events=data['events']\n",
    "      \n",
    "    new_hist=r2_hist\n",
    "    new_hist=new_hist/events\n",
    "    new_hist=new_hist.sum('delta_T')\n",
    "    new_hist.plot(label=source, color='blue')\n",
    "    \n",
    "    random_comp = dfs_source_distrib_hist[source]['alpha']\n",
    "    r_norms = dfs_source_distrib_hist[source]['r_norms']\n",
    "\n",
    "    content, bins = np.histogram(random_comp[:, 0]**2, weights=1/r_norms, bins=100, range=[0, (R_tpc)**2])\n",
    "    scaling_factor=np.sum(new_hist[:])/np.sum(content)\n",
    "    plt.hist(random_comp[:, 0]**2, weights=scaling_factor/r_norms, range=[0, (R_tpc)**2], bins=100, \n",
    "             histtype='stepfilled', linewidth=2, label='%s Sim' %source, color='green', alpha=0.5)\n",
    "    #print(np.nansum(random_comp[:,0]**2/r_norms))\n",
    "    \n",
    "    \n",
    "    #event_max=np.max(new_hist)\n",
    "    #plt.hlines(0.1*event_max, 0, _xmax, color=colours[index], linestyle=\":\")\n",
    "   \n",
    "    idx=1\n",
    "    for bin_value in new_hist[1:]:\n",
    "        if bin_value<(content[idx]*scaling_factor):\n",
    "            plt.vlines(_rpoints[idx], 0, _ymax, color='red', \n",
    "                       linestyle=\"dashed\", label='%.2f cm' %float(np.sqrt(_rpoints[idx])))\n",
    "            break\n",
    "        idx+=1\n",
    "    \n",
    "    plt.xlim([0, _xmax])\n",
    "    plt.ylim([_ymin, _ymax])\n",
    "    plt.xlabel('Distance [cm$^{2}$]', fontsize=12)\n",
    "    plt.ylabel('Normalized Peaks [cm$^{-2}$.100ms$^{-1}$]', fontsize=12)\n",
    "    plt.legend(loc='best', fontsize=12)\n",
    "    plt.yscale('log')\n",
    "    #plt.savefig(\"fig_%s_r_dependence_100ms.png\" %source, bboxes='tight')\n",
    "    #plt.savefig(\"fig_%s_r_dependence_100ms.pdf\" %source, bboxes='tight')\n",
    "    plt.show()\n"
   ]
  },
  {
   "cell_type": "code",
   "execution_count": null,
   "metadata": {
    "collapsed": false
   },
   "outputs": [],
   "source": [
    "#t_bins=[0, 5*10**8, 2*10**9]\n",
    "livet_tbin_width=0.5*10**6\n",
    "t_bins=np.linspace(0, 1.5*10**8, 7)\n",
    "_xmax=(R_tpc)**2\n",
    "r_bins=np.linspace(0, (R_tpc)**2, 101)\n",
    "for source, dict_data in dict_source.items():\n",
    "    print(source)\n",
    "    plt.figure(figsize=(10, 4))\n",
    "    dt_r2_hist=0\n",
    "    livet_hist=0\n",
    "    events=0\n",
    "    del dt_r2_hist\n",
    "    del livet_hist\n",
    "    for key, data in dict_data.items():\n",
    "        try:\n",
    "            dt_r2_hist\n",
    "            dt_r2_hist+=data['dt_r2'] \n",
    "            livet_hist+=data['livet_hist']  \n",
    "            events+=data['events']\n",
    "        except NameError:\n",
    "            dt_r2_hist = data['dt_r2']\n",
    "            livet_hist = data['livet_hist']  \n",
    "            events = data['events']\n",
    " \n",
    "    livet_hist=livet_hist.sum('s2_area')\n",
    "    for index, delta_t in enumerate(t_bins[::2]):      \n",
    "        start_time = t_bins[index]\n",
    "        stop_time  = t_bins[index+1]\n",
    "        #print(start_time, stop_time)\n",
    "        new_hist=dt_r2_hist.slicesum(start=start_time, stop=stop_time,axis='delta_T')\n",
    "\n",
    "        #Livetime in slice\n",
    "        start_bin = np.floor(start_time/(livet_tbin_width))\n",
    "        stop_bin  = np.floor(stop_time/(livet_tbin_width))\n",
    "        livet_correction = np.average(livet_hist[start_bin:stop_bin])\n",
    "        #print(start_bin, stop_bin, livet_correction)        \n",
    "        \n",
    "        new_hist=new_hist/livet_correction\n",
    "        new_hist.plot(label='%d - %d ms'%(start_time/10**6, stop_time/10**6))\n",
    "                    \n",
    "\n",
    "    plt.xlim([0, _xmax])\n",
    "    plt.xlabel('Distance [cm2]', fontsize=12)\n",
    "    plt.ylabel('Normalized Peaks [cm$^{-2}$.ms$^{-1}$]', fontsize=12)\n",
    "    plt.legend(loc='best', fontsize=12)\n",
    "    plt.ylim([4*10**-1, 3*10])\n",
    "    plt.yscale('log')\n",
    "    plt.savefig(\"fig_%s_r_dep_timeslices.png\" %source, bboxes='tight')\n",
    "    plt.savefig(\"fig_%s_r_dep_timeslices.pdf\" %source, bboxes='tight')\n",
    "    plt.show()\n"
   ]
  },
  {
   "cell_type": "code",
   "execution_count": null,
   "metadata": {
    "collapsed": false,
    "scrolled": false
   },
   "outputs": [],
   "source": [
    "t_bins=np.linspace(0, 1*10**8, 5)\n",
    "_xmax=(R_tpc)**2\n",
    "r_bins=np.linspace(0, (R_tpc)**2, 101)\n",
    "for source, dict_data in dict_source.items():\n",
    "    print(source)\n",
    "    plt.figure(figsize=(10, 4))\n",
    "    dt_r2_hist=0\n",
    "    livet_hist=0\n",
    "    events=0\n",
    "    del dt_r2_hist\n",
    "    del livet_hist\n",
    "    for key, data in dict_data.items():\n",
    "        try:\n",
    "            dt_r2_hist\n",
    "            dt_r2_hist+=data['dt_r2'] \n",
    "            livet_hist+=data['livet_hist']  \n",
    "            events+=data['events']\n",
    "        except NameError:\n",
    "            dt_r2_hist = data['dt_r2']\n",
    "            livet_hist = data['livet_hist']  \n",
    "            events = data['events']\n",
    " \n",
    "    livet_hist=livet_hist.sum('s2_area')\n",
    "    for index, delta_t in enumerate(t_bins[::2]):\n",
    "        #Time Slice Hist\n",
    "        start_time = t_bins[index]\n",
    "        stop_time  = t_bins[index+1]\n",
    "        #print(start_time, stop_time)\n",
    "        new_hist=dt_r2_hist.slicesum(start=start_time, stop=stop_time,axis='delta_T')\n",
    "\n",
    "        #Livetime in slice\n",
    "        start_bin = np.floor(start_time/(livet_tbin_width))\n",
    "        stop_bin  = np.floor(stop_time/(livet_tbin_width))\n",
    "        livet_correction = np.average(livet_hist[start_bin:stop_bin])\n",
    "        #print(start_bin, stop_bin, livet_correction)        \n",
    "        \n",
    "        new_hist=new_hist/livet_correction\n",
    "        \n",
    "        #Reference time window hist\n",
    "        ref_start_time=t_bins[-2]\n",
    "        ref_stop_time=t_bins[-1]\n",
    "        #print(ref_start_time, ref_stop_time)\n",
    "        ref_hist=dt_r2_hist.slicesum(start=ref_start_time, stop=ref_stop_time,axis='delta_T')\n",
    "        \n",
    "        #Livetime in reference slice\n",
    "        ref_start_bin = np.floor(ref_start_time/(livet_tbin_width))\n",
    "        ref_stop_bin  = np.floor(ref_stop_time/(livet_tbin_width))\n",
    "        ref_livet_correction = np.average(livet_hist[ref_start_bin:ref_stop_bin])\n",
    "        #print(ref_start_bin, ref_stop_bin, ref_livet_correction)  \n",
    "        ref_hist=ref_hist/ref_livet_correction\n",
    "\n",
    "        #Difference Hist\n",
    "        diff_hist=(new_hist-ref_hist)/ref_hist\n",
    "        diff_hist.plot(label='%d - %d ms'%(start_time/10**6, stop_time/10**6))\n",
    "             \n",
    "        #const_std=np.std(diff_hist[25:75])\n",
    "        #const_ave=np.average(diff_hist[25:75])\n",
    "        plt.hlines(0, 0, _xmax, color='r', linestyle=\":\")\n",
    "        #plt.fill_between(r_bins, [const_ave-const_std]*len(r_bins), [const_ave+const_std]*len(r_bins),alpha=0.25,facecolor=colours[index])\n",
    "        #print(const_std, )\n",
    "        \n",
    "        \n",
    "        #new_hist.plot(label=index)\n",
    "    plt.xlim([0, _xmax])\n",
    "    plt.xlabel('Distance [cm$^{2}$]', fontsize=12)\n",
    "    plt.ylabel('Relative Difference', fontsize=12)\n",
    "    plt.legend(loc='best', fontsize=12)\n",
    "    plt.ylim([-0.35, 1])\n",
    "    #plt.yscale('log')\n",
    "    plt.savefig(\"fig_%s_r_diff_timeslices.png\" %source, bboxes='tight')\n",
    "    plt.savefig(\"fig_%s_r_diff_timeslices.pdf\" %source, bboxes='tight')\n",
    "    plt.show()\n"
   ]
  },
  {
   "cell_type": "markdown",
   "metadata": {},
   "source": [
    "### X/Y Slixes"
   ]
  },
  {
   "cell_type": "code",
   "execution_count": null,
   "metadata": {
    "collapsed": false
   },
   "outputs": [],
   "source": [
    "_spatial_bins=50\n",
    "_xbins=np.linspace(-50, 50, _spatial_bins+1)\n",
    "_ybins=np.linspace(-50, 50, _spatial_bins+1)\n",
    "xv, yv = np.meshgrid(_xbins, _ybins)\n",
    "array_hist = np.zeros((_spatial_bins, _spatial_bins))\n",
    "xc = np.zeros_like(array_hist)\n",
    "yc = np.zeros_like(array_hist)\n",
    "\n",
    "r_lower=15\n",
    "r_upper=20\n",
    "key_search=[]\n",
    "\n",
    "for idx, x_edge in tqdm(enumerate(xv[:-1])):\n",
    "    for idy, y_edge in enumerate(yv[:-1]):\n",
    "        xc[idx, idy]=xv[idx][idy]+(xv[idx][idy+1]-xv[idx][idy])/2\n",
    "        yc[idx, idy]=yv[idx][idy]+(yv[idx+1][idy]-yv[idx][idy])/2\n",
    "        \n",
    "        rc = np.sqrt(xc[idx, idy]**2+yc[idx, idy]**2)\n",
    "        \n",
    "        if rc>r_lower and rc<r_upper:\n",
    "            key_search.append('%d_%d' %(xc[idx, idy], yc[idx, idy]))"
   ]
  },
  {
   "cell_type": "code",
   "execution_count": null,
   "metadata": {
    "collapsed": false,
    "scrolled": true
   },
   "outputs": [],
   "source": [
    "%%time\n",
    "print('Data')\n",
    "#simpath= '/scratch/midway2/jpienaar/cache_files/'\n",
    "simpath= '/scratch/midway2/jpienaar/cache_files/'\n",
    "\n",
    "#Find datasets\n",
    "datasets = get_file_list(simpath, '*xy.pkl', ' ')\n",
    "print('Found %d datasets' % len(datasets))\n",
    "n_files=len(datasets)\n",
    "\n",
    "dicts_datasets_rn_xy={}\n",
    "dicts_datasets_kr_xy={}\n",
    "dicts_datasets_bkg_xy={}\n",
    "for dataset in tqdm(datasets[:]):\n",
    "    #print(key)\n",
    "    key=dataset[:-7]\n",
    "    if dataset_names_rn.isin([dataset[:-7]]).any():\n",
    "        #print('Radon')\n",
    "        xy_hist=0\n",
    "        with open(simpath+dataset, 'rb') as handle:\n",
    "            data_dict = pickle.load(handle)\n",
    "            del xy_hist\n",
    "            for pos_key in data_dict.keys():\n",
    "                if pos_key in key_search:\n",
    "                    #print('True', data_dict[pos_key]['xy'].n)\n",
    "                    try:\n",
    "                        xy_hist\n",
    "                        xy_hist+=data_dict[pos_key]['xy']\n",
    "                    except NameError:\n",
    "                        xy_hist = data_dict[pos_key]['xy']\n",
    "        #print(xy_hist.n)\n",
    "        dicts_datasets_rn_xy[key]=xy_hist\n",
    "        del data_dict\n",
    "            \n",
    "    if dataset_names_kr.isin([dataset[:-7]]).any():\n",
    "        #print('Krypton')\n",
    "        xy_hist=0\n",
    "        with open(simpath+dataset, 'rb') as handle:\n",
    "            data_dict = pickle.load(handle)\n",
    "            del xy_hist\n",
    "            for pos_key in data_dict.keys():\n",
    "                if pos_key in key_search:\n",
    "                    #print('True', data_dict[pos_key]['xy'].n)\n",
    "                    try:\n",
    "                        xy_hist\n",
    "                        xy_hist+=data_dict[pos_key]['xy']\n",
    "                    except NameError:\n",
    "                        xy_hist = data_dict[pos_key]['xy']\n",
    "        #print(xy_hist.n)\n",
    "        dicts_datasets_kr_xy[key]=xy_hist\n",
    "        del data_dict\n",
    "            \n",
    "    if dataset_names_bkg.isin([dataset[:-7]]).any():\n",
    "        #print('Bkg')\n",
    "        xy_hist=0\n",
    "        with open(simpath+dataset, 'rb') as handle:\n",
    "            data_dict = pickle.load(handle)\n",
    "            del xy_hist\n",
    "            for pos_key in data_dict.keys():\n",
    "                if pos_key in key_search:\n",
    "                    #print('True', data_dict[pos_key]['xy'].n)\n",
    "                    try:\n",
    "                        xy_hist\n",
    "                        xy_hist+=data_dict[pos_key]['xy']\n",
    "                    except NameError:\n",
    "                        xy_hist = data_dict[pos_key]['xy']\n",
    "        #print(xy_hist.n)\n",
    "        dicts_datasets_bkg_xy[key]=xy_hist\n",
    "        del data_dict\n",
    "  \n",
    "#df_PI=pd.concat(df_PI)"
   ]
  },
  {
   "cell_type": "code",
   "execution_count": null,
   "metadata": {
    "collapsed": true
   },
   "outputs": [],
   "source": [
    "dict_source_xy={'Radon' : dicts_datasets_rn_xy, 'Krypton': dicts_datasets_kr_xy, 'Background' : dicts_datasets_bkg_xy}"
   ]
  },
  {
   "cell_type": "code",
   "execution_count": null,
   "metadata": {
    "collapsed": false,
    "scrolled": false
   },
   "outputs": [],
   "source": [
    "#plt.figure(figsize=(10, 8))\n",
    "index=0\n",
    "_ymin=10**-3\n",
    "_xmax=(2*47.9)**2\n",
    "_rpoints=np.linspace(0, (2*R_tpc)**2, 101)\n",
    "_ymax=10\n",
    "xy_hist=0\n",
    "t_bins=np.linspace(0, 2*10**8, 5)\n",
    "for source, dict_data in dict_source_xy.items():\n",
    "    numrows=1\n",
    "    numcols=len(t_bins)-2\n",
    "    plt.figure(figsize=(10*numcols, 8))\n",
    "    print(source)\n",
    "    if source=='Background':\n",
    "        continue\n",
    "    del xy_hist\n",
    "    for key, data in dict_data.items():\n",
    "        #print(key)\n",
    "        try:\n",
    "            xy_hist\n",
    "            xy_hist+=data\n",
    "        except NameError:\n",
    "            xy_hist = data\n",
    "            \n",
    "    new_hist=xy_hist\n",
    "    new_hist=new_hist/len(dict_data)\n",
    "    \n",
    "    #plt.hlines(0.1*event_max, 0, _xmax, color=colours[index], linestyle=\":\")\n",
    "\n",
    "    for index, delta_t in enumerate(t_bins[::2]):\n",
    "        plt.subplot2grid((numrows,numcols), (0, index))\n",
    "        ax = plt.gca()\n",
    "        circle1 = plt.Circle((0, 0),  r_lower, color='red', fill=False, linewidth=3, linestyle=':')\n",
    "        ax.add_artist(circle1)\n",
    "        circle1 = plt.Circle((0, 0),  r_upper, color='red', fill=False, linewidth=3, linestyle=':')\n",
    "        ax.add_artist(circle1)\n",
    "        \n",
    "        slice_hist=new_hist.slicesum(start=t_bins[index], stop=t_bins[index+1],axis='delta_T')\n",
    "        slice_hist.plot(norm=LogNorm(), cblabel='Normalized Entries', vmin=5*10**-11, vmax=5*10**-9)\n",
    "        plt.xlabel('X  [cm]', fontsize=12)\n",
    "        plt.ylabel('Y  [cm]', fontsize=12)\n",
    "\n",
    "\n",
    "    plt.savefig(\"fig_%s_%i_peaks_xy.png\" %(source, r_lower), bboxes='tight')\n",
    "    plt.savefig(\"fig_%s_%i_peaks_xy.pdf\" %(source, r_lower), bboxes='tight')\n",
    "    plt.show()\n"
   ]
  },
  {
   "cell_type": "code",
   "execution_count": null,
   "metadata": {
    "collapsed": false
   },
   "outputs": [],
   "source": [
    "numcols\n",
    "np.floor(len(t_bins)/2)"
   ]
  },
  {
   "cell_type": "code",
   "execution_count": null,
   "metadata": {
    "collapsed": false
   },
   "outputs": [],
   "source": [
    "#plt.figure(figsize=(10, 8))\n",
    "colours=['blue', 'orange', 'green']\n",
    "index=0\n",
    "_ymin=10**-3\n",
    "_xmax=(2*47.9)**2\n",
    "_rpoints=np.linspace(0, (2*R_tpc)**2, 101)\n",
    "_ymax=10\n",
    "xy_hist=0\n",
    "for source, dict_data in dict_source_xy.items():\n",
    "    plt.figure(figsize=(10, 8))\n",
    "    print(source)\n",
    "    if source=='Background':\n",
    "        continue\n",
    "    del xy_hist\n",
    "    for key, data in dict_data.items():\n",
    "        #print(key)\n",
    "        try:\n",
    "            xy_hist\n",
    "            xy_hist+=data\n",
    "        except NameError:\n",
    "            xy_hist = data\n",
    "            \n",
    "    new_hist=xy_hist\n",
    "    new_hist=new_hist/len(dict_data)\n",
    "    \n",
    "    #plt.hlines(0.1*event_max, 0, _xmax, color=colours[index], linestyle=\":\")\n",
    "\n",
    "    ax = plt.gca()\n",
    "    circle1 = plt.Circle((0, 0),  r_lower, color='red', fill=False, linewidth=3, linestyle=':')\n",
    "    ax.add_artist(circle1)\n",
    "    circle1 = plt.Circle((0, 0),  r_upper, color='red', fill=False, linewidth=3, linestyle=':')\n",
    "    ax.add_artist(circle1)\n",
    "    \n",
    "    new_hist=new_hist.slicesum(start=1*10**8, stop=2*10**8,axis='delta_T')\n",
    "    print(np.average(new_hist))\n",
    "    new_hist.plot(label=source, norm=LogNorm())\n",
    "    index+=1\n",
    "\n",
    "#plt.xlim([0, _xmax])\n",
    "#plt.ylim([_ymin, _ymax])\n",
    "    plt.xlabel('X  [cm]', fontsize=12)\n",
    "    plt.ylabel('Y  [cm]', fontsize=12)\n",
    "#plt.legend(loc='best', fontsize=12)\n",
    "#plt.yscale('log')\n",
    "    #plt.savefig(\"fig_%s_%i_peaks_xy.png\" %(source, r_lower), bboxes='tight')\n",
    "    #plt.savefig(\"fig_%s_%i_peaks_xy.pdf\" %(source, r_lower), bboxes='tight')\n",
    "    plt.show()\n"
   ]
  },
  {
   "cell_type": "markdown",
   "metadata": {},
   "source": [
    "### Testing R normalization"
   ]
  },
  {
   "cell_type": "code",
   "execution_count": null,
   "metadata": {
    "collapsed": false
   },
   "outputs": [],
   "source": [
    "#Uniform Distrib\n",
    "coords=np.random.random([100000, 2])\n",
    "new_array=[]\n",
    "closed_array=[]\n",
    "open_array=[]\n",
    "alpha_array=[]\n",
    "r_norms=[]\n",
    "s2_ypos=20\n",
    "s2_xpos=-23\n",
    "rpos=np.sqrt(s2_xpos**2+s2_ypos**2)\n",
    "for pos in coords:\n",
    "    xpos=R_tpc*(2*pos[0]-1)\n",
    "    ypos=R_tpc*(2*pos[1]-1)\n",
    "    if (ypos**2+xpos**2)>R_tpc**2:\n",
    "        continue\n",
    "    else:\n",
    "        xpos=R_tpc*(2*pos[0]-1)\n",
    "        ypos=R_tpc*(2*pos[1]-1)\n",
    "        new_array.append([xpos, ypos])\n",
    "        \n",
    "        r_dist=np.sqrt((xpos-(s2_xpos))**2+(ypos-(s2_ypos))**2)\n",
    "        alpha = np.arccos((r_dist**2+rpos**2-R_tpc**2)/(2*rpos*r_dist))\n",
    "        r_norm = (alpha/np.pi)\n",
    "        if np.isnan(alpha):\n",
    "            alpha=-1\n",
    "            r_norm=1\n",
    "            closed_array.append([xpos, ypos])\n",
    "        elif alpha>0.5*np.pi:\n",
    "            open_array.append([xpos, ypos])\n",
    "        new_array.append([xpos, ypos])\n",
    "        alpha_array.append([r_dist, alpha])\n",
    "        r_norms.append(r_norm)\n",
    "        \n",
    "      "
   ]
  },
  {
   "cell_type": "code",
   "execution_count": null,
   "metadata": {
    "collapsed": false
   },
   "outputs": [],
   "source": [
    "plt.figure(figsize=(8, 8))\n",
    "plt.scatter(new_array[:, 0], new_array[:, 1])\n",
    "plt.scatter(closed_array[:, 0], closed_array[:, 1])\n",
    "plt.scatter(open_array[:, 0], open_array[:, 1])\n",
    "plt.scatter(s2_xpos, s2_ypos, color='r', s=20)\n",
    "plt.xlabel('X  [cm]', fontsize=12)\n",
    "plt.ylabel('Y  [cm]', fontsize=12)\n",
    "#plt.savefig('fig_r_norm_illustration.png')"
   ]
  },
  {
   "cell_type": "code",
   "execution_count": null,
   "metadata": {
    "collapsed": false
   },
   "outputs": [],
   "source": [
    "%%time\n",
    "#Load Data To Sample From\n",
    "\n",
    "print('Radon Data')\n",
    "#simpath= '/home/jpienaar/Test_files/'\n",
    "simpath= '/scratch/midway2/jpienaar/cache_files/'\n",
    "\n",
    "#Find datasets\n",
    "datasets = get_file_list(simpath, '*Pre_trigger.hdf5', ' ')\n",
    "print('Found %d datasets' % len(datasets))\n",
    "n_files=len(datasets)\n",
    "\n",
    "datasets_rn=[]\n",
    "datasets_kr=[]\n",
    "datasets_bkg=[]\n",
    "for dataset in tqdm(datasets[:]):\n",
    "    run_number=dataset[:-17]\n",
    "    if dataset_names_rn.isin([run_number]).any():\n",
    "        while len(datasets_rn)<10:\n",
    "            cache_file_name = '/scratch/midway2/jpienaar/cache_files/'+run_number+ '_Pre_trigger.hdf5'\n",
    "            #print (run_number, cache_file_name)\n",
    "            df = hax.minitrees.load(cache_file = cache_file_name)\n",
    "            datasets_rn.append(df)\n",
    "            \n",
    "    elif dataset_names_bkg.isin([run_number]).any():\n",
    "        while len(datasets_bkg)<10:\n",
    "            cache_file_name = '/scratch/midway2/jpienaar/cache_files/'+run_number+ '_Pre_trigger.hdf5'\n",
    "            #print (run_number, cache_file_name)\n",
    "            df = hax.minitrees.load(cache_file = cache_file_name)\n",
    "            datasets_bkg.append(df)\n",
    "            \n",
    "    elif dataset_names_kr.isin([run_number]).any():\n",
    "        while len(datasets_kr)<10:\n",
    "            cache_file_name = '/scratch/midway2/jpienaar/cache_files/'+run_number+ '_Pre_trigger.hdf5'\n",
    "            #print (run_number, cache_file_name)\n",
    "            df = hax.minitrees.load(cache_file = cache_file_name)\n",
    "            datasets_kr.append(df)\n",
    "              \n",
    "    \n",
    "datasets_rn=pd.concat(datasets_rn)\n",
    "datasets_kr=pd.concat(datasets_kr)\n",
    "datasets_bkg=pd.concat(datasets_bkg)"
   ]
  },
  {
   "cell_type": "code",
   "execution_count": null,
   "metadata": {
    "collapsed": true
   },
   "outputs": [],
   "source": [
    "dfs_source_distrib={'Background': {'data':datasets_bkg},\n",
    "                    'Radon': {'data': datasets_rn},\n",
    "                    'Krypton': {'data': datasets_kr}}"
   ]
  },
  {
   "cell_type": "code",
   "execution_count": null,
   "metadata": {
    "collapsed": false
   },
   "outputs": [],
   "source": [
    "#Distrib from Data\n",
    "dfs_source_distrib_hist={}\n",
    "sample_num=1000\n",
    "for key, source in dfs_source_distrib.items():\n",
    "    print(key)\n",
    "    df=source['data']\n",
    "    alpha_array=[]\n",
    "    r_norms=[]\n",
    "    unique_y=pd.unique(df['y_s2_tpf'].values)\n",
    "    unique_x=pd.unique(df['x_s2_tpf'].values)\n",
    "    unique_events=[[x, y] for x, y in zip(unique_x, unique_y)]\n",
    "    sampled_df=df.filter(['x_p_tpf','y_p_tpf'])\n",
    "    sampled_df=sampled_df.sample(sample_num)\n",
    "    for unique_s2 in tqdm(unique_events[:sample_num]):\n",
    "        s2_ypos=unique_s2[1]\n",
    "        s2_xpos=unique_s2[0]\n",
    "        rpos=np.sqrt(s2_xpos**2+s2_ypos**2)\n",
    "        for peak_key, peak in sampled_df.iterrows():\n",
    "            xpos=peak['x_p_tpf']\n",
    "            ypos=peak['y_p_tpf']\n",
    "            new_array.append([xpos, ypos])\n",
    "\n",
    "            r_dist=np.sqrt((xpos-(s2_xpos))**2+(ypos-(s2_ypos))**2)\n",
    "            alpha = np.arccos((r_dist**2+rpos**2-R_tpc**2)/(2*rpos*r_dist))\n",
    "            r_norm = (alpha/np.pi)\n",
    "            if np.isnan(alpha):\n",
    "                alpha=-1\n",
    "                r_norm=1\n",
    "            alpha_array.append([r_dist, alpha])\n",
    "            r_norms.append(r_norm)\n",
    "\n",
    "    alpha_array=np.array(alpha_array)\n",
    "    r_norms=np.array(r_norms)\n",
    "    dfs_source_distrib_hist[key]={'alpha': alpha_array, 'r_norms': r_norms}"
   ]
  },
  {
   "cell_type": "code",
   "execution_count": null,
   "metadata": {
    "collapsed": false
   },
   "outputs": [],
   "source": [
    "plt.figure(figsize=(10, 8))\n",
    "for key, source in dfs_source_distrib_hist.items():\n",
    "    alpha_array=source['alpha']\n",
    "    r_norms=source['r_norms']\n",
    "    print(key,len(alpha_array), len(r_norms))\n",
    "    plt.hist(alpha_array[:, 0]**2, weights=1/r_norms, range=[0, (2*R_tpc)**2], bins=100, histtype='step', linewidth=2, label=key)\n",
    "    #plt.vlines((R_tpc-rpos)**2, 0, 5000)\n",
    "    #plt.vlines((R_tpc+rpos)**2, 0, 5000)\n",
    "plt.yscale('log')\n",
    "plt.xlim([0, (2*R_tpc)**2])\n",
    "plt.ylabel('Normalized Events [cm$^{-2}$]', fontsize=12)\n",
    "plt.xlabel('R  [cm$^{2}$]', fontsize=12)\n",
    "plt.legend(loc='best')\n",
    "#plt.savefig('fig_r2_norm_illustration_weighted.png')\n",
    "plt.show()"
   ]
  },
  {
   "cell_type": "code",
   "execution_count": null,
   "metadata": {
    "collapsed": false
   },
   "outputs": [],
   "source": [
    "plt.figure(figsize=(10, 8))\n",
    "plt.hist(alpha_array[:, 0]**2, range=[0, (2*R_tpc)**2], bins=100, histtype='step', linewidth=2)\n",
    "#plt.vlines((R_tpc-rpos)**2, 0, 5000)\n",
    "#plt.vlines((R_tpc+rpos)**2, 0, 5000)\n",
    "#plt.ylim([0, 5000])\n",
    "plt.yscale('log')\n",
    "plt.ylabel('Normalized Events [cm$^{-2}$]', fontsize=12)\n",
    "plt.xlabel('R  [cm$^{2}$]', fontsize=12)\n",
    "#plt.savefig('fig_r2_norm_illustration.png')\n",
    "\n",
    "plt.show()"
   ]
  },
  {
   "cell_type": "code",
   "execution_count": null,
   "metadata": {
    "collapsed": false
   },
   "outputs": [],
   "source": [
    "plt.figure(figsize=(8, 8))\n",
    "plt.scatter(alpha_array[:, 0], r_norms)"
   ]
  },
  {
   "cell_type": "markdown",
   "metadata": {
    "deletable": true,
    "editable": true
   },
   "source": [
    "### Search for Photo-Ionization events ###"
   ]
  },
  {
   "cell_type": "code",
   "execution_count": null,
   "metadata": {
    "collapsed": false,
    "deletable": true,
    "editable": true,
    "scrolled": false
   },
   "outputs": [],
   "source": [
    "#plt.set_cmap('viridis')\n",
    "plt.clf()\n",
    "_xbins=np.linspace(700, 800, 100)\n",
    "_ybins=np.linspace(0, 5, 100)\n",
    "plt.figure(figsize=(30, 8))\n",
    "numrows=1\n",
    "numcols=2\n",
    "gridspec.GridSpec(numrows, numcols)\n",
    "index=0\n",
    "for key, df in dict_datasets.items():\n",
    "    print(key)\n",
    "    plt.figure(figsize=(20, 8))\n",
    "    \n",
    "    #Time delay from S1\n",
    "    plt.subplot2grid((numrows, numcols), (index, 0))\n",
    "    plt.hist2d((df['drift_time']+df['time_since_s2'])/1000,       #us         \n",
    "               df['se_range_50p_area']/1000,                      #us\n",
    "               bins =[_xbins, _ybins], norm=LogNorm(), vmin=1)\n",
    "    plt.colorbar()\n",
    "    plt.xlabel('Time delay from main S1 [$\\mu$s]')\n",
    "    plt.ylabel('Peak Width [$\\mu$s]')\n",
    "    \n",
    "    #Time delay from S2\n",
    "    plt.subplot2grid((numrows, numcols), (index, 1))\n",
    "    plt.plot(_xbins, cut_line(_xbins, 0.35, 0), color='r', linewidth=5)\n",
    "    plt.hist2d((df['time_since_s2'])/1000,       #us         \n",
    "               df['se_range_50p_area']/1000,                      #us\n",
    "               bins =[_xbins, _ybins], norm=LogNorm(), vmin=1)\n",
    "    plt.colorbar()\n",
    "    plt.xlabel('Time delay from main S2 [$\\mu$s]')\n",
    "    plt.ylabel('Peak Width [$\\mu$s]')\n",
    "    \n",
    "    plt.show()\n",
    "#fig.tight_layout()\n",
    "#fig.show()"
   ]
  },
  {
   "cell_type": "code",
   "execution_count": null,
   "metadata": {
    "collapsed": false,
    "deletable": true,
    "editable": true
   },
   "outputs": [],
   "source": [
    "#Based on cuts from previous plot, select photo ionization events from gate\n",
    "dict_gate_pi={}\n",
    "for key, df in dict_datasets.items():\n",
    "    df_gate_pi = hax.cuts.selection(df, df['se_range_50p_area']>cut_line(df['time_since_s2'], 0.35, 0), 'Cut Line')\n",
    "    df_gate_pi = hax.cuts.range_selection(df_gate_pi, 'time_since_s2', [2500, 6000])\n",
    "    dict_gate_pi[key]=df_gate_pi"
   ]
  },
  {
   "cell_type": "code",
   "execution_count": null,
   "metadata": {
    "collapsed": false,
    "deletable": true,
    "editable": true,
    "scrolled": false
   },
   "outputs": [],
   "source": [
    "#plt.set_cmap('viridis')\n",
    "plt.clf()\n",
    "_xbins=np.linspace(0, 300000, 100)\n",
    "_ybins=np.linspace(0, 30000, 100)\n",
    "_relbins=np.linspace(0, 0.2, 100)\n",
    "_driftbins=np.linspace(0, 50, 100)\n",
    "_widthbins=np.linspace(0, 6, 100)\n",
    "index=0\n",
    "for key, df in dict_gate_pi.items():\n",
    "    \n",
    "    df = hax.cuts.selection(df, df['area']>1500, 'Peak Size Selection')\n",
    "    \n",
    "    print(key)\n",
    "    numrows=1\n",
    "    numcols=3\n",
    "    fig=plt.figure(figsize=(10*numcols, 8*numrows))\n",
    "    gridspec.GridSpec(numrows, numcols)\n",
    "    \n",
    "    #Relative Size compared to primary S2\n",
    "    plt.subplot2grid((numrows, numcols), (index, 0))\n",
    "    plt.hist2d((df['s2']),       #ep         \n",
    "               df['area']/df['s2'],       #pe\n",
    "               bins =[_xbins, _relbins], #norm=LogNorm(), vmin=1,\n",
    "               )\n",
    "    plt.colorbar()\n",
    "    plt.xlabel('S2 [pe]')\n",
    "    plt.ylabel('Peak Area/S2 Size')\n",
    "    \n",
    "    #Primary S2 compared to peak width\n",
    "    plt.subplot2grid((numrows, numcols), (index, 1))\n",
    "    plt.hist2d(df['s2'],       #ep         \n",
    "               df['se_range_50p_area']/1000,       #pe\n",
    "               bins =[_xbins, _widthbins], norm=LogNorm(), vmin=1,\n",
    "               )\n",
    "    plt.colorbar()\n",
    "    plt.xlabel('S2 Size [pe]')\n",
    "    plt.ylabel('Peak Width [$\\mu$s]')\n",
    "    \n",
    "    #Drift time of event\n",
    "    plt.subplot2grid((numrows, numcols), (index, 2))\n",
    "    plt.hist2d(df['drift_time']/1000,       #ep         \n",
    "               df['area'],       #pe\n",
    "               bins =[_driftbins, _ybins], norm=LogNorm(), vmin=1,\n",
    "               )\n",
    "    plt.colorbar()\n",
    "    plt.xlabel('Drift_Time [$\\mu$s]')\n",
    "    plt.ylabel('Peak Area [pe]')\n",
    "    \n",
    "    ax1=plt.gca()\n",
    "    ax2=ax1.twinx()\n",
    "    ax2.hist(df['drift_time']/1000, bins=_driftbins, color='r', histtype='step', linewidth=3, log=True)\n",
    "    ax2.set_ylabel('Counts', color = 'r')\n",
    "    ax2.tick_params(axis='y', colors='r')\n",
    "\n",
    " \n",
    "    \n",
    "    plt.show()\n",
    "fig.tight_layout()\n",
    "#fig.show()"
   ]
  },
  {
   "cell_type": "code",
   "execution_count": null,
   "metadata": {
    "collapsed": false,
    "deletable": true,
    "editable": true,
    "scrolled": false
   },
   "outputs": [],
   "source": [
    "plt.clf()\n",
    "_xbins=np.linspace(-50, 50, 100)\n",
    "_ybins=np.linspace(-50, 50, 100)\n",
    "_channelbins=np.linspace(0, 100, 101)\n",
    "for key, df in dict_gate_pi.items():\n",
    "    \n",
    "    df = hax.cuts.selection(df, df['area']>1500, 'Peak Size Selection')\n",
    "    \n",
    "    print(key)\n",
    "    numrows=1\n",
    "    numcols=2\n",
    "    fig=plt.figure(figsize=(10*numcols, 8*numrows))\n",
    "    gridspec.GridSpec(numrows, numcols)\n",
    "    \n",
    "    #X-Y Distribution\n",
    "    plt.subplot2grid((numrows, numcols), (index, 0))\n",
    "    plt.hist2d((df['x_se']),       #ep         \n",
    "               df['y_se'],       #pe\n",
    "               bins =[_xbins, _ybins], norm=LogNorm(), vmin=1,\n",
    "               )\n",
    "    plt.colorbar()\n",
    "    plt.xlabel('X [cm]')\n",
    "    plt.ylabel('Y [cm]')\n",
    "    \n",
    "    \n",
    "    #N Channels\n",
    "    plt.subplot2grid((numrows, numcols), (index, 1))\n",
    "    plt.hist(df['n_contributing_channels'],\n",
    "               bins=_channelbins\n",
    "               )\n",
    "    plt.colorbar()\n",
    "    plt.xlabel('Channels [#]')\n",
    "    plt.ylabel('Counts [#]')\n",
    "    \n",
    "   \n",
    "    plt.show()\n",
    "fig.tight_layout()\n",
    "#fig.show()"
   ]
  },
  {
   "cell_type": "code",
   "execution_count": null,
   "metadata": {
    "collapsed": false,
    "deletable": true,
    "editable": true
   },
   "outputs": [],
   "source": [
    "%%time\n",
    "# Determine number of waveforms in each data sample\n",
    "for key, df in dict_gate_pi.items():\n",
    "    df = hax.cuts.selection(df, df['area']>1500, 'Peak Size Selection')\n",
    "    files = df['run_number'].unique()\n",
    "    count = 0\n",
    "    for run in files:\n",
    "        df_run= df.loc[df['run_number']==run]\n",
    "        count+=len(df_run['event_number'].unique())\n",
    "    print(key, count)"
   ]
  },
  {
   "cell_type": "markdown",
   "metadata": {
    "deletable": true,
    "editable": true
   },
   "source": [
    "### Look at Width of Peaks ###"
   ]
  },
  {
   "cell_type": "code",
   "execution_count": null,
   "metadata": {
    "collapsed": false,
    "deletable": true,
    "editable": true,
    "scrolled": false
   },
   "outputs": [],
   "source": [
    "plt.set_cmap('viridis')\n",
    "plt.figure(figsize=(30, 8))\n",
    "#numrows=3\n",
    "#numcols=1\n",
    "#gridspec.GridSpec(numrows, numcols)\n",
    "#index=0\n",
    "for key, dataset in datasets.items():\n",
    "    print(key)\n",
    "    plt.figure(figsize=(10, 8))\n",
    "    #plt.subplot2grid((numrows, numcols), (index, 0))\n",
    "    #dataset = hax.cuts.selection(data_radon_sr1,  data_radon_sr1['n_hits']<100, 'SE Selection')\n",
    "    plt.hist2d(dataset['drift_time'], dataset['s2_range_50p_area'], bins =[100, 100], range=[[0, 750000], [0, 2500]], norm=LogNorm(), vmin=1)\n",
    "    plt.colorbar()\n",
    "    plt.xlabel('S2 Drift Time [$\\mu$s]')\n",
    "    plt.ylabel('S2 Width [ns]')\n",
    "    plt.show()\n",
    "#fig.tight_layout()\n",
    "#fig.show()"
   ]
  },
  {
   "cell_type": "code",
   "execution_count": null,
   "metadata": {
    "collapsed": false,
    "deletable": true,
    "editable": true
   },
   "outputs": [],
   "source": [
    "def cut_line(x, m, c):\n",
    "    return m*x+c"
   ]
  },
  {
   "cell_type": "code",
   "execution_count": null,
   "metadata": {
    "collapsed": false,
    "deletable": true,
    "editable": true,
    "scrolled": false
   },
   "outputs": [],
   "source": [
    "#plt.set_cmap('viridis')\n",
    "for key, dataset in datasets.items():\n",
    "    print(key)\n",
    "    plt.figure(figsize=(10, 8))\n",
    "    x_hits = np.linspace(0, 15000, 100)\n",
    "    plt.plot(x_hits, cut_line(x_hits, 2, -1000), color='r', linewidth=5)\n",
    "    #plt.plot(x_hits, cut_line(x_hits, 0.3, -200), color='g', linewidth=5)\n",
    "    plt.hist2d(dataset['n_hits'], dataset['se_range_50p_area'], bins =[100, 100], range=[[0, 20000], [0, 10000]], norm=LogNorm(), vmin=1)\n",
    "    plt.colorbar()\n",
    "    plt.xlabel('Hits')\n",
    "    plt.ylabel('SE Width [ns]')\n",
    "    plt.savefig('All_peaks_line.png')\n",
    "    plt.show()"
   ]
  },
  {
   "cell_type": "code",
   "execution_count": null,
   "metadata": {
    "collapsed": false,
    "deletable": true,
    "editable": true
   },
   "outputs": [],
   "source": [
    "datasets_hits_small={}\n",
    "datasets_hits_large={}\n",
    "for key, dataset in datasets.items():\n",
    "    print(key)\n",
    "    dataset_small=hax.cuts.selection(dataset, dataset['se_range_50p_area']<cut_line(dataset['n_hits'], 2, -1000), 'n_hits Selection small')\n",
    "    dataset_large=hax.cuts.selection(dataset, dataset['se_range_50p_area']>cut_line(dataset['n_hits'], 2, -1000), 'n_hits Selection large')\n",
    "    datasets_hits_small.update({key:dataset_small})\n",
    "    datasets_hits_large.update({key:dataset_large})"
   ]
  },
  {
   "cell_type": "code",
   "execution_count": null,
   "metadata": {
    "collapsed": false,
    "deletable": true,
    "editable": true,
    "scrolled": false
   },
   "outputs": [],
   "source": [
    "for key, dataset in datasets_hits_small.items():\n",
    "    print(key)\n",
    "    plt.figure(figsize=(10, 8))\n",
    "    #dataset = hax.cuts.selection(data_radon_sr1,  data_radon_sr1['n_hits']<100, 'SE Selection')\n",
    "    plt.hist2d(dataset['drift_time']+dataset['time_since_s2'], dataset['se_range_50p_area'], bins =[100, 100], range=[[0, 2000000], [0, 5000]], norm=LogNorm(), vmin=1)\n",
    "    plt.colorbar()\n",
    "    plt.xlabel('SE Drift Time [ns]')\n",
    "    plt.ylabel('SE Width [ns]')\n",
    "    plt.savefig('Large_n_hits.png')\n",
    "    plt.show()"
   ]
  },
  {
   "cell_type": "code",
   "execution_count": null,
   "metadata": {
    "collapsed": false,
    "deletable": true,
    "editable": true
   },
   "outputs": [],
   "source": [
    "len(data_bkg.event_number.unique())"
   ]
  },
  {
   "cell_type": "code",
   "execution_count": null,
   "metadata": {
    "collapsed": false,
    "deletable": true,
    "editable": true
   },
   "outputs": [],
   "source": [
    "len(datasets_hits_small['bkg'])"
   ]
  },
  {
   "cell_type": "code",
   "execution_count": null,
   "metadata": {
    "collapsed": false,
    "deletable": true,
    "editable": true
   },
   "outputs": [],
   "source": [
    "datasets_tmp={}\n",
    "for key, dataset in datasets_hits_small.items():\n",
    "    print(key)\n",
    "    dataset_tmp=hax.cuts.selection(dataset, dataset['type']=='s2', 'S2 Selection')\n",
    "    dataset_tmp=hax.cuts.selection(dataset, dataset['drift_time']+dataset['time_since_s2']<745000, 'Drift not in TPC')\n",
    "    datasets_tmp.update({key:dataset_tmp})"
   ]
  },
  {
   "cell_type": "code",
   "execution_count": null,
   "metadata": {
    "collapsed": false,
    "deletable": true,
    "editable": true
   },
   "outputs": [],
   "source": [
    "for key, dataset in datasets_tmp1.items():\n",
    "    print(key)\n",
    "    plt.figure(figsize=(10, 8))\n",
    "    #dataset = hax.cuts.selection(data_radon_sr1,  data_radon_sr1['n_hits']<100, 'SE Selection')\n",
    "    plt.hist2d(dataset['r_s2']**2, dataset['time_since_s2'], bins=[100, 100], range=[[0, 50**2], [0, 400000]], norm=LogNorm(), vmin=1)\n",
    "    plt.colorbar()\n",
    "    plt.xlabel('R^2 S2  [cm^2]')\n",
    "    plt.ylabel('Time Since S2 [ns]')\n",
    "    #plt.savefig('Large_n_hits.png')\n",
    "    plt.show()"
   ]
  },
  {
   "cell_type": "code",
   "execution_count": null,
   "metadata": {
    "collapsed": false,
    "deletable": true,
    "editable": true
   },
   "outputs": [],
   "source": [
    "for key, dataset in datasets_tmp1.items():\n",
    "    print(key)\n",
    "    plt.figure(figsize=(10, 8))\n",
    "    #dataset = hax.cuts.selection(data_radon_sr1,  data_radon_sr1['n_hits']<100, 'SE Selection')\n",
    "    plt.hist2d(dataset['x_s2'], dataset['y_s2'], bins=[100, 100], range=[[-55, 55], [-55, 55]], norm=LogNorm(), vmin=1)\n",
    "    plt.colorbar()\n",
    "    plt.xlabel('X [cm]')\n",
    "    plt.ylabel('Y [cm]')\n",
    "    #plt.savefig('Large_n_hits.png')\n",
    "    plt.show()"
   ]
  },
  {
   "cell_type": "code",
   "execution_count": null,
   "metadata": {
    "collapsed": false,
    "deletable": true,
    "editable": true
   },
   "outputs": [],
   "source": [
    "%%capture\n",
    "for key, dataset in datasets_tmp.items():\n",
    "    xspace=np.linspace(-50, 50, 21)\n",
    "    yspace=np.linspace(-50, 50, 21)\n",
    "    xbins = xspace[:-1]+(xspace[1:]-xspace[:-1])/2\n",
    "    ybins = yspace[:-1]+(yspace[1:]-yspace[:-1])/2\n",
    "    x_pos=[]\n",
    "    y_pos=[]\n",
    "    x_disp=[]\n",
    "    y_disp=[]\n",
    "    color_scale=[]\n",
    "    for x_index in range(len(xspace)-1):\n",
    "        data_slice_x = hax.cuts.selection(dataset, dataset['x_s2']>xspace[x_index], 'X LowerBound')\n",
    "        data_slice_x = hax.cuts.selection(data_slice_x, data_slice_x['x_s2']<xspace[x_index+1], 'X UpperBound')\n",
    "        #x_series=[]\n",
    "        #y_series=[]\n",
    "        x_ave=[]\n",
    "        y_ave=[]\n",
    "        for y_index in range(len(yspace)-1):\n",
    "            print(x_index, y_index)\n",
    "            data_slice_y = hax.cuts.selection(data_slice_x, data_slice_x['y_s2']>yspace[y_index], 'Y LowerBound')\n",
    "            data_slice_y = hax.cuts.selection(data_slice_y, data_slice_y['y_s2']<yspace[y_index+1], 'Y UpperBound')\n",
    "\n",
    "            x_vector = data_slice_y.x_se - data_slice_y.x_s2\n",
    "            y_vector = data_slice_y.y_se - data_slice_y.y_s2\n",
    "            rad_disp = data_slice_y.r_se - data_slice_y.r_s2\n",
    "            color_scale.append(np.mean(rad_disp))\n",
    "            x_disp.append(np.mean(x_vector))\n",
    "            y_disp.append(np.mean(y_vector))\n",
    "            x_pos.append(xbins[x_index])\n",
    "            y_pos.append(ybins[y_index])\n"
   ]
  },
  {
   "cell_type": "code",
   "execution_count": null,
   "metadata": {
    "collapsed": false,
    "deletable": true,
    "editable": true
   },
   "outputs": [],
   "source": [
    "print(len(x_pos))\n",
    "plt.figure(figsize=(10, 10))\n",
    "#    color_scale=dataset.r_se-dataset.r_s2\n",
    "Q=plt.quiver(x_pos, y_pos, x_disp, y_disp, color_scale, units='x', pivot='tail', angles='xy', scale_units='xy', scale=1)\n",
    "cb=plt.colorbar(Q)\n",
    "plt.xlim(-50, 50)\n",
    "plt.ylim(-50, 50)\n",
    "plt.savefig('Rad_disp.png')\n",
    "plt.show()"
   ]
  },
  {
   "cell_type": "code",
   "execution_count": null,
   "metadata": {
    "collapsed": false,
    "deletable": true,
    "editable": true
   },
   "outputs": [],
   "source": [
    "for key, dataset in datasets_hits_large.items():\n",
    "    print(key)\n",
    "    plt.figure(figsize=(10, 8))\n",
    "    #dataset = hax.cuts.selection(data_radon_sr1,  data_radon_sr1['n_hits']<100, 'SE Selection')\n",
    "    plt.hist2d(dataset['time_since_s2'], dataset['se_range_50p_area'], bins =[100, 100], range=[[0, 3000000], [0, 50000]], norm=LogNorm(), vmin=1)\n",
    "    plt.colorbar()\n",
    "    plt.xlabel('Time Since S2 [ns]')\n",
    "    plt.ylabel('SE Width [ns]')\n",
    "    #plt.savefig('Large_n_hits.png')\n",
    "    plt.show()"
   ]
  },
  {
   "cell_type": "code",
   "execution_count": null,
   "metadata": {
    "collapsed": false,
    "deletable": true,
    "editable": true
   },
   "outputs": [],
   "source": [
    "datasets_tmp4={}\n",
    "for key, dataset in datasets_hits_large.items():\n",
    "    print(key)\n",
    "    dataset_tmp=hax.cuts.selection(dataset, dataset['type']=='s2', 'S2 Selection')\n",
    "    dataset_tmp=hax.cuts.selection(dataset, dataset['time_since_s2']>745000, 'Drift not in TPC')\n",
    "    datasets_tmp4.update({key:dataset_tmp})"
   ]
  },
  {
   "cell_type": "code",
   "execution_count": null,
   "metadata": {
    "collapsed": false,
    "deletable": true,
    "editable": true
   },
   "outputs": [],
   "source": [
    "for key, dataset in datasets_tmp4.items():\n",
    "    print(key)\n",
    "    plt.figure(figsize=(10, 8))\n",
    "    #dataset = hax.cuts.selection(data_radon_sr1,  data_radon_sr1['n_hits']<100, 'SE Selection')\n",
    "    plt.hist2d(dataset['x_se'], dataset['y_se'], bins=[100, 100], range=[[-50, 50], [-50, 50]], norm=LogNorm(), vmin=1)\n",
    "    plt.colorbar()\n",
    "    plt.xlabel('R^2 S2  [cm^2]')\n",
    "    plt.ylabel('Time Since S2 [ns]')\n",
    "    #plt.savefig('Large_n_hits.png')\n",
    "    plt.show()"
   ]
  },
  {
   "cell_type": "code",
   "execution_count": null,
   "metadata": {
    "collapsed": false,
    "deletable": true,
    "editable": true
   },
   "outputs": [],
   "source": [
    "%%capture\n",
    "for key, dataset in datasets_tmp4.items():\n",
    "    xspace=np.linspace(-50, 50, 21)\n",
    "    yspace=np.linspace(-50, 50, 21)\n",
    "    xbins = xspace[:-1]+(xspace[1:]-xspace[:-1])/2\n",
    "    ybins = yspace[:-1]+(yspace[1:]-yspace[:-1])/2\n",
    "    x_pos=[]\n",
    "    y_pos=[]\n",
    "    x_disp=[]\n",
    "    y_disp=[]\n",
    "    color_scale=[]\n",
    "    for x_index in range(len(xspace)-1):\n",
    "        data_slice_x = hax.cuts.selection(dataset, dataset['x_s2']>xspace[x_index], 'X LowerBound')\n",
    "        data_slice_x = hax.cuts.selection(data_slice_x, data_slice_x['x_s2']<xspace[x_index+1], 'X UpperBound')\n",
    "        #x_series=[]\n",
    "        #y_series=[]\n",
    "        x_ave=[]\n",
    "        y_ave=[]\n",
    "        for y_index in range(len(yspace)-1):\n",
    "            print(x_index, y_index)\n",
    "            data_slice_y = hax.cuts.selection(data_slice_x, data_slice_x['y_s2']>yspace[y_index], 'Y LowerBound')\n",
    "            data_slice_y = hax.cuts.selection(data_slice_y, data_slice_y['y_s2']<yspace[y_index+1], 'Y UpperBound')\n",
    "\n",
    "            x_vector = data_slice_y.x_se - data_slice_y.x_s2\n",
    "            y_vector = data_slice_y.y_se - data_slice_y.y_s2\n",
    "            rad_disp = data_slice_y.r_se - data_slice_y.r_s2\n",
    "            color_scale.append(np.mean(rad_disp))\n",
    "            x_disp.append(np.mean(x_vector))\n",
    "            y_disp.append(np.mean(y_vector))\n",
    "            x_pos.append(xbins[x_index])\n",
    "            y_pos.append(ybins[y_index])\n"
   ]
  },
  {
   "cell_type": "code",
   "execution_count": null,
   "metadata": {
    "collapsed": false,
    "deletable": true,
    "editable": true
   },
   "outputs": [],
   "source": [
    "print(len(x_pos))\n",
    "plt.figure(figsize=(10, 10))\n",
    "#    color_scale=dataset.r_se-dataset.r_s2\n",
    "Q=plt.quiver(x_pos, y_pos, x_disp, y_disp, color_scale, units='x', pivot='tail', angles='xy', scale_units='xy', scale=1)\n",
    "cb=plt.colorbar(Q)\n",
    "plt.xlim(-50, 50)\n",
    "plt.ylim(-50, 50)\n",
    "plt.show()"
   ]
  },
  {
   "cell_type": "code",
   "execution_count": null,
   "metadata": {
    "collapsed": true,
    "deletable": true,
    "editable": true
   },
   "outputs": [],
   "source": []
  },
  {
   "cell_type": "code",
   "execution_count": null,
   "metadata": {
    "collapsed": true,
    "deletable": true,
    "editable": true
   },
   "outputs": [],
   "source": []
  },
  {
   "cell_type": "code",
   "execution_count": null,
   "metadata": {
    "collapsed": true,
    "deletable": true,
    "editable": true
   },
   "outputs": [],
   "source": []
  },
  {
   "cell_type": "code",
   "execution_count": null,
   "metadata": {
    "collapsed": true,
    "deletable": true,
    "editable": true
   },
   "outputs": [],
   "source": []
  },
  {
   "cell_type": "code",
   "execution_count": null,
   "metadata": {
    "collapsed": true,
    "deletable": true,
    "editable": true
   },
   "outputs": [],
   "source": []
  },
  {
   "cell_type": "code",
   "execution_count": null,
   "metadata": {
    "collapsed": true,
    "deletable": true,
    "editable": true
   },
   "outputs": [],
   "source": []
  },
  {
   "cell_type": "code",
   "execution_count": null,
   "metadata": {
    "collapsed": true,
    "deletable": true,
    "editable": true
   },
   "outputs": [],
   "source": []
  },
  {
   "cell_type": "code",
   "execution_count": null,
   "metadata": {
    "collapsed": true,
    "deletable": true,
    "editable": true
   },
   "outputs": [],
   "source": []
  },
  {
   "cell_type": "code",
   "execution_count": null,
   "metadata": {
    "collapsed": true,
    "deletable": true,
    "editable": true
   },
   "outputs": [],
   "source": []
  },
  {
   "cell_type": "code",
   "execution_count": null,
   "metadata": {
    "collapsed": true,
    "deletable": true,
    "editable": true
   },
   "outputs": [],
   "source": []
  },
  {
   "cell_type": "code",
   "execution_count": null,
   "metadata": {
    "collapsed": true,
    "deletable": true,
    "editable": true
   },
   "outputs": [],
   "source": []
  },
  {
   "cell_type": "code",
   "execution_count": null,
   "metadata": {
    "collapsed": true,
    "deletable": true,
    "editable": true
   },
   "outputs": [],
   "source": []
  },
  {
   "cell_type": "code",
   "execution_count": null,
   "metadata": {
    "collapsed": true,
    "deletable": true,
    "editable": true
   },
   "outputs": [],
   "source": []
  },
  {
   "cell_type": "code",
   "execution_count": null,
   "metadata": {
    "collapsed": false,
    "deletable": true,
    "editable": true
   },
   "outputs": [],
   "source": [
    "#plt.set_cmap('viridis')\n",
    "plt.figure(figsize=(10, 8))\n",
    "dataset_below = hax.cuts.selection(dataset,  dataset['se_range_50p_area']<500, 'SE Width Population')\n",
    "(bins_below, dump, d) = plt.hist(dataset_below['time_since_s2'], bins =100, range=[0, 6000000])\n",
    "plt.yscale('log')\n",
    "\n",
    "plt.show()"
   ]
  },
  {
   "cell_type": "code",
   "execution_count": null,
   "metadata": {
    "collapsed": false,
    "deletable": true,
    "editable": true
   },
   "outputs": [],
   "source": [
    "#plt.set_cmap('viridis')\n",
    "plt.figure(figsize=(10, 8))\n",
    "dataset_above = hax.cuts.selection(dataset,  dataset['se_range_50p_area']>500, 'SE Width Population')\n",
    "(bins_above, dump, d)=plt.hist(dataset_above['time_since_s2'], bins =100, range=[0, 6000000])\n",
    "plt.yscale('log')\n",
    "\n",
    "plt.show()"
   ]
  },
  {
   "cell_type": "code",
   "execution_count": null,
   "metadata": {
    "collapsed": false,
    "deletable": true,
    "editable": true
   },
   "outputs": [],
   "source": [
    "#bins_above/bins_below\n",
    "plt.plot(dump[:-1], bins_above/bins_below)\n",
    "plt.show()"
   ]
  },
  {
   "cell_type": "code",
   "execution_count": null,
   "metadata": {
    "collapsed": false,
    "deletable": true,
    "editable": true
   },
   "outputs": [],
   "source": [
    "#plt.set_cmap('viridis')\n",
    "plt.figure(figsize=(10, 8))\n",
    "dataset_tmp = hax.cuts.range_selection(dataset_below, 'x_s2', [-17, -13])\n",
    "dataset_tmp = hax.cuts.range_selection(dataset_tmp, 'y_s2', [-17, -13])\n",
    "plt.hist2d(dataset_tmp['x_se'], dataset_tmp['y_se'], bins =[100, 100], range=[[-50, 50], [-50, 50]], norm=LogNorm(), vmin=1)\n",
    "plt.colorbar()\n",
    "plt.show()"
   ]
  },
  {
   "cell_type": "code",
   "execution_count": null,
   "metadata": {
    "collapsed": false,
    "deletable": true,
    "editable": true
   },
   "outputs": [],
   "source": [
    "#plt.set_cmap('viridis')\n",
    "plt.figure(figsize=(10, 8))\n",
    "dataset_tmp = hax.cuts.range_selection(dataset_above, 'x_s2', [-17, -13])\n",
    "dataset_tmp = hax.cuts.range_selection(dataset_tmp, 'y_s2', [-17, -13])\n",
    "plt.hist2d(dataset_tmp['x_se'], dataset_tmp['y_se'], bins =[100, 100], range=[[-50, 50], [-50, 50]], norm=LogNorm(), vmin=1)\n",
    "plt.colorbar()\n",
    "plt.show()"
   ]
  },
  {
   "cell_type": "code",
   "execution_count": null,
   "metadata": {
    "collapsed": false,
    "deletable": true,
    "editable": true
   },
   "outputs": [],
   "source": [
    "#plt.set_cmap('viridis')\n",
    "plt.figure(figsize=(10, 8))\n",
    "plt.hist2d(dataset['r_s2']**2, -dataset['drift_time'], bins =[100, 100], range=[[0, 40**2], [-650000, 0]], norm=LogNorm(), vmin=1)\n",
    "plt.colorbar()\n",
    "plt.show()"
   ]
  },
  {
   "cell_type": "code",
   "execution_count": null,
   "metadata": {
    "collapsed": false,
    "deletable": true,
    "editable": true,
    "scrolled": false
   },
   "outputs": [],
   "source": [
    "#%%capture\n",
    "import pylab as plb\n",
    "from scipy.optimize import curve_fit\n",
    "from scipy import asarray as ar,exp\n",
    "data_se=dataset\n",
    "data_se=hax.cuts.selection(data_se, data_se['r_s2']<20, 'RadialSelection')\n",
    "a_means=[]\n",
    "b_means=[]\n",
    "a_means_error=[]\n",
    "b_means_error=[]\n",
    "\n",
    "time_series = np.linspace(0, 2000000, 15)\n",
    "for index in range(len(time_series[:-1])):\n",
    "\n",
    "    data_slice = hax.cuts.selection(data_se, data_se['time_since_s2']>time_series[index], 'LowerBound')\n",
    "    data_slice = hax.cuts.selection(data_slice, data_slice['time_since_s2']<time_series[index+1], 'UpperBound')\n",
    "\n",
    "    _bins=100\n",
    "    _r_lower=-50\n",
    "    _r_upper=50\n",
    "    _r_range=[_r_lower, _r_upper]\n",
    "    plt.set_cmap(\"viridis\")\n",
    "    content =plt.hist(data_slice.r_se-data_slice.r_s2, bins=_bins, range=_r_range)\n",
    "\n",
    "    x=content[1][:-1]+(content[1][1:]-content[1][:-1])/2 #bin_centers\n",
    "    y=content[0] #bin_content\n",
    "\n",
    "    def gaus(x, a, xa, sigma_a, b, xb, sigma_b):\n",
    "        return a*exp(-(x-xa)**2/(2*sigma_a**2))+b*exp(-(x-xb)**2/(2*sigma_b**2))\n",
    "\n",
    "    initial_values = [40000, 4, 4, 50000, 22, 12]\n",
    "\n",
    "    popt,pcov = curve_fit(gaus,x,y,p0=initial_values)\n",
    "    print(\"Amplitude a: %.4f+/-%.4f\" %(popt[0],pcov[0][0]))\n",
    "    print(\"Mean a: %.4f+/-%.4f\" %(popt[1],pcov[1][1]))\n",
    "    a_means.append(popt[1])\n",
    "    a_means_error.append(pcov[1][1])\n",
    "    print(\"Sigma a: %.4f+/-%.4f\" %(popt[2],pcov[2][2]))\n",
    "    print(\"Amplitude b: %.4f+/-%.4f\" %(popt[3],pcov[3][3]))\n",
    "    print(\"Mean b: %.4f+/-%.4f\" %(popt[4],pcov[4][4]))\n",
    "    b_means.append(popt[4])\n",
    "    b_means_error.append(pcov[4][4])    \n",
    "    print(\"Sigma b: %.4f+/-%.4f\" %(popt[5],pcov[5][5]))\n",
    "\n",
    "    \n",
    "    plt.title(\"%i ns < Time Delay < %i ns\" %(time_series[index], time_series[index+1]))\n",
    "    plt.plot(x,gaus(x,*popt),'ro:')\n",
    "    plt.xlabel('Radial Displacement [cm]')\n",
    "    plt.ylabel('Counts')\n",
    "    #plt.savefig('radial_displacement_%i.pdf' %index)\n",
    "    #plt.savefig('radial_displacement_%i.png' %index)\n",
    "    plt.legend()\n",
    "    plt.show()\n"
   ]
  },
  {
   "cell_type": "code",
   "execution_count": null,
   "metadata": {
    "collapsed": false,
    "deletable": true,
    "editable": true
   },
   "outputs": [],
   "source": [
    "plt.errorbar(time_series[:-1]/1000, a_means[0:], yerr=a_means_error[0:], color='b', label='SR0', ecolor='b', fmt='s')\n",
    "#plt.errorbar(time_series[:-1]/1000, b_means_sr1[0:], yerr=b_means_error_sr1[0:], color='r', label='SR0', ecolor='r', fmt='s')\n",
    "#plt.errorbar(time_series[:-1]/1000, a_means_sr1[0:], yerr=a_means_error_sr1[0:], color='r', label='SR1', ecolor='r', fmt='o')\n",
    "#plt.errorbar(time_series[1:-1], b_means[1:], yerr=b_means_error[1:], color='b', label='Higher Distribution')\n",
    "plt.ylim(0, 16)\n",
    "#plt.xlim(550, 2000)\n",
    "plt.ylabel('Radial Displacement [cm]')\n",
    "plt.xlabel('Time Delay [$\\mu$s]')\n",
    "axes=plt.gca()\n",
    "axes.ticklabel_format(axis='x', style='sci')\n",
    "plt.savefig('time_delay_displacement.pdf')\n",
    "plt.savefig('time_delay_displacement.png')\n",
    "#plt.legend(loc='best')"
   ]
  },
  {
   "cell_type": "markdown",
   "metadata": {
    "deletable": true,
    "editable": true
   },
   "source": [
    "### Select S2s in small volume. Look at displacement of SEs following ###"
   ]
  },
  {
   "cell_type": "code",
   "execution_count": null,
   "metadata": {
    "collapsed": false,
    "deletable": true,
    "editable": true
   },
   "outputs": [],
   "source": [
    "def gauss_2d(data_tuple, amplitude, xo, yo, sigma_x, sigma_y, theta):\n",
    "    (x, y) = data_tuple\n",
    "    xo = float(xo)\n",
    "    yo = float(yo)\n",
    "    a = (np.cos(theta)**2)/(2*sigma_x**2) + (np.sin(theta)**2)/(2*sigma_y**2)\n",
    "    b = -(np.sin(2*theta))/(4*sigma_x**2) + (np.sin(2*theta))/(4*sigma_y**2)\n",
    "    c = (np.sin(theta)**2)/(2*sigma_x**2) + (np.cos(theta)**2)/(2*sigma_y**2)\n",
    "    g = amplitude*np.exp( - (a*((x-xo)**2) + 2*b*(x-xo)*(y-yo) + c*((y-yo)**2)))\n",
    "    return g.ravel()\n"
   ]
  },
  {
   "cell_type": "code",
   "execution_count": null,
   "metadata": {
    "collapsed": false,
    "deletable": true,
    "editable": true
   },
   "outputs": [],
   "source": [
    "def double_gauss_2d(data_tuple, amp_0, xo, yo, sigma_x0, sigma_y0, theta_0, amp_1, x1, y1, sigma_x1, sigma_y1, theta_1):\n",
    "    (x, y) = data_tuple\n",
    "    xo = float(xo)\n",
    "    yo = float(yo)\n",
    "    a = (np.cos(theta_0)**2)/(2*sigma_x0**2) + (np.sin(theta_0)**2)/(2*sigma_y0**2)\n",
    "    b = -(np.sin(2*theta_0))/(4*sigma_x0**2) + (np.sin(2*theta_0))/(4*sigma_y0**2)\n",
    "    c = (np.sin(theta_0)**2)/(2*sigma_x0**2) + (np.cos(theta_0)**2)/(2*sigma_y0**2)\n",
    "    d = (np.cos(theta_1)**2)/(2*sigma_x1**2) + (np.sin(theta_1)**2)/(2*sigma_y1**2)\n",
    "    e = -(np.sin(2*theta_1))/(4*sigma_x1**2) + (np.sin(2*theta_1))/(4*sigma_y1**2)\n",
    "    f = (np.sin(theta_1)**2)/(2*sigma_x1**2) + (np.cos(theta_1)**2)/(2*sigma_y1**2)\n",
    "    g = amp_0*np.exp( - (a*((x-xo)**2) + 2*b*(x-xo)*(y-yo) + c*((y-yo)**2))) \n",
    "    + amp_1*np.exp( - (d*((x-x1)**2) + 2*e*(x-x1)*(y-y1) + f*((y-y1)**2)))\n",
    "    return g.ravel()\n"
   ]
  },
  {
   "cell_type": "code",
   "execution_count": null,
   "metadata": {
    "collapsed": true,
    "deletable": true,
    "editable": true
   },
   "outputs": [],
   "source": [
    "from scipy.optimize import curve_fit\n",
    "\n",
    "def fit_gauss_2d(initial_guess, counts, xedges, yedges):\n",
    "    xcenters = xedges[:-1]+(xedges[1:]-xedges[:-1])/2\n",
    "    ycenters = yedges[:-1]+(yedges[1:]-yedges[:-1])/2\n",
    "    x_bins, y_bins = np.meshgrid(xcenters, ycenters)\n",
    "    try:\n",
    "        popt, pcov = curve_fit(gauss_2d, (x_bins, y_bins), counts.ravel(), p0=initial_guess, maxfev=2500)\n",
    "        counts_fitted = gauss_2d((x_bins, y_bins), *popt)\n",
    "        plt.contour(y_bins, x_bins, counts_fitted.reshape(_xbins, _ybins), 3, colors='w')\n",
    "        return [popt[1], popt[2], pcov[1][1], pcov[2][2]]\n",
    "    except RuntimeError:\n",
    "        return [-100, -100, 0, 0] \n",
    "\n",
    "    #print(\"Amplitude A: %.4f+/-%.4f\" %(popt[0],pcov[0][0]))\n",
    "    #print(\"Y Mean: %.4f+/-%.4f\" %(popt[1],pcov[1][1]))\n",
    "    #print(\"Y Sigma: %.4f+/-%.4f\" %(popt[3],pcov[3][3]))\n",
    "    #print(\"X Mean: %.4f+/-%.4f\" %(popt[2],pcov[2][2]))\n",
    "    #print(\"X Sigma: %.4f+/-%.4f\" %(popt[4],pcov[4][4]))\n",
    "    \n",
    "    return [popt[1], popt[2], pcov[1][1], pcov[2][2]]"
   ]
  },
  {
   "cell_type": "code",
   "execution_count": null,
   "metadata": {
    "collapsed": true,
    "deletable": true,
    "editable": true
   },
   "outputs": [],
   "source": [
    "from scipy.optimize import curve_fit\n",
    "\n",
    "def fit_double_gauss_2d(initial_guess, counts, xedges, yedges):\n",
    "    xcenters = xedges[:-1]+(xedges[1:]-xedges[:-1])/2\n",
    "    ycenters = yedges[:-1]+(yedges[1:]-yedges[:-1])/2\n",
    "    x_bins, y_bins = np.meshgrid(xcenters, ycenters)\n",
    "    try:\n",
    "        popt, pcov = curve_fit(double_gauss_2d, (x_bins, y_bins), counts.ravel(), p0=initial_guess, maxfev=2500)\n",
    "        counts_fitted_0 = gauss_2d((x_bins, y_bins), *popt[:6])\n",
    "        counts_fitted_1 = gauss_2d((x_bins, y_bins), *popt[6:])\n",
    "        plt.contour(y_bins, x_bins, counts_fitted_0.reshape(_xbins, _ybins), 3, colors='w')\n",
    "        plt.contour(y_bins, x_bins, counts_fitted_1.reshape(_xbins, _ybins), 3, colors='r')\n",
    "        \n",
    "        print(\"Y0 Mean: %.4f+/-%.4f\" %(popt[1],pcov[1][1]))\n",
    "        print(\"Y1 Mean: %.4f+/-%.4f\" %(popt[7],pcov[7][7]))\n",
    "        print(\"X0 Mean: %.4f+/-%.4f\" %(popt[2],pcov[2][2]))\n",
    "        print(\"X1 Mean: %.4f+/-%.4f\" %(popt[8],pcov[8][8]))\n",
    "        \n",
    "        return [popt[1], popt[2], popt[7], popt[8]]\n",
    "    except RuntimeError:\n",
    "        return [-100, -100, -100, -100] \n"
   ]
  },
  {
   "cell_type": "code",
   "execution_count": null,
   "metadata": {
    "collapsed": false,
    "deletable": true,
    "editable": true,
    "scrolled": false
   },
   "outputs": [],
   "source": [
    "_xpoint = 10\n",
    "_ypoint = 10\n",
    "_width = 4\n",
    "_xbins=40\n",
    "_ybins=40\n",
    "_x_lower=-50\n",
    "_x_upper=50\n",
    "_x_range=[_x_lower, _x_upper]\n",
    "_y_lower=-50\n",
    "_y_upper=50\n",
    "_y_range=[_y_lower, _y_upper]\n",
    "means=[]\n",
    "data_xy = hax.cuts.range_selections(data_radon, ('x_s2', (_xpoint-_width/2, _xpoint+_width/2)),\n",
    "                                    ('y_s2', (_ypoint-_width/2, _ypoint+_width/2)))\n",
    "\n",
    "time_series = np.linspace(750000, 1750000, 9)\n",
    "for index in range(len(time_series[:-1])):\n",
    "    initial_guess=(10,-5,-5,5,5,0,10,15,15,5,5,0)\n",
    "    \n",
    "    data_slice=hax.cuts.range_selection(data_xy, 'time_since_s2', (time_series[index], time_series[index+1]))\n",
    "    (counts, xedges, yedges, Image)=plt.hist2d(data_slice.x_se, data_slice.y_se, bins=[_xbins, _ybins], norm=LogNorm(), range=[_x_range, _y_range], vmin=1)\n",
    "    plt.colorbar()\n",
    "    fitvalues=fit_double_gauss_2d(initial_guess, counts, xedges, yedges)\n",
    "    means.append(fitvalues)\n",
    "    means_arr=np.array(means)\n",
    "    means_flat=means_arr.ravel()\n",
    "    #plt.xlabel('Electrons') \n",
    "    #plt.ylabel('Photons')\n",
    "    #plt.savefig('confined_xy_%i.pdf' %index)\n",
    "    #plt.savefig('confined_xy_%i.png' %index)\n",
    "    #plt.legend()\n",
    "    plt.show()"
   ]
  },
  {
   "cell_type": "code",
   "execution_count": null,
   "metadata": {
    "collapsed": false,
    "deletable": true,
    "editable": true,
    "scrolled": false
   },
   "outputs": [],
   "source": [
    "%%capture\n",
    "_xpoints = np.linspace(-10, 10, 6)\n",
    "_ypoints = np.linspace(-10, 10, 6)\n",
    "\n",
    "time_series = [0, 250000, 750000, 1250000, 1500000, 175000]\n",
    "_width = 3\n",
    "_xbins=40\n",
    "_ybins=40\n",
    "_x_lower=-50\n",
    "_x_upper=50\n",
    "_x_range=[_x_lower, _x_upper]\n",
    "_y_lower=-50\n",
    "_y_upper=50\n",
    "_y_range=[_y_lower, _y_upper]\n",
    "x_pos1=[]\n",
    "y_pos1=[]\n",
    "\n",
    "x_disp=[]\n",
    "y_disp=[]\n",
    "for _xpoint in _xpoints:\n",
    "    for _ypoint in _ypoints:\n",
    "        print(_xpoint, _ypoint)\n",
    "        data_xy = hax.cuts.range_selections(data_radon, ('x_s2', (_xpoint-_width/2, _xpoint+_width/2)),\n",
    "                                            ('y_s2', (_ypoint-_width/2, _ypoint+_width/2)))\n",
    "\n",
    "        means=[]\n",
    "        #time_series = np.linspace(700000, 2000000,5)\n",
    "        for index in range(len(time_series[:-1])):\n",
    "            initial_guess=(10,_xpoint,_ypoint,5,5,0, 10)\n",
    "\n",
    "            data_slice=hax.cuts.range_selection(data_xy, 'time_since_s2', (time_series[index], time_series[index+1]))\n",
    "            (counts, xedges, yedges, Image)=plt.hist2d(data_slice.x_se, data_slice.y_se, bins=[_xbins, _xbins], range=[_x_range, _y_range], norm=LogNorm(), vmin=1)\n",
    "            #plt.colorbar()\n",
    "            fitvalues=fit_gauss_2d(initial_guess, counts, xedges, yedges)\n",
    "            means.append(fitvalues)\n",
    "        means_arr=np.array(means)\n",
    "        means_flat=means_arr.ravel()\n",
    "        if means_flat[0]==-100 or means_flat[8]==-100:\n",
    "            x_pos.append(0)\n",
    "            y_pos.append(0)\n",
    "            x_disp.append(0)\n",
    "            y_disp.append(0)\n",
    "        else:\n",
    "            y_pos.append(means_flat[0])\n",
    "            x_pos.append(means_flat[1])\n",
    "            y_disp.append(means_flat[8]-means_flat[0])\n",
    "            x_disp.append(means_flat[9]-means_flat[1])\n",
    "            index+=1\n"
   ]
  },
  {
   "cell_type": "code",
   "execution_count": null,
   "metadata": {
    "collapsed": false,
    "deletable": true,
    "editable": true
   },
   "outputs": [],
   "source": [
    "plt.figure(figsize=(10, 10))\n",
    "Q=plt.quiver(x_pos, y_pos, x_disp, y_disp)  \n",
    "plt.xlim(-15, 15)\n",
    "plt.ylim(-15, 15)"
   ]
  },
  {
   "cell_type": "code",
   "execution_count": null,
   "metadata": {
    "collapsed": false,
    "deletable": true,
    "editable": true
   },
   "outputs": [],
   "source": [
    "means_arr=np.array(means)\n",
    "means_flat=means_arr.ravel()\n",
    "time_axis=time_series[:-1]+(time_series[1:]-time_series[:-1])/2\n",
    "plt.plot(time_axis/1000, means_flat[::4],  label='X0 Position', marker='o')\n",
    "plt.plot(time_axis/1000, means_flat[1::4],  label='Y1 Position', marker = 's')\n",
    "plt.legend(loc='best')"
   ]
  },
  {
   "cell_type": "code",
   "execution_count": null,
   "metadata": {
    "collapsed": false,
    "deletable": true,
    "editable": true
   },
   "outputs": [],
   "source": [
    "means_flat[::4]"
   ]
  },
  {
   "cell_type": "code",
   "execution_count": null,
   "metadata": {
    "collapsed": false,
    "deletable": true,
    "editable": true
   },
   "outputs": [],
   "source": [
    "means_arr=np.array(means)\n",
    "means_flat=means_arr.ravel()\n",
    "time_axis=time_series[:-1]+(time_series[1:]-time_series[:-1])/2\n",
    "plt.errorbar(time_axis[1:]/1000, means_flat[5::4], yerr=means_flat[7::4], label='X Position')\n",
    "plt.errorbar(time_axis[1:]/1000, means_flat[4::4], yerr=means_flat[6::4], label='Y Position')\n",
    "plt.legend(loc='best')"
   ]
  },
  {
   "cell_type": "code",
   "execution_count": null,
   "metadata": {
    "collapsed": false,
    "deletable": true,
    "editable": true
   },
   "outputs": [],
   "source": [
    "means_arr=np.array(means1)\n",
    "means_flat=means_arr.ravel()\n",
    "time_axis=time_series[:-1]+(time_series[1:]-time_series[:-1])/2\n",
    "plt.errorbar(time_axis[1:]/1000, means_flat[5::4], yerr=means_flat[7::4], label='X Position')\n",
    "#plt.errorbar(time_axis[1:]/1000, means_flat[4::4], yerr=means_flat[6::4], label='Y Position')\n",
    "plt.legend(loc='best')"
   ]
  },
  {
   "cell_type": "code",
   "execution_count": null,
   "metadata": {
    "collapsed": true,
    "deletable": true,
    "editable": true
   },
   "outputs": [],
   "source": [
    "#10, 0, time 700, 1800\n",
    "means1=means_arr"
   ]
  },
  {
   "cell_type": "code",
   "execution_count": null,
   "metadata": {
    "collapsed": true,
    "deletable": true,
    "editable": true
   },
   "outputs": [],
   "source": [
    "#5, 0\n",
    "means2=means_arr"
   ]
  },
  {
   "cell_type": "markdown",
   "metadata": {
    "deletable": true,
    "editable": true
   },
   "source": [
    "### Next Step ###"
   ]
  },
  {
   "cell_type": "markdown",
   "metadata": {
    "deletable": true,
    "editable": true
   },
   "source": [
    "Kyk na delta theta"
   ]
  },
  {
   "cell_type": "markdown",
   "metadata": {
    "deletable": true,
    "editable": true
   },
   "source": [
    "### Off Set of SEs ###"
   ]
  },
  {
   "cell_type": "code",
   "execution_count": null,
   "metadata": {
    "collapsed": false,
    "deletable": true,
    "editable": true
   },
   "outputs": [],
   "source": [
    "datasets = {'SR0' : data_radon_sr0, 'SR1': data_radon_sr1}"
   ]
  },
  {
   "cell_type": "code",
   "execution_count": null,
   "metadata": {
    "collapsed": false,
    "deletable": true,
    "editable": true
   },
   "outputs": [],
   "source": [
    "datasets_se={}\n",
    "for key, dataset in datasets.items():\n",
    "    data_se = hax.cuts.selection(dataset, dataset['r_s2']<20, 'Radial')\n",
    "    data_se = hax.cuts.selection(dataset, dataset['n_hits']<36, 'SE Selection')\n",
    "    datasets_se.update({key:data_se})"
   ]
  },
  {
   "cell_type": "code",
   "execution_count": null,
   "metadata": {
    "collapsed": false,
    "deletable": true,
    "editable": true
   },
   "outputs": [],
   "source": [
    "_bins=100\n",
    "_x_lower=-50\n",
    "_x_upper=50\n",
    "_x_range=[_x_lower, _x_upper]\n",
    "_y_lower=-50\n",
    "_y_upper=50\n",
    "_y_range=[_y_lower, _y_upper]\n",
    "#fig = plt.figure(figsize=(10, 8))\n",
    "plt.set_cmap(\"viridis\")\n",
    "plt.hist2d(data_se.x_se, data_se.y_se, bins=[_bins, _bins], range=[_x_range, _y_range], norm=LogNorm(), vmin=1)\n",
    "plt.colorbar()\n",
    "#plt.xlabel('Electrons') \n",
    "#plt.ylabel('Photons')"
   ]
  },
  {
   "cell_type": "code",
   "execution_count": null,
   "metadata": {
    "collapsed": false,
    "deletable": true,
    "editable": true
   },
   "outputs": [],
   "source": [
    "_bins=100\n",
    "_r_lower=0\n",
    "_r_upper=50\n",
    "_el_range=[_r_lower, _r_upper]\n",
    "_t_lower=0\n",
    "_t_upper=4000000\n",
    "_ph_range=[_t_lower, _t_upper]\n",
    "fig = plt.figure(figsize=(10, 8))\n",
    "plt.set_cmap(\"viridis\")\n",
    "plt.hist2d(data_se.dist_to_s2, data_se.time_since_s2, bins=[_bins, _bins], range=[_el_range, _ph_range], norm =LogNorm(), vmin=1)\n",
    "plt.colorbar()\n",
    "#plt.xlabel('Electrons') \n",
    "#plt.ylabel('Photons')"
   ]
  },
  {
   "cell_type": "code",
   "execution_count": null,
   "metadata": {
    "collapsed": false,
    "deletable": true,
    "editable": true,
    "scrolled": false
   },
   "outputs": [],
   "source": [
    "%%capture\n",
    "import pylab as plb\n",
    "from scipy.optimize import curve_fit\n",
    "from scipy import asarray as ar,exp\n",
    "data_se=datasets_se['SR1']\n",
    "a_means=[]\n",
    "b_means=[]\n",
    "a_means_error=[]\n",
    "b_means_error=[]\n",
    "\n",
    "time_series = np.linspace(0, 2000000, 19)\n",
    "for index in range(len(time_series[:-1])):\n",
    "\n",
    "    data_slice = hax.cuts.selection(data_se, data_se['time_since_s2']>time_series[index], 'LowerBound')\n",
    "    data_slice = hax.cuts.selection(data_slice, data_slice['time_since_s2']<time_series[index+1], 'UpperBound')\n",
    "\n",
    "    _bins=100\n",
    "    _r_lower=-50\n",
    "    _r_upper=50\n",
    "    _r_range=[_r_lower, _r_upper]\n",
    "    plt.set_cmap(\"viridis\")\n",
    "    content =plt.hist(data_slice.r_se-data_slice.r_s2, bins=_bins, range=_r_range)\n",
    "\n",
    "    x=content[1][:-1]+(content[1][1:]-content[1][:-1])/2 #bin_centers\n",
    "    y=content[0] #bin_content\n",
    "\n",
    "    def gaus(x, a, xa, sigma_a, b, xb, sigma_b):\n",
    "        return a*exp(-(x-xa)**2/(2*sigma_a**2))+b*exp(-(x-xb)**2/(2*sigma_b**2))\n",
    "\n",
    "    initial_values = [40000, 4, 4, 50000, 22, 12]\n",
    "\n",
    "    popt,pcov = curve_fit(gaus,x,y,p0=initial_values)\n",
    "    print(\"Amplitude a: %.4f+/-%.4f\" %(popt[0],pcov[0][0]))\n",
    "    print(\"Mean a: %.4f+/-%.4f\" %(popt[1],pcov[1][1]))\n",
    "    a_means.append(popt[1])\n",
    "    a_means_error.append(pcov[1][1])\n",
    "    print(\"Sigma a: %.4f+/-%.4f\" %(popt[2],pcov[2][2]))\n",
    "    print(\"Amplitude b: %.4f+/-%.4f\" %(popt[3],pcov[3][3]))\n",
    "    print(\"Mean b: %.4f+/-%.4f\" %(popt[4],pcov[4][4]))\n",
    "    b_means.append(popt[4])\n",
    "    b_means_error.append(pcov[4][4])    \n",
    "    print(\"Sigma b: %.4f+/-%.4f\" %(popt[5],pcov[5][5]))\n",
    "\n",
    "    \n",
    "    plt.title(\"%i ns < Time Delay < %i ns\" %(time_series[index], time_series[index+1]))\n",
    "    plt.plot(x,gaus(x,*popt),'ro:')\n",
    "    plt.xlabel('Radial Displacement [cm]')\n",
    "    plt.ylabel('Counts')\n",
    "    #plt.savefig('radial_displacement_%i.pdf' %index)\n",
    "    #plt.savefig('radial_displacement_%i.png' %index)\n",
    "    plt.legend()\n",
    "    plt.show()\n"
   ]
  },
  {
   "cell_type": "code",
   "execution_count": null,
   "metadata": {
    "collapsed": true,
    "deletable": true,
    "editable": true
   },
   "outputs": [],
   "source": [
    "a_means_sr1=a_means\n",
    "a_means_error_sr1=a_means_error"
   ]
  },
  {
   "cell_type": "code",
   "execution_count": null,
   "metadata": {
    "collapsed": true,
    "deletable": true,
    "editable": true
   },
   "outputs": [],
   "source": [
    "a_means_sr0=a_means\n",
    "a_means_error_sr0=a_means_error\n",
    "b_means_sr0=b_means\n",
    "b_means_error_sr0=b_means_error"
   ]
  },
  {
   "cell_type": "code",
   "execution_count": null,
   "metadata": {
    "collapsed": false,
    "deletable": true,
    "editable": true
   },
   "outputs": [],
   "source": [
    "plt.errorbar(time_series[:-1]/1000, a_means_sr1[0:], yerr=a_means_error_sr1[0:], color='b', label='SR0', ecolor='b', fmt='s')\n",
    "#plt.errorbar(time_series[:-1]/1000, b_means_sr1[0:], yerr=b_means_error_sr1[0:], color='r', label='SR0', ecolor='r', fmt='s')\n",
    "#plt.errorbar(time_series[:-1]/1000, a_means_sr1[0:], yerr=a_means_error_sr1[0:], color='r', label='SR1', ecolor='r', fmt='o')\n",
    "#plt.errorbar(time_series[1:-1], b_means[1:], yerr=b_means_error[1:], color='b', label='Higher Distribution')\n",
    "plt.ylim(0, 16)\n",
    "#plt.xlim(550, 2000)\n",
    "plt.ylabel('Radial Displacement [cm]')\n",
    "plt.xlabel('Time Delay [$\\mu$s]')\n",
    "axes=plt.gca()\n",
    "axes.ticklabel_format(axis='x', style='sci')\n",
    "plt.savefig('time_delay_displacement.pdf')\n",
    "plt.savefig('time_delay_displacement.png')\n",
    "#plt.legend(loc='best')"
   ]
  },
  {
   "cell_type": "code",
   "execution_count": null,
   "metadata": {
    "collapsed": false,
    "deletable": true,
    "editable": true
   },
   "outputs": [],
   "source": [
    "import pylab as plb\n",
    "from scipy.optimize import curve_fit\n",
    "from scipy import asarray as ar,exp\n",
    "\n",
    "c_means=[]\n",
    "d_means=[]\n",
    "c_means_error=[]\n",
    "d_means_error=[]\n",
    "\n",
    "time_series = np.linspace(1800000, 1900000, 2)\n",
    "for index in range(len(time_series[:-1])):\n",
    "\n",
    "    data_slice = hax.cuts.selection(data_se, data_se['time_since_s2']>time_series[index], 'LowerBound')\n",
    "    data_slice = hax.cuts.selection(data_slice, data_slice['time_since_s2']<time_series[index+1], 'UpperBound')\n",
    "\n",
    "    _bins=100\n",
    "    _r_lower=-50\n",
    "    _r_upper=50\n",
    "    _r_range=[_r_lower, _r_upper]\n",
    "    plt.set_cmap(\"viridis\")\n",
    "    content =plt.hist(data_slice.r_se-data_slice.r_s2, bins=_bins, range=_r_range)\n",
    "\n",
    "    x=content[1][:-1]+(content[1][1:]-content[1][:-1])/2 #bin_centers\n",
    "    y=content[0] #bin_content\n",
    "\n",
    "    def gaus(x, a, xa, sigma_a, b, xb, sigma_b):\n",
    "        return a*exp(-(x-xa)**2/(2*sigma_a**2))+b*exp(-(x-xb)**2/(2*sigma_b**2))\n",
    "\n",
    "    initial_values = [4000, 4, 4, 3000, 29, 12]\n",
    "\n",
    "    popt,pcov = curve_fit(gaus,x,y,p0=initial_values)\n",
    "    print(\"Amplitude a: %.4f+/-%.4f\" %(popt[0],pcov[0][0]))\n",
    "    print(\"Mean a: %.4f+/-%.4f\" %(popt[1],pcov[1][1]))\n",
    "    c_means.append(popt[1])\n",
    "    c_means_error.append(pcov[1][1])\n",
    "    print(\"Sigma a: %.4f+/-%.4f\" %(popt[2],pcov[2][2]))\n",
    "    print(\"Amplitude b: %.4f+/-%.4f\" %(popt[3],pcov[3][3]))\n",
    "    print(\"Mean b: %.4f+/-%.4f\" %(popt[4],pcov[4][4]))\n",
    "    d_means.append(popt[4])\n",
    "    d_means_error.append(pcov[4][4])    \n",
    "    print(\"Sigma b: %.4f+/-%.4f\" %(popt[5],pcov[5][5]))\n",
    "\n",
    "    \n",
    "    plt.title(\"%i ns < Time Delay < %i ns\" %(time_series[index], time_series[index+1]))\n",
    "    plt.plot(x,gaus(x,*popt),'ro:')\n",
    "    plt.xlabel('Radial Displacement [cm]')\n",
    "    plt.ylabel('Counts')\n",
    "    #plt.savefig('radial_displacement_%i.pdf' %index)\n",
    "    #plt.savefig('radial_displacement_%i.png' %index)\n",
    "    plt.legend()\n",
    "    plt.show()\n"
   ]
  },
  {
   "cell_type": "code",
   "execution_count": null,
   "metadata": {
    "collapsed": false,
    "deletable": true,
    "editable": true
   },
   "outputs": [],
   "source": [
    "#%%capture\n",
    "xspace=np.linspace(-20, 20, 21)\n",
    "yspace=np.linspace(-20, 20, 21)\n",
    "x_means=[]\n",
    "y_means=[]\n",
    "x_pos=[]\n",
    "y_pos=[]\n",
    "for x_index in range(len(xspace)-1):\n",
    "    data_slice_x = hax.cuts.selection(data_se, data_se['x_s2']>xspace[x_index], 'X LowerBound')\n",
    "    data_slice_x = hax.cuts.selection(data_slice_x, data_slice_x['x_s2']<xspace[x_index+1], 'X UpperBound')\n",
    "    x_series=[]\n",
    "    y_series=[]\n",
    "    x_ave=[]\n",
    "    y_ave=[]\n",
    "    for y_index in range(len(yspace)-1):\n",
    "        print(x_index, y_index)\n",
    "        data_slice_y = hax.cuts.selection(data_slice_x, data_slice_x['y_s2']>yspace[y_index], 'Y LowerBound')\n",
    "        data_slice_y = hax.cuts.selection(data_slice_y, data_slice_y['y_s2']<yspace[y_index+1], 'Y UpperBound')\n",
    "\n",
    "        x_vector = data_slice_y.x_se - data_slice_y.x_s2\n",
    "        y_vector = data_slice_y.y_se - data_slice_y.y_s2\n",
    "        x_ave.append(np.mean(x_vector))\n",
    "        y_ave.append(np.mean(y_vector))\n",
    "        x_series.append(xspace[x_index]+(xspace[x_index+1]-xspace[x_index])/2)\n",
    "        y_series.append(yspace[y_index]+(yspace[y_index+1]-yspace[y_index])/2)\n",
    "        #print(x_index, y_index, x_ave, y_ave)\n",
    "    x_pos.append(x_series)\n",
    "    y_pos.append(y_series)\n",
    "    x_means.append(x_ave)\n",
    "    y_means.append(y_ave)\n"
   ]
  },
  {
   "cell_type": "code",
   "execution_count": null,
   "metadata": {
    "collapsed": false,
    "deletable": true,
    "editable": true
   },
   "outputs": [],
   "source": [
    "plt.figure(figsize=(5.7, 5.7))\n",
    "U=np.cos(x_means)\n",
    "V=np.sin(y_means)\n",
    "Q=plt.quiver(x_pos, y_pos, U, V)\n",
    "plt.ylabel('Y Displacement [cm]')\n",
    "plt.xlabel('X Displacement [cm]')\n",
    "plt.savefig('average_displacement.pdf')\n",
    "plt.savefig('average_displacement.png')\n",
    "plt.show()"
   ]
  },
  {
   "cell_type": "code",
   "execution_count": null,
   "metadata": {
    "collapsed": false,
    "deletable": true,
    "editable": true,
    "scrolled": false
   },
   "outputs": [],
   "source": [
    "import pylab as plb\n",
    "import matplotlib.pyplot as plt\n",
    "from scipy.optimize import curve_fit\n",
    "from scipy import asarray as ar,exp\n",
    "\n",
    "a_means=[]\n",
    "b_means=[]\n",
    "a_means_error=[]\n",
    "b_means_error=[]\n",
    "\n",
    "time_series = np.linspace(0, 2000000, 51)\n",
    "for index in range(len(time_series[:-1])):\n",
    "    \n",
    "    data_se = hax.cuts.selection(data_radon, data_radon['r_s2']<1, 'X-y selection')\n",
    "    data_slice = hax.cuts.selection(data_se, data_se['time_since_s2']>time_series[index], 'LowerBound')\n",
    "    data_slice = hax.cuts.selection(data_slice, data_slice['time_since_s2']<time_series[index+1], 'UpperBound')\n",
    "\n",
    "    _bins=100\n",
    "    _x_lower=-50\n",
    "    _x_upper=50\n",
    "    _x_range=[_x_lower, _x_upper]\n",
    "    _y_lower=-50\n",
    "    _y_upper=50\n",
    "    _y_range=[_y_lower, _y_upper]\n",
    "    #fig = plt.figure(figsize=(10, 8))\n",
    "    plt.set_cmap(\"viridis\")\n",
    "    plt.hist2d(data_se.x_se, data_se.y_se, bins=[_bins, _bins], range=[_x_range, _y_range], norm=LogNorm(), vmin=1)\n",
    "    plt.colorbar()\n",
    "    #plt.xlabel('Electrons') \n",
    "    #plt.ylabel('Photons')\n",
    "    plt.savefig('confined_xy_%i.pdf' %index)\n",
    "    plt.savefig('confined_xy_%i.png' %index)\n",
    "    plt.legend()\n",
    "    plt.show()\n"
   ]
  },
  {
   "cell_type": "code",
   "execution_count": null,
   "metadata": {
    "collapsed": true,
    "deletable": true,
    "editable": true
   },
   "outputs": [],
   "source": []
  }
 ],
 "metadata": {
  "kernelspec": {
   "display_name": "Python 3",
   "language": "python",
   "name": "python3"
  },
  "language_info": {
   "codemirror_mode": {
    "name": "ipython",
    "version": 3
   },
   "file_extension": ".py",
   "mimetype": "text/x-python",
   "name": "python",
   "nbconvert_exporter": "python",
   "pygments_lexer": "ipython3",
   "version": "3.4.4"
  }
 },
 "nbformat": 4,
 "nbformat_minor": 0
}
