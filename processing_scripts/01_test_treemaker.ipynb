{
 "cells": [
  {
   "cell_type": "code",
   "execution_count": 1,
   "metadata": {
    "collapsed": false
   },
   "outputs": [
    {
     "name": "stderr",
     "output_type": "stream",
     "text": [
      "/project/lgrandi/anaconda3/envs/pax_head/lib/python3.4/site-packages/seaborn-0.8.1-py3.4.egg/seaborn/apionly.py:6: UserWarning: As seaborn no longer sets a default style on import, the seaborn.apionly module is deprecated. It will be removed in a future version.\n",
      "  warnings.warn(msg, UserWarning)\n"
     ]
    },
    {
     "name": "stdout",
     "output_type": "stream",
     "text": [
      "Lax Version : 1.5.2\n"
     ]
    }
   ],
   "source": [
    "run ../initialize.ipynb"
   ]
  },
  {
   "cell_type": "code",
   "execution_count": 2,
   "metadata": {
    "collapsed": false
   },
   "outputs": [],
   "source": [
    "from Pre_trigger_peaks import Pre_Trigger\n",
    "#from PI_after_s2 import S2_ionization"
   ]
  },
  {
   "cell_type": "code",
   "execution_count": 3,
   "metadata": {
    "collapsed": false
   },
   "outputs": [
    {
     "name": "stdout",
     "output_type": "stream",
     "text": [
      "Processed data available selection: 0 rows removed (100.00% passed)\n",
      "Source in place selection: 7257 rows removed (4.56% passed)\n",
      "Source in place selection: 1190 rows removed (84.35% passed)\n",
      "Source in place selection: 7146 rows removed (6.02% passed)\n"
     ]
    },
    {
     "name": "stderr",
     "output_type": "stream",
     "text": [
      "/project/lgrandi/anaconda3/envs/pax_head/lib/python3.4/site-packages/hax-2.4.0-py3.4.egg/hax/cuts.py:125: UserWarning: Pandas doesn't allow columns to be created via a new attribute name - see https://pandas.pydata.org/pandas-docs/stable/indexing.html#attribute-access\n",
      "  d.cut_history = prev_cuts + [passthrough_dict]\n"
     ]
    }
   ],
   "source": [
    "datasets = hax.runs.datasets \n",
    "datasets = hax.runs.tags_selection(include=['*sciencerun1'],\n",
    "                                  exclude=['bad','messy', 'test',\n",
    "                                           'nofield','lowfield',\n",
    "                                           'commissioning',\n",
    "                                           'pmttrip','trip','_pmttrip',\n",
    "                                           'source_opening',\n",
    "                                           ],\n",
    "                                  )\n",
    "datasets= hax.cuts.selection(datasets, datasets['location'] != '', 'Processed data available')\n",
    "\n",
    "#Radon\n",
    "datasets_rn = hax.cuts.selection(datasets, datasets['source__type']=='Rn220', 'Source in place')\n",
    "dataset_names_rn = datasets_rn['name']\n",
    "\n",
    "#Bkg\n",
    "datasets_bkg = hax.cuts.selection(datasets, datasets['source__type']=='none', 'Source in place')\n",
    "dataset_names_bkg = datasets_bkg['name']\n",
    "\n",
    "#Krypton\n",
    "datasets_kr = hax.cuts.selection(datasets, datasets['source__type']=='Kr83m', 'Source in place')\n",
    "dataset_names_kr = datasets_kr['name']"
   ]
  },
  {
   "cell_type": "code",
   "execution_count": 4,
   "metadata": {
    "collapsed": true
   },
   "outputs": [],
   "source": [
    "hax.init(experiment='XENON1T', \n",
    "        pax_version_policy = '6.8.0',\n",
    "        main_data_paths = ['/project2/lgrandi/xenon1t/processed', '/project/lgrandi/xenon1t/processed'],\n",
    "        minitree_paths = ['/scratch/midway2/jpienaar/minitrees/',\n",
    "                         '/project2/lgrandi/xenon1t/minitrees/pax_v6.8.0',\n",
    "                         '/project/lgrandi/xenon1t/minitrees/pax_v6.8.0',\n",
    "                         ],\n",
    "        ) "
   ]
  },
  {
   "cell_type": "code",
   "execution_count": 11,
   "metadata": {
    "collapsed": false
   },
   "outputs": [
    {
     "name": "stderr",
     "output_type": "stream",
     "text": [
      "Run 170202_1747: Making Pre_Trigger minitree: 100%|██████████| 21603/21603 [01:23<00:00, 258.94it/s]\n",
      "Run 170202_1747: Making Basics minitree: 100%|██████████| 21603/21603 [00:36<00:00, 595.44it/s]\n",
      "Run 170202_1747: Making Pre_Trigger minitree: 100%|██████████| 21603/21603 [01:08<00:00, 315.38it/s]\n",
      "Run 170202_1747: Making Basics minitree: 100%|██████████| 21603/21603 [00:36<00:00, 596.48it/s]\n"
     ]
    }
   ],
   "source": [
    "#Main\n",
    "dataset_name=datasets_bkg.name.iloc[0]\n",
    "df_PI = hax.minitrees.load(dataset_name,\n",
    "                         #treemakers=[S2_ionization, 'Basics'],\n",
    "                         treemakers=[Pre_Trigger, 'Basics'],\n",
    "                         preselection=None,\n",
    "                         force_reload=True,\n",
    "                         )\n",
    "cache_file_name = '/home/jpienaar/batchjobs/%s_S2_Ionization.hdf5' %dataset_name\n",
    "hax.minitrees.save_cache_file(df_PI,cache_file_name)"
   ]
  },
  {
   "cell_type": "code",
   "execution_count": 12,
   "metadata": {
    "collapsed": false
   },
   "outputs": [
    {
     "name": "stderr",
     "output_type": "stream",
     "text": [
      "/project/lgrandi/anaconda3/envs/pax_head/lib/python3.4/site-packages/hax-2.4.0-py3.4.egg/hax/minitrees.py:585: UserWarning: Pandas doesn't allow columns to be created via a new attribute name - see https://pandas.pydata.org/pandas-docs/stable/indexing.html#attribute-access\n",
      "  result.cut_history = store.get_storer('data').attrs.cut_history\n"
     ]
    }
   ],
   "source": [
    "dataset_name=datasets_bkg.name.iloc[0]\n",
    "cache_file_name = '/home/jpienaar/batchjobs/%s_S2_Ionization.hdf5' %dataset_name\n",
    "df = hax.minitrees.load(cache_file = cache_file_name)"
   ]
  },
  {
   "cell_type": "markdown",
   "metadata": {},
   "source": [
    "## Standard Treatment"
   ]
  },
  {
   "cell_type": "code",
   "execution_count": null,
   "metadata": {
    "collapsed": false
   },
   "outputs": [],
   "source": [
    "df.columns"
   ]
  },
  {
   "cell_type": "code",
   "execution_count": null,
   "metadata": {
    "collapsed": false
   },
   "outputs": [],
   "source": [
    "plt.hist(df_PI.time_since_s2/1000, bins=100, range=[0, 1000])"
   ]
  },
  {
   "cell_type": "code",
   "execution_count": null,
   "metadata": {
    "collapsed": false
   },
   "outputs": [],
   "source": [
    "#Binning\n",
    "pax_config = configuration.load_configuration('XENON1T')\n",
    "R_tpc = pax_config['DEFAULT']['tpc_radius']\n",
    "window_length=10**8\n",
    "t_bins=np.linspace(0, window_length, 201)\n",
    "t_bin_width=t_bins[1:]-t_bins[:-1]\n",
    "r_bins=np.linspace(0, (R_tpc)**2, 101)\n",
    "dist_bins=np.linspace(0, (2*R_tpc), 101)\n",
    "s2_bins   = np.linspace(2, 6, 51)\n",
    "s2_p_bins = np.linspace(0, 4, 51)\n",
    "\n",
    "#Define Blank Hists\n",
    "livet_histogram=Histdd(bins=[t_bins,\n",
    "                             s2_bins,\n",
    "                             ], \n",
    "                        axis_names=['delta_T',\n",
    "                                    's2_area',\n",
    "                                    ]) \n",
    "\n",
    "livet_weights_histogram=Histdd(bins=[t_bins,\n",
    "                             s2_bins,\n",
    "                             ], \n",
    "                        axis_names=['delta_T',\n",
    "                                    's2_area',\n",
    "                                    ]) \n",
    "\n",
    "events_histogram=Histdd(bins=[t_bins,\n",
    "                              s2_bins,\n",
    "                             ], \n",
    "                        axis_names=['delta_T',\n",
    "                                    's2_area'\n",
    "                                    ]) \n",
    "\n",
    "weights_histogram=Histdd(bins=[t_bins,\n",
    "                              s2_bins,\n",
    "                             ], \n",
    "                        axis_names=['delta_T',\n",
    "                                    's2_area'\n",
    "                                    ]) \n",
    "\n",
    "\n",
    "peaks_histogram=Histdd(bins=[t_bins,\n",
    "                             s2_p_bins,\n",
    "                             ], \n",
    "                        axis_names=['delta_T',\n",
    "                                    'peak_area'\n",
    "                                    ]) \n",
    "\n",
    "\n",
    "dt_r2_histogram=Histdd(bins=[t_bins,\n",
    "                             r_bins,\n",
    "                             ], \n",
    "                        axis_names=['delta_T',\n",
    "                                    'r_dist',\n",
    "                                    ]) \n",
    "\n",
    "weights_dt_r2_histogram=Histdd(bins=[t_bins,\n",
    "                             r_bins,\n",
    "                             ], \n",
    "                        axis_names=['delta_T',\n",
    "                                    'r_dist',\n",
    "                                    ]) \n",
    "\n",
    "\n",
    "dt_xy_histogram=Histdd(bins=[t_bins,\n",
    "                           dist_bins,\n",
    "                           dist_bins,\n",
    "                           ],\n",
    "                    axis_names=['delta_T',\n",
    "                                 'x_dist',\n",
    "                                 'y_dist',\n",
    "                                 ])"
   ]
  },
  {
   "cell_type": "code",
   "execution_count": null,
   "metadata": {
    "collapsed": false,
    "scrolled": false
   },
   "outputs": [],
   "source": [
    "#For each unique s2 investigate subsquent S2s\n",
    "num_s2s=len(unique_s2s)\n",
    "for s2 in tqdm(unique_s2s):\n",
    "    #window_length=window_length\n",
    "    temp_df = df.loc[(df.global_time>(s2[0]))&(df.global_time<(s2[0]+window_length))]\n",
    "    \n",
    "    #Find unique events within 1ms\n",
    "    subsequent_events=pd.unique(temp_df['event_number'].values)\n",
    "    event_info=[]\n",
    "    for event_id in subsequent_events:\n",
    "        event_df=temp_df[temp_df.event_number==event_id].iloc[0]\n",
    "        event_info.append([np.nanmin([event_df.s1_time, event_df.s2_time]), event_df.event_start])\n",
    "    \n",
    "    #Binning Info of events\n",
    "    bin_allocation_start = np.digitize([x[1]-s2[0] for x in event_info], bins=t_bins)\n",
    "    bin_allocation_end = np.digitize([x[0]-s2[0] for x in event_info], bins=t_bins)\n",
    "    bin_difference=bin_allocation_end-bin_allocation_start\n",
    "    \n",
    "    #Determine Live_time conisdered in each time bin\n",
    "    start_time=[x[1]-s2[0] for x in event_info]\n",
    "    end_time=[np.min([x[0]-s2[0], window_length]) for x in event_info]\n",
    "    \n",
    "    live_time_array=[]\n",
    "    #Bin number in digitize of by 1\n",
    "    for idx, bin_allocation in enumerate(bin_difference):\n",
    "        if bin_allocation == 0:\n",
    "            live_time_array.append([t_bins[bin_allocation_start[idx]-1], \n",
    "                                    (end_time[idx]-start_time[idx])/t_bin_width[bin_allocation_start[idx]-1]])\n",
    "        elif bin_allocation == 1:\n",
    "            live_time_array.append([t_bins[bin_allocation_start[idx]-1], \n",
    "                                   (t_bins[bin_allocation_start[idx]]-start_time[idx])/t_bin_width[bin_allocation_start[idx]-1]])\n",
    "            if bin_allocation_start[idx]<len(t_bins)-1:\n",
    "                live_time_array.append([t_bins[bin_allocation_start[idx]], \n",
    "                                    (end_time[idx]-t_bins[bin_allocation_start[idx]])/t_bin_width[bin_allocation_start[idx]]])\n",
    "        elif bin_allocation >1:\n",
    "            live_time_array.append([t_bins[bin_allocation_start[idx]-1], \n",
    "                                   (t_bins[bin_allocation_start[idx]]-start_time[idx])/t_bin_width[bin_allocation_start[idx]-1]])\n",
    "            for index in range(bin_allocation-1):\n",
    "                if bin_allocation_start[idx]+index<len(t_bins)-1:\n",
    "                    live_time_array.append([t_bins[bin_allocation_start[idx]+index],1])\n",
    "            if bin_allocation_start[idx]+(bin_allocation-1)<len(t_bins)-1:\n",
    "                live_time_array.append([t_bins[bin_allocation_start[idx]+(bin_allocation-1)], \n",
    "                                        (end_time[idx]-t_bins[bin_allocation_start[idx]+(bin_allocation-1)])/t_bin_width[bin_allocation_start[idx]+(bin_allocation-1)]])\n",
    "          \n",
    "    #Some Extra Branches\n",
    "    r_s2=s2[1]**2+s2[1]**2\n",
    "    \n",
    "    temp_df['x_dist'] = temp_df['x_p_tpf']-s2[1]\n",
    "    temp_df['y_dist'] = temp_df['y_p_tpf']-s2[2]\n",
    "    temp_df['r_dist'] = np.sqrt(temp_df['x_dist']**2+temp_df['y_dist']**2)\n",
    "    \n",
    "    temp_df['alpha'] = np.arccos((temp_df['r_dist']**2+r_s2**2-R_tpc**2)/(2*r_s2*temp_df['r_dist']))\n",
    "    temp_df['area_norm'] = temp_df['alpha'].fillna(np.pi) \n",
    "    temp_df['norm'] = temp_df['area_norm']/np.pi\n",
    "    \n",
    "    #Binning for bin width rate correction\n",
    "    peak_bins=np.digitize(temp_df['global_time'].values-s2[0], t_bins)\n",
    "  \n",
    "    \n",
    "    #Fill Live_T Histogram\n",
    "    histogram=Histdd([x[0]+1 for x in live_time_array],\n",
    "                     [np.log10(s2[3])]*len(live_time_array),\n",
    "                     weights=[x[1] for x in live_time_array],\n",
    "                     axis_names=['delta_T',\n",
    "                                 's2_area',\n",
    "                                 ], \n",
    "                     bins=[t_bins,\n",
    "                           s2_bins,\n",
    "                           ])\n",
    "    livet_histogram+=histogram\n",
    "\n",
    "    #Fill Live_T Histogram\n",
    "    histogram=Histdd([x[0]+1 for x in live_time_array],\n",
    "                     [np.log10(s2[3])]*len(live_time_array),\n",
    "                     weights=[x[1]**2 for x in live_time_array],\n",
    "                     axis_names=['delta_T',\n",
    "                                 's2_area',\n",
    "                                 ], \n",
    "                     bins=[t_bins,\n",
    "                           s2_bins,\n",
    "                           ])\n",
    "    livet_weights_histogram+=histogram\n",
    "\n",
    "    \n",
    "    #Fill Events Histogram according to Peak Size\n",
    "    histogram=Histdd(temp_df['global_time'].values-s2[0],\n",
    "                     np.log10(temp_df['area'].values),\n",
    "                     weights=1/t_bin_width[peak_bins-1],\n",
    "                     axis_names=['delta_T',\n",
    "                                 'peak_area',\n",
    "                                 ], \n",
    "                     bins=[t_bins,\n",
    "                           s2_p_bins,\n",
    "                           ])\n",
    "    peaks_histogram+=histogram\n",
    "    \n",
    "    #Fill Events Histogram according to S2 Size\n",
    "    histogram=Histdd(temp_df['global_time'].values-s2[0],\n",
    "                     [np.log10(s2[3])]*len(temp_df),\n",
    "                     weights=1/t_bin_width[peak_bins-1],\n",
    "                     axis_names=['delta_T',\n",
    "                                 's2_area',\n",
    "                                 ], \n",
    "                     bins=[t_bins,\n",
    "                           s2_bins,\n",
    "                           ])\n",
    "    events_histogram+=histogram\n",
    "    \n",
    "    #Fill weights histogram for Events Histogram according to S2 Size\n",
    "    histogram=Histdd(temp_df['global_time'].values-s2[0],\n",
    "                     [np.log10(s2[3])]*len(temp_df),\n",
    "                     weights=(1/t_bin_width[peak_bins-1])**2,\n",
    "                     axis_names=['delta_T',\n",
    "                                 's2_area',\n",
    "                                 ], \n",
    "                     bins=[t_bins,\n",
    "                           s2_bins,\n",
    "                           ])\n",
    "    weights_histogram+=histogram\n",
    "            \n",
    "    ##Fill TR_Dist Histogram\n",
    "    histogram=Histdd(temp_df['global_time'].values-s2[0],\n",
    "                     (temp_df['r_dist'].values)**2,\n",
    "                     weights=1/temp_df['norm'].values,\n",
    "                     axis_names=['delta_T',\n",
    "                                 'r_dist',\n",
    "                                 ], \n",
    "                     bins=[t_bins,\n",
    "                           r_bins,\n",
    "                           ])\n",
    "    dt_r2_histogram+=histogram\n",
    "    \n",
    "    ##Fill Weight TR_Dist Histogram\n",
    "    histogram=Histdd(temp_df['global_time'].values-s2[0],\n",
    "                     (temp_df['r_dist'].values)**2,\n",
    "                     weights=(1/temp_df['norm'].values)**2,\n",
    "                     axis_names=['delta_T',\n",
    "                                 'r_dist',\n",
    "                                 ], \n",
    "                     bins=[t_bins,\n",
    "                           r_bins,\n",
    "                           ])\n",
    "    weights_dt_r2_histogram+=histogram\n",
    "    \n",
    "    ##Fill TXY_Dist Histogram\n",
    "    histogram=Histdd(temp_df['global_time'].values-s2[0],\n",
    "                     temp_df['x_dist'].values,\n",
    "                     temp_df['y_dist'].values,\n",
    "                     axis_names=['delta_T',\n",
    "                                 'x_dist',\n",
    "                                 'y_dist',\n",
    "                                 ], \n",
    "                     bins=[t_bins,\n",
    "                           dist_bins,\n",
    "                           dist_bins,\n",
    "                           ])\n",
    "    dt_xy_histogram+=histogram"
   ]
  },
  {
   "cell_type": "code",
   "execution_count": null,
   "metadata": {
    "collapsed": false
   },
   "outputs": [],
   "source": [
    "rn_livet=events_histogram\n",
    "plt.figure(figsize=(10, 8))\n",
    "rn_livet.plot(norm=LogNorm())\n",
    "plt.xlim([t_bins[1], 10**8])\n"
   ]
  },
  {
   "cell_type": "code",
   "execution_count": null,
   "metadata": {
    "collapsed": false
   },
   "outputs": [],
   "source": [
    "rn_livet=weights_histogram\n",
    "plt.figure(figsize=(10, 8))\n",
    "rn_livet.plot(norm=LogNorm())\n",
    "plt.xlim([t_bins[1], 10**8])\n",
    "\n",
    "\n"
   ]
  },
  {
   "cell_type": "markdown",
   "metadata": {
    "collapsed": true
   },
   "source": [
    "## A La Tianyu"
   ]
  },
  {
   "cell_type": "code",
   "execution_count": null,
   "metadata": {
    "collapsed": false
   },
   "outputs": [],
   "source": [
    "df.columns"
   ]
  },
  {
   "cell_type": "code",
   "execution_count": null,
   "metadata": {
    "collapsed": false
   },
   "outputs": [
    {
     "name": "stderr",
     "output_type": "stream",
     "text": [
      "0it [00:00, ?it/s]/project/lgrandi/anaconda3/envs/pax_head/lib/python3.4/site-packages/ipykernel/__main__.py:14: SettingWithCopyWarning: \n",
      "A value is trying to be set on a copy of a slice from a DataFrame.\n",
      "Try using .loc[row_indexer,col_indexer] = value instead\n",
      "\n",
      "See the caveats in the documentation: http://pandas.pydata.org/pandas-docs/stable/indexing.html#indexing-view-versus-copy\n",
      "26100it [53:11,  8.18it/s]\n"
     ]
    }
   ],
   "source": [
    "window_length=10**8\n",
    "t_bins=np.linspace(0, window_length, 201)\n",
    "t_bin_width=t_bins[1:]-t_bins[:-1]\n",
    "\n",
    "delay_array=[]\n",
    "live_time_array=[]\n",
    "for key, peak in tqdm(df.iloc[0:].iterrows()):\n",
    "    temp_df = df.loc[((df.s2_time)<peak.global_time)&\n",
    "                     ((df.s2_time)>peak.global_time-window_length)&\n",
    "                    (df.event_number!=peak.event_number)]   \n",
    "    if len(temp_df)==0:\n",
    "        continue\n",
    "    else:      \n",
    "        temp_df['time_delay']=peak.global_time-temp_df.s2_time\n",
    "        s2_diff=np.nanmin(temp_df.time_delay.values)\n",
    "        \n",
    "        delay_array.append(s2_diff)\n",
    "              \n",
    "        #Binning Info of events\n",
    "        start_diff = s2_diff-peak.global_time-peak.event_start\n",
    "        end_diff = s2_diff+(np.nanmin([peak.s1_time, peak.s2_time])-peak.global_time)\n",
    "        \n",
    "        bin_allocation_start = np.digitize(start_diff, bins=t_bins)\n",
    "        bin_allocation_end = np.digitize(end_diff, bins=t_bins)\n",
    "        bin_difference=bin_allocation_end-bin_allocation_start\n",
    "    \n",
    "        #Determine Live_time considered in each time bin\n",
    "        start_time=start_diff\n",
    "        end_time=end_diff\n",
    "    \n",
    "        #Bin number in digitize of by 1           \n",
    "        if bin_difference == 0:\n",
    "            live_time_array.append([t_bins[bin_allocation_start-1],\n",
    "                                    (end_time-start_time)/t_bin_width[bin_allocation_start-1]])\n",
    "        elif bin_difference == 1:\n",
    "            live_time_array.append([t_bins[bin_allocation_start-1], \n",
    "                                   (t_bins[bin_allocation_start]-start_time)/t_bin_width[bin_allocation_start-1]])\n",
    "            if bin_allocation_start<len(t_bins)-1:\n",
    "                live_time_array.append([t_bins[bin_allocation_start], \n",
    "                                   (end_time-t_bins[bin_allocation_start])/t_bin_width[bin_allocation_start]])\n",
    "        elif bin_difference > 1:\n",
    "            live_time_array.append([t_bins[bin_allocation_start-1], \n",
    "                                   (t_bins[bin_allocation_start]-start_time)/t_bin_width[bin_allocation_start-1]])\n",
    "            for index in range(bin_difference-1):\n",
    "                if bin_allocation_start+index<len(t_bins)-1:\n",
    "                    live_time_array.append([t_bins[bin_allocation_start+index],1])\n",
    "            if bin_allocation_start+(bin_difference-1)<len(t_bins)-1:\n",
    "                live_time_array.append([t_bins[bin_allocation_start+(bin_difference-1)], \n",
    "               (end_time-t_bins[bin_allocation_start+(bin_difference-1)])/t_bin_width[bin_allocation_start+(bin_difference-1)]])\n",
    "        \n",
    "        \n",
    "        \n",
    "        \n",
    "        \n",
    "        \n",
    "        "
   ]
  },
  {
   "cell_type": "code",
   "execution_count": null,
   "metadata": {
    "collapsed": false
   },
   "outputs": [
    {
     "data": {
      "image/png": "[encoded data removed]",
      "text/plain": [
       "<matplotlib.figure.Figure at 0x7f48e6773160>"
      ]
     },
     "metadata": {},
     "output_type": "display_data"
    }
   ],
   "source": [
    "window_length=10**8\n",
    "t_bins=np.linspace(0, window_length, 201)\n",
    "plt.figure(figsize=(10, 8))\n",
    "histogram=Histdd(delay_array,\n",
    "                 #weights=[x[1] for x in live_time_array],\n",
    "                 axis_names=['delta_T',\n",
    "                                 ],\n",
    "                 bins=[t_bins,\n",
    "                           ])\n",
    "histogram.plot()\n",
    "plt.yscale('log')"
   ]
  },
  {
   "cell_type": "code",
   "execution_count": 10,
   "metadata": {
    "collapsed": false
   },
   "outputs": [
    {
     "data": {
      "image/png": "[encoded data removed]",
      "text/plain": [
       "<matplotlib.figure.Figure at 0x7f48e6888710>"
      ]
     },
     "metadata": {},
     "output_type": "display_data"
    }
   ],
   "source": [
    "window_length=10**8\n",
    "t_bins=np.linspace(0, window_length, 201)\n",
    "plt.figure(figsize=(10, 8))\n",
    "histogram=Histdd([x[0]+1 for x in live_time_array],\n",
    "                 weights=[x[1]**2 for x in live_time_array],\n",
    "                 axis_names=['delta_T',\n",
    "                                 ],\n",
    "                 bins=[t_bins,\n",
    "                           ])\n",
    "histogram.plot()\n",
    "plt.yscale('log')"
   ]
  },
  {
   "cell_type": "code",
   "execution_count": null,
   "metadata": {
    "collapsed": false
   },
   "outputs": [],
   "source": [
    "test=[x[0]+1 for x in live_time_array]"
   ]
  },
  {
   "cell_type": "code",
   "execution_count": null,
   "metadata": {
    "collapsed": false
   },
   "outputs": [],
   "source": [
    "np.shape(delay_array)"
   ]
  },
  {
   "cell_type": "code",
   "execution_count": null,
   "metadata": {
    "collapsed": true
   },
   "outputs": [],
   "source": [
    "    histogram=Histdd([x[0]+1 for x in live_time_array],\n",
    "                     [np.log10(s2[3])]*len(live_time_array),\n",
    "                     weights=[x[1]**2 for x in live_time_array],\n",
    "                     axis_names=['delta_T',\n",
    "                                 's2_area',\n",
    "                                 ], \n",
    "                     bins=[t_bins,\n",
    "                           s2_bins,\n",
    "                           ])\n",
    "    livet_weights_histogram+=histogram"
   ]
  }
 ],
 "metadata": {
  "kernelspec": {
   "display_name": "Python 3",
   "language": "python",
   "name": "python3"
  },
  "language_info": {
   "codemirror_mode": {
    "name": "ipython",
    "version": 3
   },
   "file_extension": ".py",
   "mimetype": "text/x-python",
   "name": "python",
   "nbconvert_exporter": "python",
   "pygments_lexer": "ipython3",
   "version": "3.4.4"
  }
 },
 "nbformat": 4,
 "nbformat_minor": 2
}
