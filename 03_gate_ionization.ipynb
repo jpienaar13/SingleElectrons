{
 "cells": [
  {
   "cell_type": "code",
   "execution_count": 8,
   "metadata": {
    "collapsed": false,
    "deletable": true,
    "editable": true
   },
   "outputs": [
    {
     "name": "stdout",
     "output_type": "stream",
     "text": [
      "Lax Version : 1.3.0\n"
     ]
    }
   ],
   "source": [
    "run ../initialize.ipynb"
   ]
  },
  {
   "cell_type": "code",
   "execution_count": 9,
   "metadata": {
    "collapsed": false,
    "deletable": true,
    "editable": true
   },
   "outputs": [],
   "source": [
    "hax.init(experiment='XENON1T', \n",
    "        pax_version_policy = '6.8.0',\n",
    "        main_data_paths = ['/project2/lgrandi/xenon1t/processed', '/project/lgrandi/xenon1t/processed'],\n",
    "        minitree_paths = [\n",
    "        '/scratch/midway2/jpienaar/minitrees/',\n",
    "        '/project2/lgrandi/xenon1t/minitrees/pax_v6.8.0',\n",
    "        '/project/lgrandi/xenon1t/minitrees/pax_v6.8.0',\n",
    "        ],\n",
    "        )  "
   ]
  },
  {
   "cell_type": "markdown",
   "metadata": {
    "deletable": true,
    "editable": true
   },
   "source": [
    "### Load Data (Radon)"
   ]
  },
  {
   "cell_type": "code",
   "execution_count": 10,
   "metadata": {
    "collapsed": false,
    "deletable": true,
    "editable": true
   },
   "outputs": [],
   "source": [
    "from PI_after_s1 import S1_ionization\n",
    "from PI_after_s2 import S2_ionization"
   ]
  },
  {
   "cell_type": "code",
   "execution_count": 11,
   "metadata": {
    "collapsed": false,
    "deletable": true,
    "editable": true
   },
   "outputs": [
    {
     "name": "stdout",
     "output_type": "stream",
     "text": [
      "Source in place selection: 6473 rows removed (5.09% passed)\n",
      "Processed data available selection: 0 rows removed (100.00% passed)\n",
      "Total of 347 datasets\n"
     ]
    }
   ],
   "source": [
    "datasets = hax.runs.datasets # this variable holds all dataset info\n",
    "datasets = hax.runs.tags_selection(include=['*sciencerun1'],\n",
    "                                  exclude=['bad','messy', 'test',\n",
    "                                           'nofield','lowfield',\n",
    "                                           'commissioning',\n",
    "                                           'pmttrip','trip','_pmttrip',\n",
    "                                           'source_opening',\n",
    "                                           ],\n",
    "                                  )\n",
    "datasets_radon = hax.cuts.selection(datasets, datasets['source__type']=='Rn220', 'Source in place')\n",
    "datasets_radon = hax.cuts.selection(datasets_radon, datasets_radon['location'] != '', 'Processed data available')\n",
    "run_numbers_radon = datasets_radon['number'].values\n",
    "print('Total of %d datasets' % len(run_numbers_radon))\n"
   ]
  },
  {
   "cell_type": "code",
   "execution_count": 12,
   "metadata": {
    "collapsed": false,
    "deletable": true,
    "editable": true
   },
   "outputs": [
    {
     "name": "stdout",
     "output_type": "stream",
     "text": [
      "Loading data\n",
      "CPU times: user 697 ms, sys: 273 ms, total: 969 ms\n",
      "Wall time: 2.46 s\n"
     ]
    }
   ],
   "source": [
    "%%time\n",
    "print('Loading data')\n",
    "data_radon_sr1 = hax.minitrees.load(run_numbers_radon[0:10],\n",
    "                        treemakers = [S1_ionization, S2_ionization, 'Basics'],\n",
    "                        #preselection = ['s2 > 5000'],\n",
    "                        num_workers=8,\n",
    "                        #force_reload=True,\n",
    "                        )\n",
    "#data_radon['r'] = np.sqrt(data_radon['x']**2 + data_radon['y']**2)"
   ]
  },
  {
   "cell_type": "markdown",
   "metadata": {
    "deletable": true,
    "editable": true
   },
   "source": [
    "#### SR0"
   ]
  },
  {
   "cell_type": "code",
   "execution_count": 13,
   "metadata": {
    "collapsed": false,
    "deletable": true,
    "editable": true
   },
   "outputs": [
    {
     "name": "stdout",
     "output_type": "stream",
     "text": [
      "Source in place selection: 1394 rows removed (4.85% passed)\n",
      "Processed data available selection: 0 rows removed (100.00% passed)\n",
      "Total of 71 datasets\n"
     ]
    }
   ],
   "source": [
    "datasets = hax.runs.datasets # this variable holds all dataset info\n",
    "datasets = hax.runs.tags_selection(include=['*sciencerun0'],\n",
    "                                  exclude=['bad','messy', 'test',\n",
    "                                           'nofield','lowfield',\n",
    "                                           'commissioning',\n",
    "                                           'pmttrip','trip','_pmttrip',\n",
    "                                           'source_opening',\n",
    "                                           ],\n",
    "                                  )\n",
    "datasets_radon = hax.cuts.selection(datasets, datasets['source__type']=='Rn220', 'Source in place')\n",
    "datasets_radon = hax.cuts.selection(datasets_radon, datasets_radon['location'] != '', 'Processed data available')\n",
    "run_numbers_radon = datasets_radon['number'].values\n",
    "print('Total of %d datasets' % len(run_numbers_radon))\n"
   ]
  },
  {
   "cell_type": "code",
   "execution_count": 14,
   "metadata": {
    "collapsed": false,
    "deletable": true,
    "editable": true
   },
   "outputs": [
    {
     "name": "stdout",
     "output_type": "stream",
     "text": [
      "Loading data\n",
      "CPU times: user 877 ms, sys: 359 ms, total: 1.24 s\n",
      "Wall time: 2.53 s\n"
     ]
    }
   ],
   "source": [
    "%%time\n",
    "print('Loading data')\n",
    "data_radon_sr0 = hax.minitrees.load(run_numbers_radon[0:10],\n",
    "                        treemakers = [S1_ionization, S2_ionization, 'Basics'],\n",
    "                        #preselection = ['s2 > 5000'],\n",
    "                        num_workers=8,\n",
    "                        #force_reload=True,\n",
    "                        )\n",
    "#data_radon['r'] = np.sqrt(data_radon['x']**2 + data_radon['y']**2)"
   ]
  },
  {
   "cell_type": "code",
   "execution_count": null,
   "metadata": {
    "collapsed": true,
    "deletable": true,
    "editable": true
   },
   "outputs": [],
   "source": []
  }
 ],
 "metadata": {
  "kernelspec": {
   "display_name": "Python 3",
   "language": "python",
   "name": "python3"
  },
  "language_info": {
   "codemirror_mode": {
    "name": "ipython",
    "version": 3
   },
   "file_extension": ".py",
   "mimetype": "text/x-python",
   "name": "python",
   "nbconvert_exporter": "python",
   "pygments_lexer": "ipython3",
   "version": "3.4.4"
  }
 },
 "nbformat": 4,
 "nbformat_minor": 0
}
