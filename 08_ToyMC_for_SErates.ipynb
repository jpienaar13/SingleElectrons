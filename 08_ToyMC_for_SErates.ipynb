{
 "cells": [
  {
   "cell_type": "code",
   "execution_count": 2,
   "metadata": {
    "collapsed": false
   },
   "outputs": [
    {
     "name": "stdout",
     "output_type": "stream",
     "text": [
      "Lax Version : 1.5.2\n"
     ]
    },
    {
     "name": "stderr",
     "output_type": "stream",
     "text": [
      "/project/lgrandi/anaconda3/envs/pax_head/lib/python3.4/site-packages/seaborn-0.8.1-py3.4.egg/seaborn/apionly.py:6: UserWarning: As seaborn no longer sets a default style on import, the seaborn.apionly module is deprecated. It will be removed in a future version.\n",
      "  warnings.warn(msg, UserWarning)\n"
     ]
    }
   ],
   "source": [
    "run ../initialize.ipynb"
   ]
  },
  {
   "cell_type": "code",
   "execution_count": 3,
   "metadata": {
    "collapsed": true
   },
   "outputs": [],
   "source": [
    "import scipy"
   ]
  },
  {
   "cell_type": "code",
   "execution_count": 4,
   "metadata": {
    "collapsed": true
   },
   "outputs": [],
   "source": [
    "def get_file_list(path, pattern, remove_string='', remove_path=True):\n",
    "    '''\n",
    "    Get a list of files matching pattern in path. Optional to remove a part of the path (i.e. the extention)\n",
    "    Optional to remove the path\n",
    "    '''\n",
    "    file_list = glob.glob(path + pattern)\n",
    "    # Remove path\n",
    "    for i, f in enumerate(file_list):\n",
    "        if remove_path:\n",
    "            f = f.replace(path, '')\n",
    "        if remove_string != '':\n",
    "            f = f.replace(remove_string, '')\n",
    "        file_list[i] = f\n",
    "    file_list = np.sort(file_list)\n",
    "    return file_list\n"
   ]
  },
  {
   "cell_type": "markdown",
   "metadata": {},
   "source": [
    "### Find and load SR0 Datasets"
   ]
  },
  {
   "cell_type": "code",
   "execution_count": null,
   "metadata": {
    "collapsed": false
   },
   "outputs": [
    {
     "name": "stdout",
     "output_type": "stream",
     "text": [
      "Processed data available selection: 0 rows removed (100.00% passed)\n",
      "Source in place selection: 1390 rows removed (4.86% passed)\n",
      "Source in place selection: 559 rows removed (61.74% passed)\n",
      "Source in place selection: 1372 rows removed (6.09% passed)\n"
     ]
    },
    {
     "name": "stderr",
     "output_type": "stream",
     "text": [
      "/project/lgrandi/anaconda3/envs/pax_head/lib/python3.4/site-packages/hax-2.4.0-py3.4.egg/hax/cuts.py:125: UserWarning: Pandas doesn't allow columns to be created via a new attribute name - see https://pandas.pydata.org/pandas-docs/stable/indexing.html#attribute-access\n",
      "  d.cut_history = prev_cuts + [passthrough_dict]\n"
     ]
    }
   ],
   "source": [
    "datasets = hax.runs.datasets \n",
    "datasets = hax.runs.tags_selection(include=['*sciencerun0'],\n",
    "                                  exclude=['bad','messy', 'test',\n",
    "                                           'nofield','lowfield',\n",
    "                                           'commissioning', 'flash',\n",
    "                                           'pmttrip','trip','_pmttrip',\n",
    "                                           'source_opening',\n",
    "                                           ],\n",
    "                                  )\n",
    "datasets= hax.cuts.selection(datasets, datasets['location'] != '', 'Processed data available')\n",
    "\n",
    "#Radon\n",
    "datasets_rn = hax.cuts.selection(datasets, datasets['source__type']=='Rn220', 'Source in place')\n",
    "dataset_names_rn = datasets_rn['name']\n",
    "\n",
    "#Bkg\n",
    "datasets_bkg = hax.cuts.selection(datasets, datasets['source__type']=='none', 'Source in place')\n",
    "dataset_names_bkg = datasets_bkg['name']\n",
    "\n",
    "#Krypton\n",
    "datasets_kr = hax.cuts.selection(datasets, datasets['source__type']=='Kr83m', 'Source in place')\n",
    "dataset_names_kr = datasets_kr['name']\n"
   ]
  },
  {
   "cell_type": "code",
   "execution_count": null,
   "metadata": {
    "collapsed": false
   },
   "outputs": [
    {
     "name": "stderr",
     "output_type": "stream",
     "text": [
      "\r",
      "  0%|          | 0/5707 [00:00<?, ?it/s]"
     ]
    },
    {
     "name": "stdout",
     "output_type": "stream",
     "text": [
      "Searching for Processed Pickle Files\n",
      "Found 5707 datasets\n"
     ]
    },
    {
     "name": "stderr",
     "output_type": "stream",
     "text": [
      " 97%|█████████▋| 5551/5707 [13:40<00:23,  6.77it/s]"
     ]
    }
   ],
   "source": [
    "%%time\n",
    "print('Searching for Processed Pickle Files')\n",
    "#simpath= '/project/lgrandi/jpienaar/cache_files/'\n",
    "simpath= '/scratch/midway2/jpienaar/cache_files/'\n",
    "\n",
    "#Find datasets\n",
    "datasets = get_file_list(simpath, '*dt.pkl', ' ')\n",
    "print('Found %d datasets' % len(datasets))\n",
    "\n",
    "processed_list=[]\n",
    "for dataset in tqdm(datasets):\n",
    "    with open(simpath+dataset, 'rb') as handle:\n",
    "        data_temp = pickle.load(handle)\n",
    "        try:\n",
    "            version=data_temp['version']\n",
    "            if version == '2.0':\n",
    "                processed_list.append(dataset)\n",
    "        except KeyError:\n",
    "            continue\n",
    "print(\"Found %i processed files \" %len(processed_list))\n",
    "datasets=processed_list\n",
    "\n",
    "dicts_datasets_rn={}\n",
    "duration_rn=0\n",
    "events_rn=0\n",
    "dicts_datasets_kr={}\n",
    "duration_kr=0\n",
    "events_kr=0\n",
    "dicts_datasets_bkg={}\n",
    "duration_bkg=0\n",
    "events_bkg=0\n",
    "for dataset in tqdm(datasets[:]):\n",
    "    key=dataset[:-7]\n",
    "    if dataset_names_rn.isin([dataset[:-7]]).any():\n",
    "        with open(simpath+dataset, 'rb') as handle:\n",
    "            data_dict = pickle.load(handle)\n",
    "            dataset_temp = datasets_rn.loc[datasets_rn.name==dataset[:-7]]\n",
    "            time_diff=dataset_temp.end-dataset_temp.start\n",
    "            data_dict['duration'] =  time_diff.iloc[0].seconds\n",
    "            duration_rn+=time_diff.iloc[0].seconds\n",
    "            events_rn+=dataset_temp.iloc[0].trigger__events_built\n",
    "        dicts_datasets_rn[key]=data_dict\n",
    "              \n",
    "    elif dataset_names_kr.isin([dataset[:-7]]).any():\n",
    "        with open(simpath+dataset, 'rb') as handle:\n",
    "            data_dict = pickle.load(handle)\n",
    "            dataset_temp = datasets_kr.loc[datasets_kr.name==dataset[:-7]]\n",
    "            time_diff=dataset_temp.end-dataset_temp.start\n",
    "            data_dict['duration'] =  time_diff.iloc[0].seconds\n",
    "            duration_kr+=time_diff.iloc[0].seconds\n",
    "            events_kr+=dataset_temp.iloc[0].trigger__events_built\n",
    "        dicts_datasets_kr[key]=data_dict\n",
    "        \n",
    "    elif dataset_names_bkg.isin([dataset[:-7]]).any():\n",
    "        with open(simpath+dataset, 'rb') as handle:\n",
    "            data_dict = pickle.load(handle)\n",
    "            dataset_temp = datasets_bkg.loc[datasets_bkg.name==dataset[:-7]]\n",
    "            time_diff=dataset_temp.end-dataset_temp.start\n",
    "            data_dict['duration'] =  time_diff.iloc[0].seconds\n",
    "            duration_bkg+=time_diff.iloc[0].seconds\n",
    "            events_bkg+=dataset_temp.iloc[0].trigger__events_built\n",
    "        dicts_datasets_bkg[key]=data_dict\n",
    "    \n",
    "#df_PI=pd.concat(df_PI)"
   ]
  },
  {
   "cell_type": "code",
   "execution_count": 154,
   "metadata": {
    "collapsed": false
   },
   "outputs": [
    {
     "name": "stdout",
     "output_type": "stream",
     "text": [
      "Event Rate Radon: 25.5221782698\n",
      "Event Rate Krypton: 41.6109814811\n",
      "Event Rate Background: 5.47442642538\n"
     ]
    }
   ],
   "source": [
    "print(\"Event Rate Radon:\", events_rn/duration_rn)\n",
    "print(\"Event Rate Krypton:\", events_kr/duration_kr)\n",
    "print(\"Event Rate Background:\", events_bkg/duration_bkg)"
   ]
  },
  {
   "cell_type": "code",
   "execution_count": 155,
   "metadata": {
    "collapsed": false
   },
   "outputs": [
    {
     "name": "stdout",
     "output_type": "stream",
     "text": [
      "Radon 200\n",
      "Krypton 174\n",
      "Background 2020\n"
     ]
    }
   ],
   "source": [
    "dict_source_sr0={'Radon' : dicts_datasets_rn, 'Background' : dicts_datasets_bkg, 'Krypton': dicts_datasets_kr,}\n",
    "for source, dict_data in dict_source_sr1.items():\n",
    "    print(source, len(dict_data))"
   ]
  },
  {
   "cell_type": "markdown",
   "metadata": {},
   "source": [
    "### Find and Load SR1 Datasets"
   ]
  },
  {
   "cell_type": "code",
   "execution_count": 4,
   "metadata": {
    "collapsed": false
   },
   "outputs": [
    {
     "name": "stdout",
     "output_type": "stream",
     "text": [
      "Processed data available selection: 0 rows removed (100.00% passed)\n",
      "Source in place selection: 7229 rows removed (4.56% passed)\n",
      "Source in place selection: 1185 rows removed (84.35% passed)\n",
      "Source in place selection: 7119 rows removed (6.01% passed)\n"
     ]
    },
    {
     "name": "stderr",
     "output_type": "stream",
     "text": [
      "/project/lgrandi/anaconda3/envs/pax_head/lib/python3.4/site-packages/hax-2.5.0-py3.4.egg/hax/cuts.py:130: UserWarning: Pandas doesn't allow columns to be created via a new attribute name - see https://pandas.pydata.org/pandas-docs/stable/indexing.html#attribute-access\n",
      "  d.cut_history = prev_cuts + [passthrough_dict]\n"
     ]
    }
   ],
   "source": [
    "datasets = hax.runs.datasets \n",
    "datasets = hax.runs.tags_selection(include=['*sciencerun1'],\n",
    "                                  exclude=['bad','messy', 'test',\n",
    "                                           'nofield','lowfield',\n",
    "                                           'commissioning', 'flash',\n",
    "                                           'pmttrip','trip','_pmttrip',\n",
    "                                           'source_opening',\n",
    "                                           ],\n",
    "                                  )\n",
    "datasets= hax.cuts.selection(datasets, datasets['location'] != '', 'Processed data available')\n",
    "\n",
    "#Radon\n",
    "datasets_rn = hax.cuts.selection(datasets, datasets['source__type']=='Rn220', 'Source in place')\n",
    "dataset_names_rn = datasets_rn['name']\n",
    "\n",
    "#Bkg\n",
    "datasets_bkg = hax.cuts.selection(datasets, datasets['source__type']=='none', 'Source in place')\n",
    "dataset_names_bkg = datasets_bkg['name']\n",
    "\n",
    "#Krypton\n",
    "datasets_kr = hax.cuts.selection(datasets, datasets['source__type']=='Kr83m', 'Source in place')\n",
    "dataset_names_kr = datasets_kr['name']\n"
   ]
  },
  {
   "cell_type": "code",
   "execution_count": 5,
   "metadata": {
    "collapsed": false
   },
   "outputs": [
    {
     "name": "stderr",
     "output_type": "stream",
     "text": [
      "\r",
      "  0%|          | 0/5707 [00:00<?, ?it/s]"
     ]
    },
    {
     "name": "stdout",
     "output_type": "stream",
     "text": [
      "Searching for Processed Pickle Files\n",
      "Found 5707 datasets\n"
     ]
    },
    {
     "name": "stderr",
     "output_type": "stream",
     "text": [
      "100%|██████████| 5707/5707 [09:58<00:00,  9.53it/s]\n",
      "  2%|▏         | 48/3141 [00:00<00:06, 471.22it/s]"
     ]
    },
    {
     "name": "stdout",
     "output_type": "stream",
     "text": [
      "Found 3141 processed files \n"
     ]
    },
    {
     "name": "stderr",
     "output_type": "stream",
     "text": [
      "100%|██████████| 3141/3141 [04:11<00:00, 12.47it/s] "
     ]
    },
    {
     "name": "stdout",
     "output_type": "stream",
     "text": [
      "CPU times: user 1min 36s, sys: 1min 51s, total: 3min 28s\n",
      "Wall time: 14min 10s\n"
     ]
    },
    {
     "name": "stderr",
     "output_type": "stream",
     "text": [
      "\n"
     ]
    }
   ],
   "source": [
    "%%time\n",
    "print('Searching for Processed Pickle Files')\n",
    "#simpath= '/project/lgrandi/jpienaar/cache_files/'\n",
    "simpath= '/scratch/midway2/jpienaar/cache_files/'\n",
    "\n",
    "#Find datasets\n",
    "datasets = get_file_list(simpath, '*dt.pkl', ' ')\n",
    "print('Found %d datasets' % len(datasets))\n",
    "\n",
    "processed_list=[]\n",
    "for dataset in tqdm(datasets):\n",
    "    with open(simpath+dataset, 'rb') as handle:\n",
    "        data_temp = pickle.load(handle)\n",
    "        try:\n",
    "            version=data_temp['version']\n",
    "            if version == '2.0':\n",
    "                processed_list.append(dataset)\n",
    "        except KeyError:\n",
    "            continue\n",
    "print(\"Found %i processed files \" %len(processed_list))\n",
    "datasets=processed_list\n",
    "\n",
    "dicts_datasets_rn={}\n",
    "duration_rn=0\n",
    "events_rn=0\n",
    "dicts_datasets_kr={}\n",
    "duration_kr=0\n",
    "events_kr=0\n",
    "dicts_datasets_bkg={}\n",
    "duration_bkg=0\n",
    "events_bkg=0\n",
    "for dataset in tqdm(datasets[:]):\n",
    "    key=dataset[:-7]\n",
    "    if dataset_names_rn.isin([dataset[:-7]]).any():\n",
    "        with open(simpath+dataset, 'rb') as handle:\n",
    "            data_dict = pickle.load(handle)\n",
    "            dataset_temp = datasets_rn.loc[datasets_rn.name==dataset[:-7]]\n",
    "            time_diff=dataset_temp.end-dataset_temp.start\n",
    "            data_dict['duration'] =  time_diff.iloc[0].seconds\n",
    "            duration_rn+=time_diff.iloc[0].seconds\n",
    "            events_rn+=dataset_temp.iloc[0].trigger__events_built\n",
    "        dicts_datasets_rn[key]=data_dict\n",
    "              \n",
    "    elif dataset_names_kr.isin([dataset[:-7]]).any():\n",
    "        with open(simpath+dataset, 'rb') as handle:\n",
    "            data_dict = pickle.load(handle)\n",
    "            dataset_temp = datasets_kr.loc[datasets_kr.name==dataset[:-7]]\n",
    "            time_diff=dataset_temp.end-dataset_temp.start\n",
    "            data_dict['duration'] =  time_diff.iloc[0].seconds\n",
    "            duration_kr+=time_diff.iloc[0].seconds\n",
    "            events_kr+=dataset_temp.iloc[0].trigger__events_built\n",
    "        dicts_datasets_kr[key]=data_dict\n",
    "        \n",
    "    elif dataset_names_bkg.isin([dataset[:-7]]).any():\n",
    "        with open(simpath+dataset, 'rb') as handle:\n",
    "            data_dict = pickle.load(handle)\n",
    "            dataset_temp = datasets_bkg.loc[datasets_bkg.name==dataset[:-7]]\n",
    "            time_diff=dataset_temp.end-dataset_temp.start\n",
    "            data_dict['duration'] =  time_diff.iloc[0].seconds\n",
    "            duration_bkg+=time_diff.iloc[0].seconds\n",
    "            events_bkg+=dataset_temp.iloc[0].trigger__events_built\n",
    "        dicts_datasets_bkg[key]=data_dict\n",
    "    \n",
    "#df_PI=pd.concat(df_PI)"
   ]
  },
  {
   "cell_type": "code",
   "execution_count": 6,
   "metadata": {
    "collapsed": false
   },
   "outputs": [
    {
     "name": "stdout",
     "output_type": "stream",
     "text": [
      "Event Rate Radon: 25.9683950722\n",
      "Event Rate Krypton: 50.5555256564\n",
      "Event Rate Background: 5.93512345338\n"
     ]
    }
   ],
   "source": [
    "print(\"Event Rate Radon:\", events_rn/duration_rn)\n",
    "print(\"Event Rate Krypton:\", events_kr/duration_kr)\n",
    "print(\"Event Rate Background:\", events_bkg/duration_bkg)"
   ]
  },
  {
   "cell_type": "code",
   "execution_count": 7,
   "metadata": {
    "collapsed": false
   },
   "outputs": [
    {
     "name": "stdout",
     "output_type": "stream",
     "text": [
      "Radon 119\n",
      "Background 1753\n",
      "Krypton 196\n"
     ]
    }
   ],
   "source": [
    "dict_source_sr1={'Radon' : dicts_datasets_rn, 'Background' : dicts_datasets_bkg, 'Krypton': dicts_datasets_kr,}\n",
    "for source, dict_data in dict_source_sr1.items():\n",
    "    print(source, len(dict_data))"
   ]
  },
  {
   "cell_type": "markdown",
   "metadata": {},
   "source": [
    "### Make 1d Histograms of Initial S2 Size"
   ]
  },
  {
   "cell_type": "code",
   "execution_count": 30,
   "metadata": {
    "collapsed": false
   },
   "outputs": [
    {
     "name": "stdout",
     "output_type": "stream",
     "text": [
      "Radon 119\n",
      "Event Rate: 25.97\n"
     ]
    },
    {
     "data": {
      "text/plain": [
       "<matplotlib.figure.Figure at 0x7ff9379915f8>"
      ]
     },
     "metadata": {},
     "output_type": "display_data"
    },
    {
     "data": {
      "image/png": "[encoded data removed]",
      "text/plain": [
       "<matplotlib.figure.Figure at 0x7ff92da486d8>"
      ]
     },
     "metadata": {},
     "output_type": "display_data"
    },
    {
     "name": "stdout",
     "output_type": "stream",
     "text": [
      "Background 1753\n",
      "Event Rate: 5.94\n"
     ]
    },
    {
     "data": {
      "image/png": "[encoded data removed]",
      "text/plain": [
       "<matplotlib.figure.Figure at 0x7ff92da340f0>"
      ]
     },
     "metadata": {},
     "output_type": "display_data"
    },
    {
     "name": "stdout",
     "output_type": "stream",
     "text": [
      "Krypton 196\n",
      "Event Rate: 50.56\n"
     ]
    },
    {
     "data": {
      "image/png": "[encoded data removed]",
      "text/plain": [
       "<matplotlib.figure.Figure at 0x7ff92d965f28>"
      ]
     },
     "metadata": {},
     "output_type": "display_data"
    }
   ],
   "source": [
    "##Live Time Corrected 2d Plots##\n",
    "#plt.figure(figsize=(10, 8))\n",
    "index=0\n",
    "_xmax=10**8\n",
    "_tpoints=np.linspace(0, _xmax, 201)\n",
    "_xmin=_tpoints[1]\n",
    "_ymax=1.7e-7\n",
    "livet_hist=0\n",
    "events=0\n",
    "plt.set_cmap(\"Oranges\")\n",
    "\n",
    "_s2bins=50\n",
    "_tbins=200\n",
    "sampling_dict={}\n",
    "events_hist=0\n",
    "for source, dict_data in dict_source_sr1.items():\n",
    "    print(source, len(dict_data))\n",
    "    plt.figure(figsize=(10, 8))\n",
    "    del events_hist\n",
    "    #del livet_hist\n",
    "    events=0\n",
    "    duration=0\n",
    "    for key, data in dict_data.items():\n",
    "        try:\n",
    "            events_hist\n",
    "            events_hist+=data['deltat']\n",
    "            events+=data['events']\n",
    "            duration+=data['duration']\n",
    "        except NameError:\n",
    "            events_hist=data['deltat']\n",
    "            events=data['events']\n",
    "            duration=data['duration']\n",
    "    \n",
    "      \n",
    "                \n",
    "    print(\"Event Rate: %.2f\" %(events/duration))\n",
    "    \n",
    "    events_hist=events_hist.sum(\"delta_T\")\n",
    "    events_hist.plot()    \n",
    "    plt.xlabel('Time Since S2 [ns]', fontsize=12)\n",
    "    plt.ylabel('S2 Size [Log10(PE)]', fontsize=12)\n",
    "    #plt.savefig(\"fig_%s_2d_rate_corrected.png\" %source, bboxes='tight')\n",
    "    #plt.savefig(\"fig_%s_2d_rate_corrected.pdf\" %source, bboxes='tight')\n",
    "    plt.show()    \n",
    "\n",
    "    sampling_dict[source]={'hist': events_hist, 'event_rate' :events/duration} \n",
    "    \n",
    "   \n",
    "    #new_hist.plot(label=source, color=colours[index])\n",
    "    #index+=1\n"
   ]
  },
  {
   "cell_type": "code",
   "execution_count": 31,
   "metadata": {
    "collapsed": false
   },
   "outputs": [],
   "source": [
    "with open('s2_spectrum_per_source_sr1.pkl', 'wb') as handle:\n",
    "    pickle.dump(sampling_dict, handle, protocol=pickle.HIGHEST_PROTOCOL)"
   ]
  },
  {
   "cell_type": "markdown",
   "metadata": {},
   "source": [
    "### 1D Rate Histograms"
   ]
  },
  {
   "cell_type": "code",
   "execution_count": 9,
   "metadata": {
    "collapsed": false
   },
   "outputs": [
    {
     "name": "stdout",
     "output_type": "stream",
     "text": [
      "Radon\n",
      "11068535\n",
      "Background\n",
      "37165190\n",
      "Krypton\n",
      "35508179\n"
     ]
    },
    {
     "data": {
      "image/png": "[encoded data removed]",
      "text/plain": [
       "<matplotlib.figure.Figure at 0x7ff9379c2c18>"
      ]
     },
     "metadata": {},
     "output_type": "display_data"
    }
   ],
   "source": [
    "#Plots corrected event with error added#\n",
    "colours=['blue', 'orange', 'green', 'magenta', 'cyan', 'red']\n",
    "plt.figure(figsize=(10, 8))\n",
    "index=0\n",
    "window_length=10**8\n",
    "_tpoints=np.linspace(0, window_length, 201)\n",
    "_xmin=_tpoints[1]\n",
    "_ymax=1.7e-7\n",
    "events_hist=0\n",
    "events=0\n",
    "index=0\n",
    "\n",
    "data_hists_dict={}\n",
    "for source, dict_data in dict_source_sr1.items():\n",
    "    print(source)\n",
    "    del events_hist\n",
    "    del livet_hist\n",
    "    events=0\n",
    "    for key, data in dict_data.items():\n",
    "        try:\n",
    "            events_hist\n",
    "            events_hist+=data['deltat']\n",
    "            weight_hist+=data['deltat_weights']\n",
    "            livet_hist+=data['livet_hist']\n",
    "            livet_weight+=data['livet_weights']\n",
    "            events+=data['events']\n",
    "        except NameError:\n",
    "            events_hist=data['deltat']\n",
    "            weight_hist=data['deltat_weights']\n",
    "            livet_hist=data['livet_hist']\n",
    "            livet_weight=data['livet_weights']\n",
    "            events=data['events']\n",
    "        except KeyError:\n",
    "            print(source, key)\n",
    "        \n",
    "    events_hist=events_hist.sum('s2_area')\n",
    "    weight_hist=weight_hist.sum('s2_area')\n",
    "    livet_hist=livet_hist.sum('s2_area')\n",
    "    livet_weight=livet_weight.sum('s2_area')\n",
    "    \n",
    "    #Error\n",
    "    num_value=np.array(events_hist)\n",
    "    denum_value=np.array(livet_hist)\n",
    "    num_error = np.sqrt(weight_hist)\n",
    "    denum_error = np.sqrt(livet_weight)\n",
    "    e1 = num_error\n",
    "    e2 = denum_error\n",
    "    b1 = num_value\n",
    "    b2 = denum_value\n",
    "    w=b1/b2\n",
    "    \n",
    "    ratio_error = np.abs(((1-2*w)*e1*e1 + w*w*e2*e2)/(b2*b2))       \n",
    "    ratio = num_value/denum_value \n",
    "    \n",
    "    #Confidence Bands\n",
    "    x = _tpoints\n",
    "    x = np.sort(np.array(list(x[1:]) + list(x[:-1])))\n",
    "    y1=ratio-np.sqrt(ratio_error)\n",
    "    y2=ratio+np.sqrt(ratio_error)\n",
    "    y_lower = np.repeat(y1[:], 2)\n",
    "    y_upper = np.repeat(y2[:], 2)\n",
    "        \n",
    "    #Plot\n",
    "    plt.step(_tpoints[1:], ratio*1000000, linewidth=3,  color=colours[index], label=source+' SR1')\n",
    "    plt.fill_between(x, y_lower*1000000, y_upper*1000000, facecolor=colours[index], interpolate=True, alpha = 0.25)\n",
    "    index+=1\n",
    "    data_hists_dict[source] = {'rate' : ratio*1000000, 'lower' : y_lower*1000000, 'upeer' : y_upper*1000000}\n",
    "    print(events)\n",
    "\n",
    "plt.xlim([_tpoints[5], _tpoints[-2]])\n",
    "plt.ylim([1.5, 6.5])\n",
    "plt.xlabel('Time Since S2 [ns]', fontsize=12)\n",
    "plt.ylabel('Corrected Peak Rate [ns$^{-1}$]', fontsize=12)\n",
    "axes = plt.gca()\n",
    "axes.tick_params(width=2, length=10)\n",
    "plt.legend(loc='best', fontsize=12)\n",
    "#plt.yscale('log')\n",
    "plt.show()"
   ]
  },
  {
   "cell_type": "markdown",
   "metadata": {},
   "source": [
    "### Organize thoughts\n",
    "\n",
    "Options.)\n",
    "\n",
    "- No uniform background, only dealyed extraction\n",
    "- Uniform SE background plus delayed extraction\n",
    "\n",
    "#Scale bins by bin_size\n"
   ]
  },
  {
   "cell_type": "code",
   "execution_count": 5,
   "metadata": {
    "collapsed": true
   },
   "outputs": [],
   "source": [
    "#Load S2 size histograms:\n",
    "with open('s2_spectrum_per_source_sr1.pkl', 'rb') as handle:\n",
    "    sampling_dict = pickle.load(handle)"
   ]
  },
  {
   "cell_type": "code",
   "execution_count": 6,
   "metadata": {
    "collapsed": false
   },
   "outputs": [],
   "source": [
    "def rate_function(scaling_constant, time_scale, dt_bins):\n",
    "    y = scaling_constant*np.exp(-dt_bins/time_scale)\n",
    "    return (y)\n",
    "\n",
    "\n",
    "def se_histogram(event_rate, # Number of events assumed to occur within 1s\n",
    "                 background_rate, # Flat background rate of Single Electrons \n",
    "                 time_scale, # Time Scale of exponential decay of trapped electrons\n",
    "                 scaling_constant, #Fraction of electrons relative to S2 size \n",
    "                 source = 'Background', # Primary S2 spectrum for sampling from\n",
    "                 time_bins=100, # Number of bins in time\n",
    "                 window_length=1000 #Length after given S2 to look at\n",
    "                ):\n",
    "    \n",
    "    #Determine number of events in timw window\n",
    "    number_of_events = np.random.poisson(event_rate) #Event rate in window....\n",
    "    \n",
    "    #Assign random times to S2s in window following S2, leaving first S2 at t=0 \n",
    "    if number_of_events>1:\n",
    "        time_of_s2s=np.random.random(number_of_events-1)\n",
    "        time_of_s2s=np.concatenate(([0], time_of_s2s))\n",
    "    else:\n",
    "        number_of_events = 1\n",
    "        time_of_s2s=np.array([0])\n",
    "    \n",
    "    bin_width=window_length/time_bins\n",
    "    \n",
    "    #Sample from Appropriate S2 Size Spectrum (produced previously)\n",
    "    s2_spectrum_hist = sampling_dict[source]['hist']    \n",
    "    s2_size = np.random.choice(s2_spectrum_hist.bin_centers, \n",
    "                               number_of_events, \n",
    "                               p =(s2_spectrum_hist[:])/np.sum(s2_spectrum_hist[:]))\n",
    "    s2_size=10**s2_size\n",
    "    \n",
    "    #Initialize Arrays of SE rate\n",
    "    se_rate=[background_rate]*time_bins\n",
    "    dt_bins=np.linspace(0, window_length, time_bins+1)\n",
    "    \n",
    "    #print(s2_size)\n",
    "    \n",
    "    for is2, s2 in enumerate(time_of_s2s):\n",
    "        s2 = s2 * window_length # Span window length, assumed to be in ms\n",
    "        bin_offset = np.digitize(s2, dt_bins) \n",
    "        counts = rate_function(scaling_constant = scaling_constant*s2_size[is2], \n",
    "                               time_scale=time_scale, \n",
    "                               dt_bins=dt_bins)\n",
    "        event_len =  time_bins-bin_offset\n",
    "        zero_array = np.array([0]*int(bin_offset))\n",
    "        counts = np.concatenate((np.array(zero_array), counts[:event_len]))\n",
    "        se_rate += counts\n",
    "    \n",
    "    dt_bin_centers = dt_bins[1:]-(dt_bins[1:]-dt_bins[:-1])/2\n",
    "    \n",
    "    return dt_bin_centers, se_rate\n",
    "        \n",
    "        \n",
    "    \n",
    "    "
   ]
  },
  {
   "cell_type": "code",
   "execution_count": 8,
   "metadata": {
    "collapsed": false
   },
   "outputs": [
    {
     "name": "stderr",
     "output_type": "stream",
     "text": [
      "  3%|▎         | 338/10000 [00:00<00:02, 3377.90it/s]"
     ]
    },
    {
     "name": "stdout",
     "output_type": "stream",
     "text": [
      "50.55552565635856\n"
     ]
    },
    {
     "name": "stderr",
     "output_type": "stream",
     "text": [
      "100%|██████████| 10000/10000 [00:02<00:00, 3601.86it/s]\n",
      "  7%|▋         | 708/10000 [00:00<00:01, 7055.85it/s]"
     ]
    },
    {
     "name": "stdout",
     "output_type": "stream",
     "text": [
      "5.935457875153676\n"
     ]
    },
    {
     "name": "stderr",
     "output_type": "stream",
     "text": [
      "100%|██████████| 10000/10000 [00:01<00:00, 7102.30it/s]\n",
      "  5%|▌         | 548/10000 [00:00<00:01, 5473.85it/s]"
     ]
    },
    {
     "name": "stdout",
     "output_type": "stream",
     "text": [
      "25.968395072155708\n"
     ]
    },
    {
     "name": "stderr",
     "output_type": "stream",
     "text": [
      "100%|██████████| 10000/10000 [00:01<00:00, 5294.04it/s]\n"
     ]
    },
    {
     "data": {
      "text/plain": [
       "<matplotlib.legend.Legend at 0x7f51aabc5240>"
      ]
     },
     "execution_count": 8,
     "metadata": {},
     "output_type": "execute_result"
    },
    {
     "data": {
      "image/png": "[encoded data removed]",
      "text/plain": [
       "<matplotlib.figure.Figure at 0x7f51aac04470>"
      ]
     },
     "metadata": {},
     "output_type": "display_data"
    }
   ],
   "source": [
    "fig = plt.figure(figsize=(10, 6))\n",
    "\n",
    "waveforms = 10000\n",
    "time_bins = 200\n",
    "window_length=100\n",
    "\n",
    "dict_mc_known={}\n",
    "for source, hist_dict in sampling_dict.items():\n",
    "    \n",
    "    x_bins = [0]*time_bins\n",
    "    y_bins = [0]*time_bins\n",
    "    \n",
    "    source_rate = hist_dict['event_rate']\n",
    "    print(source_rate)\n",
    "\n",
    "    event_rate = source_rate*window_length/1000 #Event rate in s, window length in ms\n",
    "    \n",
    "    for sim in tqdm(range(waveforms)):\n",
    "        dt_bin_centers, se_rate = se_histogram(event_rate = event_rate, \n",
    "                                               background_rate=0, \n",
    "                                               time_scale = 21.5,\n",
    "                                               scaling_constant = 5.623e-05, \n",
    "                                               \n",
    "                                               source = source,\n",
    "                                               time_bins=time_bins,\n",
    "                                               window_length = window_length)\n",
    "        y_bins += se_rate\n",
    "    x_bins = dt_bin_centers\n",
    "    dict_mc_known[source]=y_bins/waveforms\n",
    "    plt.plot(x_bins, y_bins/waveforms, label=source)\n",
    "plt.ylabel(\"Peak Rate [ms$^{-1}$]\")\n",
    "plt.xlabel(\"Time [ms]\")\n",
    "plt.xlim([0, window_length])\n",
    "plt.legend(loc='best')"
   ]
  },
  {
   "cell_type": "code",
   "execution_count": 38,
   "metadata": {
    "collapsed": false
   },
   "outputs": [
    {
     "name": "stderr",
     "output_type": "stream",
     "text": [
      "100%|██████████| 10000/10000 [00:03<00:00, 2522.01it/s]\n"
     ]
    },
    {
     "data": {
      "image/png": "[encoded data removed]",
      "text/plain": [
       "<matplotlib.figure.Figure at 0x7ff92b799e80>"
      ]
     },
     "metadata": {},
     "output_type": "display_data"
    }
   ],
   "source": [
    "fig = plt.figure(figsize=(10, 4))\n",
    "waveforms = 10000\n",
    "time_bins = 200\n",
    "window_length=100\n",
    "x_bins = [0]*time_bins\n",
    "y_bins = [0]*time_bins\n",
    "source='Krypton'    \n",
    "source_rate = 52.72\n",
    "event_rate = source_rate*window_length/1000 #Event rate in s, window length in ms\n",
    "    \n",
    "for sim in tqdm(range(waveforms)):\n",
    "    dt_bin_centers, se_rate = se_histogram(event_rate = event_rate, \n",
    "                                               background_rate=0, \n",
    "                                               time_scale = 21.5,\n",
    "                                               scaling_constant = 5.623e-05, \n",
    "                                               \n",
    "                                               source = source,\n",
    "                                               time_bins=time_bins,\n",
    "                                               window_length = window_length)\n",
    "    y_bins += se_rate\n",
    "x_bins = dt_bin_centers \n",
    "plt.plot(x_bins, y_bins/waveforms, label='MC')\n",
    "plt.plot(x_bins[9:198], data_hists_dict[source]['rate'][9:198], label='Data')\n",
    "plt.legend()\n",
    "plt.ylim([2,6])\n",
    "\n",
    "plt.xlim([x_bins[4], 100])\n",
    "plt.show()"
   ]
  },
  {
   "cell_type": "code",
   "execution_count": 52,
   "metadata": {
    "collapsed": false
   },
   "outputs": [
    {
     "name": "stderr",
     "output_type": "stream",
     "text": [
      "100%|██████████| 1000/1000 [00:00<00:00, 3972.98it/s]\n"
     ]
    },
    {
     "data": {
      "image/png": "[encoded data removed]",
      "text/plain": [
       "<matplotlib.figure.Figure at 0x7ff92b311908>"
      ]
     },
     "metadata": {},
     "output_type": "display_data"
    }
   ],
   "source": [
    "fig = plt.figure(figsize=(10, 4))\n",
    "waveforms = 1000\n",
    "time_bins = 200\n",
    "window_length=100\n",
    "x_bins = [0]*time_bins\n",
    "y_bins = [0]*time_bins\n",
    "source='Radon'    \n",
    "source_rate = 28.92\n",
    "event_rate = source_rate*window_length/1000 #Event rate in s, window length in ms\n",
    "    \n",
    "for sim in tqdm(range(waveforms)):\n",
    "    dt_bin_centers, se_rate = se_histogram(event_rate = event_rate, \n",
    "                                               background_rate=0, \n",
    "                                               time_scale = 31.6,\n",
    "                                               scaling_constant = 3.162e-05, \n",
    "                                               \n",
    "                                               source = source,\n",
    "                                               time_bins=time_bins,\n",
    "                                               window_length = window_length)\n",
    "    y_bins += se_rate\n",
    "x_bins = dt_bin_centers \n",
    "plt.plot(x_bins, y_bins/waveforms, label='MC')\n",
    "plt.plot(x_bins[4:], data_hists_dict[source]['rate'][4:], label='Data')\n",
    "plt.legend()\n",
    "plt.ylim([2,6])\n",
    "\n",
    "plt.xlim([x_bins[4], 100])\n",
    "plt.show()"
   ]
  },
  {
   "cell_type": "markdown",
   "metadata": {
    "collapsed": true
   },
   "source": [
    "### Fit Data to ToyMC"
   ]
  },
  {
   "cell_type": "markdown",
   "metadata": {},
   "source": [
    "Event Rate Radon: 28.9232782606\n",
    "Event Rate Krypton: 52.7182158711\n",
    "Event Rate Background: 5.83930826463"
   ]
  },
  {
   "cell_type": "code",
   "execution_count": null,
   "metadata": {
    "collapsed": false
   },
   "outputs": [
    {
     "name": "stderr",
     "output_type": "stream",
     "text": [
      "  6%|▌         | 3/51 [05:53<1:34:20, 117.92s/it]"
     ]
    }
   ],
   "source": [
    "#Store fit values for parameter being scanned\n",
    "scaling_constant_values=np.linspace(1*10**-5, 1*10**-4, 51)\n",
    "time_scale_values=np.linspace(10, 50, 41)\n",
    "fit_values=[]\n",
    "p_values=[]\n",
    "\n",
    "#Settings for ToyMC for other parameters\n",
    "time_bins=200 #Needed to match data\n",
    "window_length=100 #Needed to match data\n",
    "source='Krypton'\n",
    "source_rate = sampling_dict[source]['event_rate']\n",
    "#source_rate = sampling_dict[source]['event_rate']\n",
    "background_rate=0\n",
    "\n",
    "#Rate from Data\n",
    "#rate_obs = data_hists_dict[source]['rate']\n",
    "\n",
    "#Match to MC Itself,  \n",
    "rate_obs = dict_mc_known[source]\n",
    "\n",
    "for  scaling_constant in tqdm(scaling_constant_values):\n",
    "    temp_array=[]\n",
    "    temp_p_array=[]\n",
    "    for  time_scale in time_scale_values:\n",
    "        #Initialize Bins\n",
    "        x_bins = [0]*time_bins\n",
    "        y_bins = [0]*time_bins\n",
    "\n",
    "        #Run 1000 TImes\n",
    "        event_rate = source_rate*window_length/1000\n",
    "        for sim in range(waveforms):\n",
    "            dt_bin_centers, se_rate = se_histogram(event_rate = event_rate, \n",
    "                                                    background_rate=background_rate, \n",
    "                                                    time_scale = time_scale,\n",
    "                                                    scaling_constant = scaling_constant, \n",
    "                                                    source = source,\n",
    "                                                    time_bins=time_bins,\n",
    "                                                    window_length = 100)\n",
    "            y_bins += se_rate/waveforms\n",
    "        rate_exp = y_bins\n",
    "\n",
    "        fit_value, fit_probability = scipy.stats.chisquare(rate_obs[9:198], rate_exp[9:198])\n",
    "        temp_array = np.append(temp_array, fit_value)\n",
    "        temp_p_array = np.append(temp_p_array, fit_probability)\n",
    "    fit_values.append(temp_array)\n",
    "    p_values.append(temp_p_array)\n",
    "fit_values=np.array(fit_values)\n",
    "p_values=np.array(p_values)"
   ]
  },
  {
   "cell_type": "code",
   "execution_count": null,
   "metadata": {
    "collapsed": false
   },
   "outputs": [],
   "source": [
    "#Krypton\n",
    "fig = plt.figure(figsize=(10, 8))\n",
    "plt.set_cmap(\"Blues\")\n",
    "plt.pcolormesh(scaling_constant_values, time_scale_values, fit_values.T, norm=LogNorm(), vmax=10**2)\n",
    "i_min = np.unravel_index(fit_values.argmin(), fit_values.shape)\n",
    "print(\"Best fit chisq value :\",  fit_values[i_min[0]][i_min[1]])\n",
    "print(\"Best fit p-value :\",  p_values[i_min[0]][i_min[1]])\n",
    "print(\"Best fit scaling constant :\",  scaling_constant_values[i_min[0]])\n",
    "print(\"Best time_scale constant :\",  time_scale_values[i_min[1]])\n",
    "plt.colorbar()\n",
    "#plt.yscale('log')\n",
    "#plt.xscale('log')\n",
    "plt.xlabel(\"Scaling Constant Value\")\n",
    "plt.ylabel(\"Time Scale Value\")"
   ]
  },
  {
   "cell_type": "code",
   "execution_count": 25,
   "metadata": {
    "collapsed": false
   },
   "outputs": [
    {
     "name": "stdout",
     "output_type": "stream",
     "text": [
      "Best fit chisq value : 0.185123143318\n",
      "Best fit p-value : 1.0\n",
      "Best fit scaling constant : 5.68e-05\n",
      "Best time_scale constant : 21.0\n"
     ]
    },
    {
     "data": {
      "text/plain": [
       "<matplotlib.text.Text at 0x7f51cd036208>"
      ]
     },
     "execution_count": 25,
     "metadata": {},
     "output_type": "execute_result"
    },
    {
     "data": {
      "image/png": "[encoded data removed]",
      "text/plain": [
       "<matplotlib.figure.Figure at 0x7f51c5c3cb00>"
      ]
     },
     "metadata": {},
     "output_type": "display_data"
    }
   ],
   "source": [
    "#Radon\n",
    "fig = plt.figure(figsize=(10, 8))\n",
    "plt.set_cmap(\"Blues\")\n",
    "plt.pcolormesh(scaling_constant_values, time_scale_values, fit_values.T, norm=LogNorm(), vmax=10**2)\n",
    "i_min = np.unravel_index(fit_values.argmin(), fit_values.shape)\n",
    "print(\"Best fit chisq value :\",  fit_values[i_min[0]][i_min[1]])\n",
    "print(\"Best fit p-value :\",  p_values[i_min[0]][i_min[1]])\n",
    "print(\"Best fit scaling constant :\",  scaling_constant_values[i_min[0]])\n",
    "print(\"Best time_scale constant :\",  time_scale_values[i_min[1]])\n",
    "plt.colorbar()\n",
    "#plt.yscale('log')\n",
    "#plt.xscale('log')\n",
    "plt.xlabel(\"Scaling Constant Value\")\n",
    "plt.ylabel(\"Time Scale Value\")"
   ]
  },
  {
   "cell_type": "code",
   "execution_count": 21,
   "metadata": {
    "collapsed": false
   },
   "outputs": [
    {
     "name": "stdout",
     "output_type": "stream",
     "text": [
      "Best fit chisq value : 0.239120721823\n",
      "Best fit p-value : 1.0\n",
      "Best fit scaling constant : 5.5e-05\n",
      "Best time_scale constant : 22.0\n"
     ]
    },
    {
     "data": {
      "text/plain": [
       "<matplotlib.text.Text at 0x7f51cd0c4518>"
      ]
     },
     "execution_count": 21,
     "metadata": {},
     "output_type": "execute_result"
    },
    {
     "data": {
      "image/png": "[encoded data removed]",
      "text/plain": [
       "<matplotlib.figure.Figure at 0x7f51c12e6f28>"
      ]
     },
     "metadata": {},
     "output_type": "display_data"
    }
   ],
   "source": [
    "#Background\n",
    "fig = plt.figure(figsize=(10, 8))\n",
    "plt.set_cmap(\"Blues\")\n",
    "plt.pcolormesh(scaling_constant_values, time_scale_values, fit_values.T, norm=LogNorm(), vmax=10**2)\n",
    "i_min = np.unravel_index(fit_values.argmin(), fit_values.shape)\n",
    "print(\"Best fit chisq value :\",  fit_values[i_min[0]][i_min[1]])\n",
    "print(\"Best fit p-value :\",  p_values[i_min[0]][i_min[1]])\n",
    "print(\"Best fit scaling constant :\",  scaling_constant_values[i_min[0]])\n",
    "print(\"Best time_scale constant :\",  time_scale_values[i_min[1]])\n",
    "plt.colorbar()\n",
    "#plt.yscale('log')\n",
    "#plt.xscale('log')\n",
    "plt.xlabel(\"Scaling Constant Value\")\n",
    "plt.ylabel(\"Time Scale Value\")\n"
   ]
  },
  {
   "cell_type": "markdown",
   "metadata": {
    "collapsed": true
   },
   "source": [
    "### 1D Scans"
   ]
  },
  {
   "cell_type": "code",
   "execution_count": 338,
   "metadata": {
    "collapsed": false
   },
   "outputs": [
    {
     "name": "stderr",
     "output_type": "stream",
     "text": [
      "100%|██████████| 101/101 [00:45<00:00,  2.20it/s]"
     ]
    },
    {
     "name": "stdout",
     "output_type": "stream",
     "text": [
      "1001.0789211 1.6513338886e-108\n"
     ]
    },
    {
     "name": "stderr",
     "output_type": "stream",
     "text": [
      "\n"
     ]
    }
   ],
   "source": [
    "#Rate from Data\n",
    "rate_obs = data_hists_dict['Background']['rate']\n",
    "\n",
    "#Store fit values for parameter being scanned\n",
    "time_scale_fits=[]\n",
    "time_scale_values=np.logspace(-1, 2, 101)\n",
    "\n",
    "#Settings for ToyMC for other parameters\n",
    "time_bins=200\n",
    "window_length=100\n",
    "source_rate=50\n",
    "source='Krypton'\n",
    "\n",
    "for  time_scale in tqdm(time_scale_values):\n",
    "    #Initialize Bins\n",
    "    x_bins = [0]*time_bins\n",
    "    y_bins = [0]*time_bins\n",
    "\n",
    "    #Run 1000 TImes\n",
    "    event_rate = source_rate*window_length/1000\n",
    "    for sim in range(waveforms):\n",
    "        dt_bin_centers, se_rate = se_histogram(event_rate = event_rate, \n",
    "                                                background_rate=0, \n",
    "                                                time_scale = time_scale,\n",
    "                                                scaling_constant = 1, \n",
    "                                                source = source,\n",
    "                                                time_bins=time_bins,\n",
    "                                                window_length = 100)\n",
    "        y_bins += se_rate/waveforms\n",
    "    rate_exp = y_bins\n",
    "\n",
    "    fit_value, fit_probability = scipy.stats.chisquare(rate_obs[4:], rate_exp[4:])\n",
    "    time_scale_fits.append(fit_value)\n",
    "    \n",
    "print (fit_value, fit_probability)"
   ]
  },
  {
   "cell_type": "code",
   "execution_count": 340,
   "metadata": {
    "collapsed": false
   },
   "outputs": [
    {
     "name": "stdout",
     "output_type": "stream",
     "text": [
      "Best fit scaling constant : 11.7489755494\n"
     ]
    },
    {
     "data": {
      "image/png": "[encoded data removed]",
      "text/plain": [
       "<matplotlib.figure.Figure at 0x7f4a9cc0d710>"
      ]
     },
     "metadata": {},
     "output_type": "display_data"
    }
   ],
   "source": [
    "plt.plot(time_scale_values, np.log10(time_scale_fits))\n",
    "plt.xlabel(\"Scaling Constant Value\")\n",
    "plt.ylabel(\"Log10($\\chi^{2}$)\")\n",
    "print(\"Best fit scaling constant :\",  time_scale_values[np.argmin(scaling_constant_fits)])"
   ]
  },
  {
   "cell_type": "code",
   "execution_count": null,
   "metadata": {
    "collapsed": true
   },
   "outputs": [],
   "source": []
  },
  {
   "cell_type": "code",
   "execution_count": 329,
   "metadata": {
    "collapsed": false
   },
   "outputs": [
    {
     "name": "stdout",
     "output_type": "stream",
     "text": [
      "Best fit scaling constant : 0.954992586021\n"
     ]
    },
    {
     "data": {
      "image/png": "[encoded data removed]",
      "text/plain": [
       "<matplotlib.figure.Figure at 0x7f4a9ce257f0>"
      ]
     },
     "metadata": {},
     "output_type": "display_data"
    }
   ],
   "source": [
    "plt.plot(scaling_constant_values, np.log10(scaling_constant_fits))\n",
    "plt.xlabel(\"Scaling Constant Value\")\n",
    "plt.ylabel(\"Log10($\\chi^{2}$)\")\n",
    "print(\"Best fit scaling constant :\",  scaling_constant_values[np.argmin(scaling_constant_fits)])"
   ]
  },
  {
   "cell_type": "code",
   "execution_count": 331,
   "metadata": {
    "collapsed": false
   },
   "outputs": [
    {
     "name": "stdout",
     "output_type": "stream",
     "text": [
      "Best fit scaling constant : 1.17489755494\n"
     ]
    },
    {
     "data": {
      "image/png": "[encoded data removed]",
      "text/plain": [
       "<matplotlib.figure.Figure at 0x7f4a9cd94588>"
      ]
     },
     "metadata": {},
     "output_type": "display_data"
    }
   ],
   "source": [
    "plt.plot(scaling_constant_values, np.log10(scaling_constant_fits))\n",
    "plt.xlabel(\"Scaling Constant Value\")\n",
    "plt.ylabel(\"Log10($\\chi^{2}$)\")\n",
    "print(\"Best fit scaling constant :\",  scaling_constant_values[np.argmin(scaling_constant_fits)])"
   ]
  },
  {
   "cell_type": "code",
   "execution_count": 333,
   "metadata": {
    "collapsed": false
   },
   "outputs": [
    {
     "name": "stdout",
     "output_type": "stream",
     "text": [
      "Best fit scaling constant : 1.17489755494\n"
     ]
    },
    {
     "data": {
      "image/png": "[encoded data removed]",
      "text/plain": [
       "<matplotlib.figure.Figure at 0x7f4a9cd616a0>"
      ]
     },
     "metadata": {},
     "output_type": "display_data"
    }
   ],
   "source": [
    "plt.plot(scaling_constant_values, np.log10(scaling_constant_fits))\n",
    "plt.xlabel(\"Scaling Constant Value\")\n",
    "plt.ylabel(\"Log10($\\chi^{2}$)\")\n",
    "print(\"Best fit scaling constant :\",  scaling_constant_values[np.argmin(scaling_constant_fits)])"
   ]
  },
  {
   "cell_type": "markdown",
   "metadata": {
    "collapsed": true
   },
   "source": [
    "### Load Results from Reproducibility Study"
   ]
  },
  {
   "cell_type": "code",
   "execution_count": 143,
   "metadata": {
    "collapsed": false
   },
   "outputs": [
    {
     "name": "stderr",
     "output_type": "stream",
     "text": [
      " 18%|█▊        | 115/625 [00:00<00:00, 1072.97it/s]"
     ]
    },
    {
     "name": "stdout",
     "output_type": "stream",
     "text": [
      "Searching for Processed Pickle Files\n",
      "Found 625 datasets\n"
     ]
    },
    {
     "name": "stderr",
     "output_type": "stream",
     "text": [
      "100%|██████████| 625/625 [00:00<00:00, 1148.99it/s]\n"
     ]
    }
   ],
   "source": [
    "scaling_constant_values=np.logspace(-5, -3, 25)\n",
    "time_scale_values=np.logspace(0, 2, 25)\n",
    "\n",
    "\n",
    "print('Searching for Processed Pickle Files')\n",
    "#simpath= '/project/lgrandi/jpienaar/cache_files/'\n",
    "simpath= '/home/jpienaar/SingleElectrons/processing_scripts/'\n",
    "\n",
    "#Find datasets\n",
    "datasets = get_file_list(simpath, 'fitting_results_Krypton_*', ' ')\n",
    "print('Found %d datasets' % len(datasets))\n",
    "\n",
    "\n",
    "all_dicts={}\n",
    "for dataset in tqdm(datasets[:]):\n",
    "    with open(simpath+dataset, 'rb') as handle:\n",
    "        data_dict = pickle.load(handle)\n",
    "        \n",
    "        \n",
    "        \n",
    "        \n",
    "        \n",
    "        all_dicts[dataset]=data_dict\n",
    "        "
   ]
  },
  {
   "cell_type": "code",
   "execution_count": 138,
   "metadata": {
    "collapsed": false
   },
   "outputs": [
    {
     "name": "stderr",
     "output_type": "stream",
     "text": [
      "100%|██████████| 625/625 [00:00<00:00, 29255.18it/s]\n"
     ]
    },
    {
     "name": "stdout",
     "output_type": "stream",
     "text": [
      "Best fit chisq value : 0.187950675886\n",
      "Best fit scaling constant : 1e-05\n",
      "Best time_scale constant : 56.234132519\n"
     ]
    },
    {
     "data": {
      "text/plain": [
       "<matplotlib.text.Text at 0x7ff923f7edd8>"
      ]
     },
     "execution_count": 138,
     "metadata": {},
     "output_type": "execute_result"
    },
    {
     "data": {
      "image/png": "[encoded data removed]",
      "text/plain": [
       "<matplotlib.figure.Figure at 0x7ff92b149908>"
      ]
     },
     "metadata": {},
     "output_type": "display_data"
    }
   ],
   "source": [
    "#Average Chi Square values across 30 fits\n",
    "\n",
    "fit_values_array=np.array([[0.0]*len(scaling_constant_values)]*len(time_scale_values))\n",
    "for key, fitting_dict in tqdm(all_dicts.items()):\n",
    "    tau_bin = np.digitize(fitting_dict['known_tau'], time_scale_values)\n",
    "    c_bin = np.digitize(fitting_dict['known_c'], scaling_constant_values)\n",
    "    fit_values_array[c_bin-1][tau_bin-1] = np.average(fitting_dict['chi'])\n",
    "    \n",
    "\n",
    "fig = plt.figure(figsize=(10, 8))\n",
    "plt.set_cmap(\"Blues\")\n",
    "plt.pcolormesh(scaling_constant_values, time_scale_values, fit_values_array.T, norm=LogNorm())\n",
    "plt.colorbar()\n",
    "i_min = np.unravel_index(fit_values_array.argmin(), fit_values_array.shape)\n",
    "print(\"Best fit chisq value :\",  fit_values_array[i_min[0]][i_min[1]])\n",
    "print(\"Best fit scaling constant :\",  scaling_constant_values[i_min[0]])\n",
    "print(\"Best time_scale constant :\",  time_scale_values[i_min[1]])\n",
    "plt.yscale('log')\n",
    "plt.xscale('log')\n",
    "plt.xlabel(\"Scaling Constant Value\")\n",
    "plt.ylabel(\"Time Scale Value\")\n"
   ]
  },
  {
   "cell_type": "code",
   "execution_count": 139,
   "metadata": {
    "collapsed": false
   },
   "outputs": [
    {
     "name": "stderr",
     "output_type": "stream",
     "text": [
      "100%|██████████| 625/625 [00:00<00:00, 21026.86it/s]\n"
     ]
    },
    {
     "name": "stdout",
     "output_type": "stream",
     "text": [
      "Best fit chisq value : -1.0\n",
      "Best fit scaling constant : 1e-05\n",
      "Best time_scale constant : 2.15443469003\n"
     ]
    },
    {
     "data": {
      "text/plain": [
       "<matplotlib.text.Text at 0x7ff91c6a9d68>"
      ]
     },
     "execution_count": 139,
     "metadata": {},
     "output_type": "execute_result"
    },
    {
     "data": {
      "image/png": "[encoded data removed]",
      "text/plain": [
       "<matplotlib.figure.Figure at 0x7ff91c71d908>"
      ]
     },
     "metadata": {},
     "output_type": "display_data"
    }
   ],
   "source": [
    "#Average Error in Tau_Value across 30 Sims\n",
    "\n",
    "fit_values_array=np.array([[0.0]*len(scaling_constant_values)]*len(time_scale_values))\n",
    "for key, fitting_dict in tqdm(all_dicts.items()):\n",
    "    tau_bin = np.digitize(fitting_dict['known_tau'], time_scale_values)\n",
    "    c_bin = np.digitize(fitting_dict['known_c'], scaling_constant_values)\n",
    "    average_tau = np.average(fitting_dict['tau'])\n",
    "    dist_of_taus = np.digitize(average_tau, time_scale_values)-tau_bin                \n",
    "    fit_values_array[c_bin-1][tau_bin-1] = dist_of_taus\n",
    "    \n",
    "\n",
    "fig = plt.figure(figsize=(10, 8))\n",
    "plt.set_cmap(\"RdBu\")\n",
    "plt.pcolormesh(scaling_constant_values, time_scale_values, fit_values_array.T, vmin=-3, vmax=3)#, norm=LogNorm())\n",
    "plt.colorbar()\n",
    "i_min = np.unravel_index(fit_values_array.argmin(), fit_values_array.shape)\n",
    "print(\"Best fit chisq value :\",  fit_values_array[i_min[0]][i_min[1]])\n",
    "print(\"Best fit scaling constant :\",  scaling_constant_values[i_min[0]])\n",
    "print(\"Best time_scale constant :\",  time_scale_values[i_min[1]])\n",
    "plt.yscale('log')\n",
    "plt.xscale('log')\n",
    "plt.xlabel(\"Scaling Constant Value\")\n",
    "plt.ylabel(\"Time Scale Value\")\n"
   ]
  },
  {
   "cell_type": "code",
   "execution_count": 140,
   "metadata": {
    "collapsed": false
   },
   "outputs": [
    {
     "name": "stderr",
     "output_type": "stream",
     "text": [
      "100%|██████████| 625/625 [00:00<00:00, 21378.04it/s]"
     ]
    },
    {
     "name": "stdout",
     "output_type": "stream",
     "text": [
      "Best fit chisq value : -7.0\n",
      "Best fit scaling constant : 0.001\n",
      "Best time_scale constant : 1.0\n"
     ]
    },
    {
     "name": "stderr",
     "output_type": "stream",
     "text": [
      "\n"
     ]
    },
    {
     "data": {
      "text/plain": [
       "<matplotlib.text.Text at 0x7ff923de9780>"
      ]
     },
     "execution_count": 140,
     "metadata": {},
     "output_type": "execute_result"
    },
    {
     "data": {
      "image/png": "[encoded data removed]",
      "text/plain": [
       "<matplotlib.figure.Figure at 0x7ff923e5c4a8>"
      ]
     },
     "metadata": {},
     "output_type": "display_data"
    }
   ],
   "source": [
    "#Average Error in C_Value across 30 Sims\n",
    "\n",
    "fit_values_array=np.array([[0.0]*len(scaling_constant_values)]*len(time_scale_values))\n",
    "for key, fitting_dict in tqdm(all_dicts.items()):\n",
    "    tau_bin = np.digitize(fitting_dict['known_tau'], time_scale_values)\n",
    "    c_bin = np.digitize(fitting_dict['known_c'], scaling_constant_values)\n",
    "    average_c = np.average(fitting_dict['c'])\n",
    "    dist_of_cs = np.digitize(average_c, scaling_constant_values)-c_bin                \n",
    "    fit_values_array[c_bin-1][tau_bin-1] = dist_of_cs\n",
    "    \n",
    "\n",
    "fig = plt.figure(figsize=(10, 8))\n",
    "plt.set_cmap(\"RdBu\")\n",
    "plt.pcolormesh(scaling_constant_values, time_scale_values, fit_values_array.T, vmin=-3, vmax=3)#, norm=LogNorm())\n",
    "plt.colorbar()\n",
    "i_min = np.unravel_index(fit_values_array.argmin(), fit_values_array.shape)\n",
    "print(\"Best fit chisq value :\",  fit_values_array[i_min[0]][i_min[1]])\n",
    "print(\"Best fit scaling constant :\",  scaling_constant_values[i_min[0]])\n",
    "print(\"Best time_scale constant :\",  time_scale_values[i_min[1]])\n",
    "plt.yscale('log')\n",
    "plt.xscale('log')\n",
    "plt.xlabel(\"Scaling Constant Value\")\n",
    "plt.ylabel(\"Time Scale Value\")\n"
   ]
  },
  {
   "cell_type": "code",
   "execution_count": 144,
   "metadata": {
    "collapsed": true
   },
   "outputs": [],
   "source": [
    "with open('Background_fitting_MCTruth_results.pkl', 'wb') as handle:\n",
    "    pickle.dump(all_dicts, handle, protocol=pickle.HIGHEST_PROTOCOL)"
   ]
  },
  {
   "cell_type": "code",
   "execution_count": null,
   "metadata": {
    "collapsed": true
   },
   "outputs": [],
   "source": []
  }
 ],
 "metadata": {
  "kernelspec": {
   "display_name": "Python 3",
   "language": "python",
   "name": "python3"
  },
  "language_info": {
   "codemirror_mode": {
    "name": "ipython",
    "version": 3
   },
   "file_extension": ".py",
   "mimetype": "text/x-python",
   "name": "python",
   "nbconvert_exporter": "python",
   "pygments_lexer": "ipython3",
   "version": "3.4.4"
  }
 },
 "nbformat": 4,
 "nbformat_minor": 2
}
