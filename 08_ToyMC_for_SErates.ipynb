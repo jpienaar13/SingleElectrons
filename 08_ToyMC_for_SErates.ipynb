{
 "cells": [
  {
   "cell_type": "code",
   "execution_count": 1,
   "metadata": {
    "collapsed": false
   },
   "outputs": [
    {
     "ename": "ImportError",
     "evalue": "cannot import name 'units'",
     "output_type": "error",
     "traceback": [
      "\u001b[0;31m---------------------------------------------------------------------------\u001b[0m",
      "\u001b[0;31mImportError\u001b[0m                               Traceback (most recent call last)",
      "\u001b[0;32m/home/jpienaar/initialize.ipynb\u001b[0m in \u001b[0;36m<module>\u001b[0;34m()\u001b[0m\n\u001b[0;32m----> 1\u001b[0;31m \u001b[0;32mfrom\u001b[0m \u001b[0mpax\u001b[0m \u001b[0;32mimport\u001b[0m \u001b[0munits\u001b[0m\u001b[0;34m,\u001b[0m \u001b[0mconfiguration\u001b[0m\u001b[0;34m,\u001b[0m \u001b[0mdatastructure\u001b[0m\u001b[0;34m\u001b[0m\u001b[0m\n\u001b[0m\u001b[1;32m      2\u001b[0m \u001b[0mpax_config\u001b[0m \u001b[0;34m=\u001b[0m \u001b[0mconfiguration\u001b[0m\u001b[0;34m.\u001b[0m\u001b[0mload_configuration\u001b[0m\u001b[0;34m(\u001b[0m\u001b[0;34m'XENON1T'\u001b[0m\u001b[0;34m)\u001b[0m\u001b[0;34m\u001b[0m\u001b[0m\n\u001b[1;32m      3\u001b[0m \u001b[0mn_channels\u001b[0m \u001b[0;34m=\u001b[0m \u001b[0mpax_config\u001b[0m\u001b[0;34m[\u001b[0m\u001b[0;34m'DEFAULT'\u001b[0m\u001b[0;34m]\u001b[0m\u001b[0;34m[\u001b[0m\u001b[0;34m'n_channels'\u001b[0m\u001b[0;34m]\u001b[0m\u001b[0;34m\u001b[0m\u001b[0m\n\u001b[1;32m      4\u001b[0m \u001b[0mpmts\u001b[0m \u001b[0;34m=\u001b[0m \u001b[0mpax_config\u001b[0m\u001b[0;34m[\u001b[0m\u001b[0;34m'DEFAULT'\u001b[0m\u001b[0;34m]\u001b[0m\u001b[0;34m[\u001b[0m\u001b[0;34m'pmts'\u001b[0m\u001b[0;34m]\u001b[0m\u001b[0;34m\u001b[0m\u001b[0m\n\u001b[1;32m      5\u001b[0m \u001b[0mtpc_height\u001b[0m \u001b[0;34m=\u001b[0m \u001b[0mpax_config\u001b[0m\u001b[0;34m[\u001b[0m\u001b[0;34m'DEFAULT'\u001b[0m\u001b[0;34m]\u001b[0m\u001b[0;34m[\u001b[0m\u001b[0;34m'tpc_length'\u001b[0m\u001b[0;34m]\u001b[0m\u001b[0;34m\u001b[0m\u001b[0m\n",
      "\u001b[0;31mImportError\u001b[0m: cannot import name 'units'"
     ]
    },
    {
     "ename": "ImportError",
     "evalue": "cannot import name 'units'",
     "output_type": "error",
     "traceback": [
      "\u001b[0;31m---------------------------------------------------------------------------\u001b[0m",
      "\u001b[0;31mImportError\u001b[0m                               Traceback (most recent call last)",
      "\u001b[0;32m/home/jpienaar/initialize.ipynb\u001b[0m in \u001b[0;36m<module>\u001b[0;34m()\u001b[0m\n\u001b[0;32m----> 1\u001b[0;31m \u001b[0;32mimport\u001b[0m \u001b[0mlax\u001b[0m\u001b[0;34m\u001b[0m\u001b[0m\n\u001b[0m\u001b[1;32m      2\u001b[0m \u001b[0;32mfrom\u001b[0m \u001b[0mlax\u001b[0m\u001b[0;34m.\u001b[0m\u001b[0mlichens\u001b[0m \u001b[0;32mimport\u001b[0m \u001b[0msciencerun1\u001b[0m\u001b[0;34m\u001b[0m\u001b[0m\n\u001b[1;32m      3\u001b[0m \u001b[0mprint\u001b[0m\u001b[0;34m(\u001b[0m\u001b[0;34m\"Lax Version :\"\u001b[0m\u001b[0;34m,\u001b[0m \u001b[0mlax\u001b[0m\u001b[0;34m.\u001b[0m\u001b[0m__version__\u001b[0m\u001b[0;34m)\u001b[0m\u001b[0;34m\u001b[0m\u001b[0m\n",
      "\u001b[0;32m/project/lgrandi/anaconda3/envs/stats/lib/python3.4/site-packages/lax-1.6.0-py3.4.egg/lax/__init__.py\u001b[0m in \u001b[0;36m<module>\u001b[0;34m()\u001b[0m\n\u001b[1;32m      3\u001b[0m \u001b[0m__version__\u001b[0m \u001b[0;34m=\u001b[0m \u001b[0;34m'1.6.0'\u001b[0m\u001b[0;34m\u001b[0m\u001b[0m\n\u001b[1;32m      4\u001b[0m \u001b[0;34m\u001b[0m\u001b[0m\n\u001b[0;32m----> 5\u001b[0;31m \u001b[0;32mfrom\u001b[0m \u001b[0;34m.\u001b[0m \u001b[0;32mimport\u001b[0m \u001b[0mlichens\u001b[0m\u001b[0;34m\u001b[0m\u001b[0m\n\u001b[0m",
      "\u001b[0;32m/project/lgrandi/anaconda3/envs/stats/lib/python3.4/site-packages/lax-1.6.0-py3.4.egg/lax/lichens/__init__.py\u001b[0m in \u001b[0;36m<module>\u001b[0;34m()\u001b[0m\n\u001b[1;32m      1\u001b[0m \u001b[0;34m\"\"\"Module containing all lichen definitions\"\"\"\u001b[0m\u001b[0;34m\u001b[0m\u001b[0m\n\u001b[0;32m----> 2\u001b[0;31m \u001b[0;32mfrom\u001b[0m \u001b[0;34m.\u001b[0m \u001b[0;32mimport\u001b[0m \u001b[0msciencerun0\u001b[0m\u001b[0;34m,\u001b[0m \u001b[0msciencerun1\u001b[0m\u001b[0;34m,\u001b[0m \u001b[0mpostsr1\u001b[0m\u001b[0;34m\u001b[0m\u001b[0m\n\u001b[0m",
      "\u001b[0;32m/project/lgrandi/anaconda3/envs/stats/lib/python3.4/site-packages/lax-1.6.0-py3.4.egg/lax/lichens/sciencerun0.py\u001b[0m in \u001b[0;36m<module>\u001b[0;34m()\u001b[0m\n\u001b[1;32m     11\u001b[0m \u001b[0;34m\u001b[0m\u001b[0m\n\u001b[1;32m     12\u001b[0m \u001b[0;32mimport\u001b[0m \u001b[0mnumpy\u001b[0m \u001b[0;32mas\u001b[0m \u001b[0mnp\u001b[0m\u001b[0;34m\u001b[0m\u001b[0m\n\u001b[0;32m---> 13\u001b[0;31m \u001b[0;32mfrom\u001b[0m \u001b[0mpax\u001b[0m \u001b[0;32mimport\u001b[0m \u001b[0munits\u001b[0m\u001b[0;34m\u001b[0m\u001b[0m\n\u001b[0m\u001b[1;32m     14\u001b[0m \u001b[0;34m\u001b[0m\u001b[0m\n\u001b[1;32m     15\u001b[0m \u001b[0;32mfrom\u001b[0m \u001b[0mscipy\u001b[0m\u001b[0;34m.\u001b[0m\u001b[0mstats\u001b[0m \u001b[0;32mimport\u001b[0m \u001b[0mchi2\u001b[0m\u001b[0;34m\u001b[0m\u001b[0m\n",
      "\u001b[0;31mImportError\u001b[0m: cannot import name 'units'"
     ]
    }
   ],
   "source": [
    "run ../initialize.ipynb"
   ]
  },
  {
   "cell_type": "code",
   "execution_count": 2,
   "metadata": {
    "collapsed": true
   },
   "outputs": [],
   "source": [
    "import scipy\n",
    "plt.style.use('luca')"
   ]
  },
  {
   "cell_type": "code",
   "execution_count": 3,
   "metadata": {
    "collapsed": true
   },
   "outputs": [],
   "source": [
    "def get_file_list(path, pattern, remove_string='', remove_path=True):\n",
    "    '''\n",
    "    Get a list of files matching pattern in path. Optional to remove a part of the path (i.e. the extention)\n",
    "    Optional to remove the path\n",
    "    '''\n",
    "    file_list = glob.glob(path + pattern)\n",
    "    # Remove path\n",
    "    for i, f in enumerate(file_list):\n",
    "        if remove_path:\n",
    "            f = f.replace(path, '')\n",
    "        if remove_string != '':\n",
    "            f = f.replace(remove_string, '')\n",
    "        file_list[i] = f\n",
    "    file_list = np.sort(file_list)\n",
    "    return file_list\n"
   ]
  },
  {
   "cell_type": "markdown",
   "metadata": {},
   "source": [
    "### Find and load SR0 Datasets"
   ]
  },
  {
   "cell_type": "code",
   "execution_count": null,
   "metadata": {
    "collapsed": false
   },
   "outputs": [],
   "source": [
    "datasets = hax.runs.datasets \n",
    "datasets = hax.runs.tags_selection(include=['*sciencerun0'],\n",
    "                                  exclude=['bad','messy', 'test',\n",
    "                                           'nofield','lowfield',\n",
    "                                           'commissioning', 'flash',\n",
    "                                           'pmttrip','trip','_pmttrip',\n",
    "                                           'source_opening',\n",
    "                                           ],\n",
    "                                  )\n",
    "datasets= hax.cuts.selection(datasets, datasets['location'] != '', 'Processed data available')\n",
    "\n",
    "#Radon\n",
    "datasets_rn = hax.cuts.selection(datasets, datasets['source__type']=='Rn220', 'Source in place')\n",
    "dataset_names_rn = datasets_rn['name']\n",
    "\n",
    "#Bkg\n",
    "datasets_bkg = hax.cuts.selection(datasets, datasets['source__type']=='none', 'Source in place')\n",
    "dataset_names_bkg = datasets_bkg['name']\n",
    "\n",
    "#Krypton\n",
    "datasets_kr = hax.cuts.selection(datasets, datasets['source__type']=='Kr83m', 'Source in place')\n",
    "dataset_names_kr = datasets_kr['name']\n"
   ]
  },
  {
   "cell_type": "code",
   "execution_count": null,
   "metadata": {
    "collapsed": false
   },
   "outputs": [],
   "source": [
    "%%time\n",
    "print('Searching for Processed Pickle Files')\n",
    "#simpath= '/project/lgrandi/jpienaar/cache_files/'\n",
    "simpath= '/scratch/midway2/jpienaar/cache_files/'\n",
    "\n",
    "#Find datasets\n",
    "datasets = get_file_list(simpath, '*dt.pkl', ' ')\n",
    "print('Found %d datasets' % len(datasets))\n",
    "\n",
    "processed_list=[]\n",
    "for dataset in tqdm(datasets):\n",
    "    with open(simpath+dataset, 'rb') as handle:\n",
    "        data_temp = pickle.load(handle)\n",
    "        try:\n",
    "            version=data_temp['version']\n",
    "            if version == '2.0':\n",
    "                processed_list.append(dataset)\n",
    "        except KeyError:\n",
    "            continue\n",
    "print(\"Found %i processed files \" %len(processed_list))\n",
    "datasets=processed_list\n",
    "\n",
    "dicts_datasets_rn={}\n",
    "duration_rn=0\n",
    "events_rn=0\n",
    "dicts_datasets_kr={}\n",
    "duration_kr=0\n",
    "events_kr=0\n",
    "dicts_datasets_bkg={}\n",
    "duration_bkg=0\n",
    "events_bkg=0\n",
    "for dataset in tqdm(datasets[:]):\n",
    "    key=dataset[:-7]\n",
    "    if dataset_names_rn.isin([dataset[:-7]]).any():\n",
    "        with open(simpath+dataset, 'rb') as handle:\n",
    "            data_dict = pickle.load(handle)\n",
    "            dataset_temp = datasets_rn.loc[datasets_rn.name==dataset[:-7]]\n",
    "            time_diff=dataset_temp.end-dataset_temp.start\n",
    "            data_dict['duration'] =  time_diff.iloc[0].seconds\n",
    "            duration_rn+=time_diff.iloc[0].seconds\n",
    "            events_rn+=dataset_temp.iloc[0].trigger__events_built\n",
    "        dicts_datasets_rn[key]=data_dict\n",
    "              \n",
    "    elif dataset_names_kr.isin([dataset[:-7]]).any():\n",
    "        with open(simpath+dataset, 'rb') as handle:\n",
    "            data_dict = pickle.load(handle)\n",
    "            dataset_temp = datasets_kr.loc[datasets_kr.name==dataset[:-7]]\n",
    "            time_diff=dataset_temp.end-dataset_temp.start\n",
    "            data_dict['duration'] =  time_diff.iloc[0].seconds\n",
    "            duration_kr+=time_diff.iloc[0].seconds\n",
    "            events_kr+=dataset_temp.iloc[0].trigger__events_built\n",
    "        dicts_datasets_kr[key]=data_dict\n",
    "        \n",
    "    elif dataset_names_bkg.isin([dataset[:-7]]).any():\n",
    "        with open(simpath+dataset, 'rb') as handle:\n",
    "            data_dict = pickle.load(handle)\n",
    "            dataset_temp = datasets_bkg.loc[datasets_bkg.name==dataset[:-7]]\n",
    "            time_diff=dataset_temp.end-dataset_temp.start\n",
    "            data_dict['duration'] =  time_diff.iloc[0].seconds\n",
    "            duration_bkg+=time_diff.iloc[0].seconds\n",
    "            events_bkg+=dataset_temp.iloc[0].trigger__events_built\n",
    "        dicts_datasets_bkg[key]=data_dict\n",
    "    \n",
    "#df_PI=pd.concat(df_PI)"
   ]
  },
  {
   "cell_type": "code",
   "execution_count": null,
   "metadata": {
    "collapsed": false
   },
   "outputs": [],
   "source": [
    "print(\"Event Rate Radon:\", events_rn/duration_rn)\n",
    "print(\"Event Rate Krypton:\", events_kr/duration_kr)\n",
    "print(\"Event Rate Background:\", events_bkg/duration_bkg)"
   ]
  },
  {
   "cell_type": "code",
   "execution_count": null,
   "metadata": {
    "collapsed": false
   },
   "outputs": [],
   "source": [
    "dict_source_sr0={'Radon' : dicts_datasets_rn, 'Background' : dicts_datasets_bkg, 'Krypton': dicts_datasets_kr,}\n",
    "for source, dict_data in dict_source_sr1.items():\n",
    "    print(source, len(dict_data))"
   ]
  },
  {
   "cell_type": "markdown",
   "metadata": {},
   "source": [
    "### Find and Load SR1 Datasets"
   ]
  },
  {
   "cell_type": "code",
   "execution_count": 54,
   "metadata": {
    "collapsed": false
   },
   "outputs": [
    {
     "name": "stdout",
     "output_type": "stream",
     "text": [
      "Processed data available selection: 0 rows removed (100.00% passed)\n",
      "Source in place selection: 7229 rows removed (4.56% passed)\n",
      "Source in place selection: 1185 rows removed (84.35% passed)\n",
      "Source in place selection: 7119 rows removed (6.01% passed)\n"
     ]
    },
    {
     "name": "stderr",
     "output_type": "stream",
     "text": [
      "/project/lgrandi/anaconda3/envs/pax_head/lib/python3.4/site-packages/hax-2.5.0-py3.4.egg/hax/cuts.py:130: UserWarning: Pandas doesn't allow columns to be created via a new attribute name - see https://pandas.pydata.org/pandas-docs/stable/indexing.html#attribute-access\n",
      "  d.cut_history = prev_cuts + [passthrough_dict]\n"
     ]
    }
   ],
   "source": [
    "datasets = hax.runs.datasets \n",
    "datasets = hax.runs.tags_selection(include=['*sciencerun1'],\n",
    "                                  exclude=['bad','messy', 'test',\n",
    "                                           'nofield','lowfield',\n",
    "                                           'commissioning', 'flash',\n",
    "                                           'pmttrip','trip','_pmttrip',\n",
    "                                           'source_opening',\n",
    "                                           ],\n",
    "                                  )\n",
    "datasets= hax.cuts.selection(datasets, datasets['location'] != '', 'Processed data available')\n",
    "\n",
    "#Radon\n",
    "datasets_rn = hax.cuts.selection(datasets, datasets['source__type']=='Rn220', 'Source in place')\n",
    "dataset_names_rn = datasets_rn['name']\n",
    "\n",
    "#Bkg\n",
    "datasets_bkg = hax.cuts.selection(datasets, datasets['source__type']=='none', 'Source in place')\n",
    "dataset_names_bkg = datasets_bkg['name']\n",
    "\n",
    "#Krypton\n",
    "datasets_kr = hax.cuts.selection(datasets, datasets['source__type']=='Kr83m', 'Source in place')\n",
    "dataset_names_kr = datasets_kr['name']\n"
   ]
  },
  {
   "cell_type": "code",
   "execution_count": 58,
   "metadata": {
    "collapsed": false
   },
   "outputs": [
    {
     "name": "stdout",
     "output_type": "stream",
     "text": [
      "Searching for Processed Pickle Files\n"
     ]
    },
    {
     "name": "stderr",
     "output_type": "stream",
     "text": [
      "\r",
      "  0%|          | 0/5707 [00:00<?, ?it/s]"
     ]
    },
    {
     "name": "stdout",
     "output_type": "stream",
     "text": [
      "Found 5707 datasets\n"
     ]
    },
    {
     "name": "stderr",
     "output_type": "stream",
     "text": [
      "100%|██████████| 5707/5707 [16:28<00:00,  5.78it/s]\n",
      "  1%|▏         | 83/5702 [00:00<00:06, 822.55it/s]"
     ]
    },
    {
     "name": "stdout",
     "output_type": "stream",
     "text": [
      "Found 5702 processed files \n"
     ]
    },
    {
     "name": "stderr",
     "output_type": "stream",
     "text": [
      "100%|██████████| 5702/5702 [04:40<00:00, 20.31it/s] "
     ]
    },
    {
     "name": "stdout",
     "output_type": "stream",
     "text": [
      "CPU times: user 1min 12s, sys: 1min 37s, total: 2min 49s\n",
      "Wall time: 21min 9s\n"
     ]
    },
    {
     "name": "stderr",
     "output_type": "stream",
     "text": [
      "\n"
     ]
    }
   ],
   "source": [
    "%%time\n",
    "print('Searching for Processed Pickle Files')\n",
    "simpath= '/project/lgrandi/jpienaar/cache_files/cache_files/'\n",
    "#simpath= '/scratch/midway2/jpienaar/cache_files/'\n",
    "\n",
    "#Find datasets\n",
    "datasets = get_file_list(simpath, '*dt.pkl', ' ')\n",
    "print('Found %d datasets' % len(datasets))\n",
    "\n",
    "processed_list=[]\n",
    "for dataset in tqdm(datasets):\n",
    "    with open(simpath+dataset, 'rb') as handle:\n",
    "        data_temp = pickle.load(handle)\n",
    "        try:\n",
    "            version=data_temp['version']\n",
    "            if version == '2.0':\n",
    "                processed_list.append(dataset)\n",
    "        except KeyError:\n",
    "            continue\n",
    "print(\"Found %i processed files \" %len(processed_list))\n",
    "datasets=processed_list\n",
    "\n",
    "dicts_datasets_rn={}\n",
    "duration_rn=0\n",
    "events_rn=0\n",
    "dicts_datasets_kr={}\n",
    "duration_kr=0\n",
    "events_kr=0\n",
    "dicts_datasets_bkg={}\n",
    "duration_bkg=0\n",
    "events_bkg=0\n",
    "for dataset in tqdm(datasets[:]):\n",
    "    key=dataset[:-7]\n",
    "    if dataset_names_rn.isin([dataset[:-7]]).any():\n",
    "        with open(simpath+dataset, 'rb') as handle:\n",
    "            data_dict = pickle.load(handle)\n",
    "            dataset_temp = datasets_rn.loc[datasets_rn.name==dataset[:-7]]\n",
    "            time_diff=dataset_temp.end-dataset_temp.start\n",
    "            data_dict['duration'] =  time_diff.iloc[0].seconds\n",
    "            duration_rn+=time_diff.iloc[0].seconds\n",
    "            events_rn+=dataset_temp.iloc[0].trigger__events_built\n",
    "        dicts_datasets_rn[key]=data_dict\n",
    "              \n",
    "    elif dataset_names_kr.isin([dataset[:-7]]).any():\n",
    "        with open(simpath+dataset, 'rb') as handle:\n",
    "            data_dict = pickle.load(handle)\n",
    "            dataset_temp = datasets_kr.loc[datasets_kr.name==dataset[:-7]]\n",
    "            time_diff=dataset_temp.end-dataset_temp.start\n",
    "            data_dict['duration'] =  time_diff.iloc[0].seconds\n",
    "            duration_kr+=time_diff.iloc[0].seconds\n",
    "            events_kr+=dataset_temp.iloc[0].trigger__events_built\n",
    "        dicts_datasets_kr[key]=data_dict\n",
    "        \n",
    "    elif dataset_names_bkg.isin([dataset[:-7]]).any():\n",
    "        with open(simpath+dataset, 'rb') as handle:\n",
    "            data_dict = pickle.load(handle)\n",
    "            dataset_temp = datasets_bkg.loc[datasets_bkg.name==dataset[:-7]]\n",
    "            time_diff=dataset_temp.end-dataset_temp.start\n",
    "            data_dict['duration'] =  time_diff.iloc[0].seconds\n",
    "            duration_bkg+=time_diff.iloc[0].seconds\n",
    "            events_bkg+=dataset_temp.iloc[0].trigger__events_built\n",
    "        dicts_datasets_bkg[key]=data_dict\n",
    "    \n",
    "#df_PI=pd.concat(df_PI)"
   ]
  },
  {
   "cell_type": "code",
   "execution_count": null,
   "metadata": {
    "collapsed": false
   },
   "outputs": [],
   "source": [
    "print(\"Event Rate Radon:\", events_rn/duration_rn)\n",
    "print(\"Event Rate Krypton:\", events_kr/duration_kr)\n",
    "print(\"Event Rate Background:\", events_bkg/duration_bkg)"
   ]
  },
  {
   "cell_type": "code",
   "execution_count": 59,
   "metadata": {
    "collapsed": false
   },
   "outputs": [
    {
     "name": "stdout",
     "output_type": "stream",
     "text": [
      "Krypton 297\n",
      "Radon 200\n",
      "Background 2057\n"
     ]
    }
   ],
   "source": [
    "dict_source_sr1={'Radon' : dicts_datasets_rn, 'Background' : dicts_datasets_bkg, 'Krypton': dicts_datasets_kr,}\n",
    "for source, dict_data in dict_source_sr1.items():\n",
    "    print(source, len(dict_data))"
   ]
  },
  {
   "cell_type": "markdown",
   "metadata": {},
   "source": [
    "### Make 1d Histograms of Initial S2 Size"
   ]
  },
  {
   "cell_type": "code",
   "execution_count": null,
   "metadata": {
    "collapsed": false
   },
   "outputs": [],
   "source": [
    "##Live Time Corrected 2d Plots##\n",
    "#plt.figure(figsize=(10, 8))\n",
    "index=0\n",
    "_xmax=10**8\n",
    "_tpoints=np.linspace(0, _xmax, 201)\n",
    "_xmin=_tpoints[1]\n",
    "_ymax=1.7e-7\n",
    "livet_hist=0\n",
    "events=0\n",
    "plt.set_cmap(\"Oranges\")\n",
    "\n",
    "_s2bins=50\n",
    "_tbins=200\n",
    "sampling_dict={}\n",
    "events_hist=0\n",
    "for source, dict_data in dict_source_sr1.items():\n",
    "    print(source, len(dict_data))\n",
    "    plt.figure(figsize=(10, 8))\n",
    "    del events_hist\n",
    "    #del livet_hist\n",
    "    events=0\n",
    "    duration=0\n",
    "    for key, data in dict_data.items():\n",
    "        try:\n",
    "            events_hist\n",
    "            events_hist+=data['deltat']\n",
    "            events+=data['events']\n",
    "            duration+=data['duration']\n",
    "        except NameError:\n",
    "            events_hist=data['deltat']\n",
    "            events=data['events']\n",
    "            duration=data['duration']\n",
    "    \n",
    "      \n",
    "                \n",
    "    print(\"Event Rate: %.2f\" %(events/duration))\n",
    "    \n",
    "    events_hist=events_hist.sum(\"delta_T\")\n",
    "    events_hist.plot()    \n",
    "    plt.xlabel('Time Since S2 [ns]', fontsize=12)\n",
    "    plt.ylabel('S2 Size [Log10(PE)]', fontsize=12)\n",
    "    #plt.savefig(\"fig_%s_2d_rate_corrected.png\" %source, bboxes='tight')\n",
    "    #plt.savefig(\"fig_%s_2d_rate_corrected.pdf\" %source, bboxes='tight')\n",
    "    plt.show()    \n",
    "\n",
    "    sampling_dict[source]={'hist': events_hist, 'event_rate' :events/duration} \n",
    "    \n",
    "   \n",
    "    #new_hist.plot(label=source, color=colours[index])\n",
    "    #index+=1\n"
   ]
  },
  {
   "cell_type": "code",
   "execution_count": null,
   "metadata": {
    "collapsed": false
   },
   "outputs": [],
   "source": [
    "with open('s2_spectrum_per_source_sr1.pkl', 'wb') as handle:\n",
    "    pickle.dump(sampling_dict, handle, protocol=pickle.HIGHEST_PROTOCOL)"
   ]
  },
  {
   "cell_type": "markdown",
   "metadata": {},
   "source": [
    "### 1D Rate Histograms"
   ]
  },
  {
   "cell_type": "code",
   "execution_count": 68,
   "metadata": {
    "collapsed": false
   },
   "outputs": [
    {
     "name": "stdout",
     "output_type": "stream",
     "text": [
      "Krypton\n",
      "47392248\n",
      "Radon\n",
      "20697469\n",
      "Background\n",
      "42888011\n"
     ]
    },
    {
     "data": {
      "image/png": "[encoded data removed]",
      "text/plain": [
       "<matplotlib.figure.Figure at 0x7fb495b20780>"
      ]
     },
     "metadata": {},
     "output_type": "display_data"
    }
   ],
   "source": [
    "#Plots corrected event with error added#\n",
    "colours=['blue', 'orange', 'green', 'magenta', 'cyan', 'red']\n",
    "plt.figure(figsize=(10, 8))\n",
    "index=0\n",
    "window_length=10**8\n",
    "_tpoints=np.linspace(0, window_length, 201)\n",
    "_xmin=_tpoints[1]\n",
    "_ymax=1.7e-7\n",
    "events_hist=0\n",
    "events=0\n",
    "index=0\n",
    "\n",
    "data_hists_dict={}\n",
    "for source, dict_data in dict_source_sr1.items():\n",
    "    print(source)\n",
    "    del events_hist\n",
    "    #del livet_hist\n",
    "    events=0\n",
    "    for key, data in dict_data.items():\n",
    "        try:\n",
    "            events_hist\n",
    "            events_hist+=data['deltat']\n",
    "            weight_hist+=data['deltat_weights']\n",
    "            livet_hist+=data['livet_hist']\n",
    "            livet_weight+=data['livet_weights']\n",
    "            events+=data['events']\n",
    "        except NameError:\n",
    "            events_hist=data['deltat']\n",
    "            weight_hist=data['deltat_weights']\n",
    "            livet_hist=data['livet_hist']\n",
    "            livet_weight=data['livet_weights']\n",
    "            events=data['events']\n",
    "        except KeyError:\n",
    "            print(source, key)\n",
    "        \n",
    "    events_hist=events_hist.sum('s2_area')\n",
    "    weight_hist=weight_hist.sum('s2_area')\n",
    "    livet_hist=livet_hist.sum('s2_area')\n",
    "    livet_weight=livet_weight.sum('s2_area')\n",
    "    \n",
    "    #Error\n",
    "    num_value=np.array(events_hist)\n",
    "    denum_value=np.array(livet_hist)\n",
    "    num_error = np.sqrt(weight_hist)\n",
    "    denum_error = np.sqrt(livet_weight)\n",
    "    e1 = num_error\n",
    "    e2 = denum_error\n",
    "    b1 = num_value\n",
    "    b2 = denum_value\n",
    "    w=b1/b2\n",
    "    \n",
    "    ratio_error = np.abs(((1-2*w)*e1*e1 + w*w*e2*e2)/(b2*b2))       \n",
    "    ratio = num_value/denum_value \n",
    "    \n",
    "    #Confidence Bands\n",
    "    x = _tpoints\n",
    "    x = np.sort(np.array(list(x[1:]) + list(x[:-1])))\n",
    "    y1=ratio-np.sqrt(ratio_error)\n",
    "    y2=ratio+np.sqrt(ratio_error)\n",
    "    y_lower = np.repeat(y1[:], 2)\n",
    "    y_upper = np.repeat(y2[:], 2)\n",
    "        \n",
    "    #Plot\n",
    "    plt.step(_tpoints[1:], ratio*1000000, linewidth=3,  color=colours[index], label=source+' SR1')\n",
    "    plt.fill_between(x, y_lower*1000000, y_upper*1000000, facecolor=colours[index], interpolate=True, alpha = 0.25)\n",
    "    index+=1\n",
    "    #data_hists_dict[source] = {'rate' : ratio*1000000, 'lower' : y_lower*1000000, 'upper' : y_upper*1000000}\n",
    "    data_hists_dict[source] = {'rate' : ratio*1000000, 'lower' : y1*1000000, 'upper' : y2*1000000}\n",
    "    print(events)\n",
    "\n",
    "plt.xlim([_tpoints[5], _tpoints[-2]])\n",
    "plt.ylim([1.5, 6.5])\n",
    "plt.xlabel('Time Since S2 [ns]', fontsize=12)\n",
    "plt.ylabel('Corrected Peak Rate [ms$^{-1}$]', fontsize=12)\n",
    "axes = plt.gca()\n",
    "axes.tick_params(width=2, length=10)\n",
    "plt.legend(loc='best', fontsize=12)\n",
    "#plt.yscale('log')\n",
    "plt.show()"
   ]
  },
  {
   "cell_type": "code",
   "execution_count": 69,
   "metadata": {
    "collapsed": false
   },
   "outputs": [],
   "source": [
    "with open('sr1_se_rate.pkl', 'wb') as handle:\n",
    "    pickle.dump(data_hists_dict, handle, protocol=pickle.HIGHEST_PROTOCOL)"
   ]
  },
  {
   "cell_type": "markdown",
   "metadata": {},
   "source": [
    "### Define MC\n"
   ]
  },
  {
   "cell_type": "code",
   "execution_count": 4,
   "metadata": {
    "collapsed": true
   },
   "outputs": [],
   "source": [
    "#Load SE Rate histograms:\n",
    "with open('sr1_se_rate.pkl', 'rb') as handle:\n",
    "    data_hists_dict = pickle.load(handle)"
   ]
  },
  {
   "cell_type": "code",
   "execution_count": 5,
   "metadata": {
    "collapsed": true
   },
   "outputs": [],
   "source": [
    "#Load S2 size histograms:\n",
    "with open('s2_spectrum_per_source_sr1.pkl', 'rb') as handle:\n",
    "    sampling_dict = pickle.load(handle)"
   ]
  },
  {
   "cell_type": "code",
   "execution_count": 6,
   "metadata": {
    "collapsed": false
   },
   "outputs": [],
   "source": [
    "def rate_function(scaling_constant, time_scale, dt_bins):\n",
    "    y = scaling_constant*np.exp(-dt_bins/time_scale)\n",
    "    return (y)\n",
    "\n",
    "\n",
    "def se_histogram(event_rate, # Number of events assumed to occur within 1s\n",
    "                 background_rate, # Flat background rate of Single Electrons \n",
    "                 time_scale, # Time Scale of exponential decay of trapped electrons\n",
    "                 scaling_constant, #Fraction of electrons relative to S2 size \n",
    "                 source = 'Background', # Primary S2 spectrum for sampling from\n",
    "                 time_bins=100, # Number of bins in time\n",
    "                 window_length=1000 #Length after given S2 to look at\n",
    "                ):\n",
    "    \n",
    "    #Determine number of events in timw window\n",
    "    number_of_events = np.random.poisson(event_rate) #Event rate in window....\n",
    "    \n",
    "    #Assign random times to S2s in window following S2, leaving first S2 at t=0 \n",
    "    if number_of_events>1:\n",
    "        time_of_s2s=np.random.random(number_of_events-1)\n",
    "        time_of_s2s=np.concatenate(([0], time_of_s2s))\n",
    "    else:\n",
    "        number_of_events = 1\n",
    "        time_of_s2s=np.array([0])\n",
    "    \n",
    "    bin_width=window_length/time_bins\n",
    "    \n",
    "    #Sample from Appropriate S2 Size Spectrum (produced previously)\n",
    "    s2_spectrum_hist = sampling_dict[source]['hist']    \n",
    "    s2_size = np.random.choice(s2_spectrum_hist.bin_centers, \n",
    "                               number_of_events, \n",
    "                               p =(s2_spectrum_hist[:])/np.sum(s2_spectrum_hist[:]))\n",
    "    s2_size=10**s2_size\n",
    "    \n",
    "    #Initialize Arrays of SE rate\n",
    "    se_rate=[background_rate]*time_bins\n",
    "    dt_bins=np.linspace(0, window_length, time_bins+1)\n",
    "    \n",
    "    #print(s2_size)\n",
    "    \n",
    "    for is2, s2 in enumerate(time_of_s2s):\n",
    "        s2 = s2 * window_length # Span window length, assumed to be in ms\n",
    "        bin_offset = np.digitize(s2, dt_bins) \n",
    "        counts = rate_function(scaling_constant = scaling_constant*s2_size[is2], \n",
    "                               time_scale=time_scale, \n",
    "                               dt_bins=dt_bins)\n",
    "        event_len =  time_bins-bin_offset\n",
    "        zero_array = np.array([0]*int(bin_offset))\n",
    "        counts = np.concatenate((np.array(zero_array), counts[:event_len]))\n",
    "        se_rate += counts\n",
    "    \n",
    "    dt_bin_centers = dt_bins[1:]-(dt_bins[1:]-dt_bins[:-1])/2\n",
    "    \n",
    "    return dt_bin_centers, se_rate   "
   ]
  },
  {
   "cell_type": "code",
   "execution_count": 75,
   "metadata": {
    "collapsed": false
   },
   "outputs": [
    {
     "name": "stderr",
     "output_type": "stream",
     "text": [
      "  6%|▋         | 648/10000 [00:00<00:01, 6477.26it/s]"
     ]
    },
    {
     "name": "stdout",
     "output_type": "stream",
     "text": [
      "5.935457875153676\n"
     ]
    },
    {
     "name": "stderr",
     "output_type": "stream",
     "text": [
      "100%|██████████| 10000/10000 [00:01<00:00, 6743.56it/s]\n",
      "  4%|▍         | 401/10000 [00:00<00:02, 4005.71it/s]"
     ]
    },
    {
     "name": "stdout",
     "output_type": "stream",
     "text": [
      "50.55552565635856\n"
     ]
    },
    {
     "name": "stderr",
     "output_type": "stream",
     "text": [
      "100%|██████████| 10000/10000 [00:02<00:00, 3925.21it/s]\n",
      "  6%|▌         | 552/10000 [00:00<00:01, 5517.56it/s]"
     ]
    },
    {
     "name": "stdout",
     "output_type": "stream",
     "text": [
      "25.968395072155708\n"
     ]
    },
    {
     "name": "stderr",
     "output_type": "stream",
     "text": [
      "100%|██████████| 10000/10000 [00:01<00:00, 5191.43it/s]\n"
     ]
    },
    {
     "data": {
      "text/plain": [
       "<matplotlib.legend.Legend at 0x7fbfc26b7be0>"
      ]
     },
     "execution_count": 75,
     "metadata": {},
     "output_type": "execute_result"
    },
    {
     "name": "stderr",
     "output_type": "stream",
     "text": [
      "/project/lgrandi/anaconda3/envs/pax_head/lib/python3.4/site-packages/matplotlib/font_manager.py:1297: UserWarning: findfont: Font family ['monospace'] not found. Falling back to DejaVu Sans\n",
      "  (prop.get_family(), self.defaultFamily[fontext]))\n"
     ]
    },
    {
     "data": {
      "image/png": "[encoded data removed]",
      "text/plain": [
       "<matplotlib.figure.Figure at 0x7fbfc2995ac8>"
      ]
     },
     "metadata": {},
     "output_type": "display_data"
    }
   ],
   "source": [
    "### Plot Models of All Sources With Same Parameters\n",
    "\n",
    "fig = plt.figure(figsize=(10, 6))\n",
    "\n",
    "waveforms = 10000\n",
    "time_bins = 200\n",
    "window_length=100\n",
    "\n",
    "dict_mc_known={}\n",
    "for source, hist_dict in sampling_dict.items():\n",
    "    \n",
    "    x_bins = [0]*time_bins\n",
    "    y_bins = [0]*time_bins\n",
    "    \n",
    "    source_rate = hist_dict['event_rate']\n",
    "    print(source_rate)\n",
    "\n",
    "    event_rate = source_rate*window_length/1000 #Event rate in s, window length in ms\n",
    "    \n",
    "    for sim in tqdm(range(waveforms)):\n",
    "        dt_bin_centers, se_rate = se_histogram(event_rate = event_rate, \n",
    "                                               background_rate=0, \n",
    "                                               time_scale = 21.5,\n",
    "                                               scaling_constant = 5.623e-05, \n",
    "                                               \n",
    "                                               source = source,\n",
    "                                               time_bins=time_bins,\n",
    "                                               window_length = window_length)\n",
    "        y_bins += se_rate\n",
    "    x_bins = dt_bin_centers\n",
    "    dict_mc_known[source]=y_bins/waveforms\n",
    "    plt.plot(x_bins, y_bins/waveforms, label=source)\n",
    "plt.ylabel(\"Peak Rate [ms$^{-1}$]\")\n",
    "plt.xlabel(\"Time [ms]\")\n",
    "plt.xlim([0, window_length])\n",
    "plt.legend(loc='best')"
   ]
  },
  {
   "cell_type": "markdown",
   "metadata": {},
   "source": [
    "### Plot for Proposal - December 2018"
   ]
  },
  {
   "cell_type": "code",
   "execution_count": 25,
   "metadata": {
    "collapsed": false
   },
   "outputs": [],
   "source": [
    "def add_subplot_axes(ax,rect,axisbg='w'):\n",
    "    fig = plt.gcf()\n",
    "    box = ax.get_position()\n",
    "    width = box.width\n",
    "    height = box.height\n",
    "    inax_position  = ax.transAxes.transform(rect[0:2])\n",
    "    transFigure = fig.transFigure.inverted()\n",
    "    infig_position = transFigure.transform(inax_position)    \n",
    "    x = infig_position[0]\n",
    "    y = infig_position[1]\n",
    "    width *= rect[2]\n",
    "    height *= rect[3] \n",
    "    subax = fig.add_axes([x,y,width,height],axisbg=axisbg)\n",
    "    x_labelsize = subax.get_xticklabels()[0].get_size()\n",
    "    y_labelsize = subax.get_yticklabels()[0].get_size()\n",
    "    x_labelsize *= rect[2]**0.5\n",
    "    y_labelsize *= rect[3]**0.5\n",
    "    subax.xaxis.set_tick_params(labelsize=x_labelsize)\n",
    "    subax.yaxis.set_tick_params(labelsize=y_labelsize)\n",
    "    return subax\n",
    "\n",
    "def cut_definition(tau, c, s2, electrons):\n",
    "    time = tau * np.log(c*tau*s2/electrons)\n",
    "    return time"
   ]
  },
  {
   "cell_type": "code",
   "execution_count": 99,
   "metadata": {
    "collapsed": false
   },
   "outputs": [
    {
     "name": "stderr",
     "output_type": "stream",
     "text": [
      "100%|██████████| 10000/10000 [00:01<00:00, 6325.35it/s]\n",
      "100%|██████████| 10000/10000 [00:01<00:00, 6306.50it/s]\n",
      "100%|██████████| 10000/10000 [00:01<00:00, 6669.45it/s]\n",
      "100%|██████████| 10000/10000 [00:02<00:00, 4816.57it/s]\n",
      "100%|██████████| 10000/10000 [00:01<00:00, 5325.18it/s]\n",
      "100%|██████████| 10000/10000 [00:02<00:00, 4868.81it/s]\n",
      "/project/lgrandi/anaconda3/envs/pax_head/lib/python3.4/site-packages/matplotlib/cbook.py:136: MatplotlibDeprecationWarning: The axisbg attribute was deprecated in version 2.0. Use facecolor instead.\n",
      "  warnings.warn(message, mplDeprecation, stacklevel=1)\n",
      "/project/lgrandi/anaconda3/envs/pax_head/lib/python3.4/site-packages/matplotlib/font_manager.py:1297: UserWarning: findfont: Font family ['monospace'] not found. Falling back to DejaVu Sans\n",
      "  (prop.get_family(), self.defaultFamily[fontext]))\n"
     ]
    },
    {
     "data": {
      "image/png": "[encoded data removed]",
      "text/plain": [
       "<matplotlib.figure.Figure at 0x7fbfc2a9ba90>"
      ]
     },
     "metadata": {},
     "output_type": "display_data"
    }
   ],
   "source": [
    "#Plot specific Source data against Model\n",
    "fig = plt.figure(figsize=(9.1, 5.7))\n",
    "waveforms = 10000\n",
    "time_bins = 200\n",
    "window_length=100\n",
    "x_bins = [0]*time_bins\n",
    "y_bins = [0]*time_bins\n",
    "s2_bins=np.logspace(2, 7, 101)\n",
    "tau=4.31\n",
    "c=2.15e-5\n",
    "plot_start=8\n",
    "plot_end=198\n",
    "\n",
    "### Plot Bkg Data and Fit ###\n",
    "source='Background' \n",
    "source_rate = sampling_dict[source]['event_rate']\n",
    "event_rate = source_rate*window_length/1000 #Event rate in s, window length in ms\n",
    "\n",
    "#Produce best Fit model\n",
    "for sim in tqdm(range(waveforms)):\n",
    "    dt_bin_centers, se_rate = se_histogram(event_rate = event_rate, \n",
    "                                               background_rate=2.17, \n",
    "                                               time_scale = 4.31,\n",
    "                                               scaling_constant = 2.15e-05, \n",
    "                                               \n",
    "                                               source = source,\n",
    "                                               time_bins=time_bins,\n",
    "                                               window_length = window_length)\n",
    "    y_bins += se_rate\n",
    "best_fit=y_bins/waveforms\n",
    "\n",
    "#Plus 1-sigma Model\n",
    "y_bins = [0]*time_bins\n",
    "for sim in tqdm(range(waveforms)):\n",
    "    dt_bin_centers, se_rate = se_histogram(event_rate = event_rate, \n",
    "                                               background_rate=2.17+0.1, \n",
    "                                               time_scale = 4.31+0.25,\n",
    "                                               scaling_constant = 2.15e-05+0.2e-05, \n",
    "                                               \n",
    "                                               source = source,\n",
    "                                               time_bins=time_bins,\n",
    "                                               window_length = window_length)\n",
    "    y_bins += se_rate\n",
    "p1sigma=y_bins/waveforms\n",
    "\n",
    "#Minus 1-sigma Model\n",
    "y_bins = [0]*time_bins\n",
    "for sim in tqdm(range(waveforms)):\n",
    "    dt_bin_centers, se_rate = se_histogram(event_rate = event_rate, \n",
    "                                               background_rate=2.17-0.1, \n",
    "                                               time_scale = 4.31-0.25,\n",
    "                                               scaling_constant = 2.15e-05-0.2e-05, \n",
    "                                               \n",
    "                                               source = source,\n",
    "                                               time_bins=time_bins,\n",
    "                                               window_length = window_length)\n",
    "    y_bins += se_rate\n",
    "m1sigma=y_bins/waveforms\n",
    "\n",
    "x_bins = dt_bin_centers \n",
    "\n",
    "# Plot MC Models adn Data\n",
    "plt.fill_between(x_bins, m1sigma, p1sigma, facecolor='green', interpolate=True, alpha = 0.25)\n",
    "plt.plot(x_bins, best_fit, label='MC Model', linestyle='-', color='black')\n",
    "x=x_bins[plot_start:plot_end:2]\n",
    "y=data_hists_dict[source]['rate'][plot_start:plot_end:2]\n",
    "yerr_lower=data_hists_dict[source]['lower'][plot_start:plot_end:2]\n",
    "yerr_upper=data_hists_dict[source]['upper'][plot_start:plot_end:2]\n",
    "plt.errorbar(x=x, \n",
    "             y=y,\n",
    "             yerr=[y-yerr_lower, yerr_upper-y],\n",
    "             label='Background', fmt='.',\n",
    "             color='red')\n",
    "\n",
    "\n",
    "### Plot Radon Data and Fit ###\n",
    "source='Radon' \n",
    "source_rate = sampling_dict[source]['event_rate']\n",
    "event_rate = source_rate*window_length/1000 #Event rate in s, window length in ms\n",
    "\n",
    "#Produce best Fit model\n",
    "y_bins = [0]*time_bins\n",
    "for sim in tqdm(range(waveforms)):\n",
    "    dt_bin_centers, se_rate = se_histogram(event_rate = event_rate, \n",
    "                                               background_rate=2.68, \n",
    "                                               time_scale = 7.9,\n",
    "                                               scaling_constant = 2.73e-05, \n",
    "                                               \n",
    "                                               source = source,\n",
    "                                               time_bins=time_bins,\n",
    "                                               window_length = window_length)\n",
    "    y_bins += se_rate\n",
    "best_fit=y_bins/waveforms\n",
    "\n",
    "#Plus 1-sigma Model\n",
    "y_bins = [0]*time_bins\n",
    "for sim in tqdm(range(waveforms)):\n",
    "    dt_bin_centers, se_rate = se_histogram(event_rate = event_rate, \n",
    "                                               background_rate=2.68+0.1, \n",
    "                                               time_scale = 7.9+0.25,\n",
    "                                               scaling_constant = 2.73e-05+0.2e-05, \n",
    "                                               \n",
    "                                               source = source,\n",
    "                                               time_bins=time_bins,\n",
    "                                               window_length = window_length)\n",
    "    y_bins += se_rate\n",
    "p1sigma=y_bins/waveforms\n",
    "\n",
    "#Minus 1-sigma Model\n",
    "y_bins = [0]*time_bins\n",
    "for sim in tqdm(range(waveforms)):\n",
    "    dt_bin_centers, se_rate = se_histogram(event_rate = event_rate, \n",
    "                                               background_rate=2.68-0.1, \n",
    "                                               time_scale = 7.9-0.25,\n",
    "                                               scaling_constant = 2.73e-05-0.2e-05, \n",
    "                                               \n",
    "                                               source = source,\n",
    "                                               time_bins=time_bins,\n",
    "                                               window_length = window_length)\n",
    "    y_bins += se_rate\n",
    "m1sigma=y_bins/waveforms\n",
    "\n",
    "x_bins = dt_bin_centers \n",
    "\n",
    "# Plot MC Models\n",
    "plt.fill_between(x_bins, m1sigma, p1sigma, facecolor='green', interpolate=True, alpha = 0.25)\n",
    "plt.plot(x_bins, best_fit, linestyle='-', color='black')\n",
    "x=x_bins[plot_start:plot_end:2]\n",
    "y=data_hists_dict[source]['rate'][plot_start:plot_end:2]\n",
    "yerr_lower=data_hists_dict[source]['lower'][plot_start:plot_end:2]\n",
    "yerr_upper=data_hists_dict[source]['upper'][plot_start:plot_end:2]\n",
    "#Remove data points around HEVeto\n",
    "x=np.append(x[0:6], x[8:])\n",
    "y=np.append(y[0:6], y[8:])\n",
    "yerr_lower=np.append(yerr_lower[0:6], yerr_lower[8:])\n",
    "yerr_upper=np.append(yerr_upper[0:6], yerr_upper[8:])\n",
    "plt.errorbar(x=x, \n",
    "             y=y,\n",
    "             yerr=[y-yerr_lower, yerr_upper-y],\n",
    "             label='Radon', fmt='.',\n",
    "             color='Blue')\n",
    "\n",
    "#Format Plot\n",
    "plt.legend(loc = (0.1, 0.7), fontsize=14)\n",
    "plt.ylim([2,6])\n",
    "plt.xlim([x_bins[4], 100])\n",
    "plt.ylabel('SE Rate [ms$^{-1}$]')\n",
    "plt.xlabel('Time since Primary S2 [ms]')\n",
    "\n",
    "### Create Subplot for Veto Cut ###\n",
    "subpos = [0.5,0.5,0.5,0.5] #Position and Dimensions\n",
    "ax=fig.add_subplot(111)\n",
    "subax1=add_subplot_axes(ax, subpos)\n",
    "\n",
    "#Cut 1\n",
    "electrons=0.1\n",
    "subax1.plot(s2_bins, cut_definition(tau, c, s2_bins, electrons), linestyle='-', color='black', label= '0.1 Electrons')\n",
    "subax1.fill_between(s2_bins, \n",
    "                    cut_definition(tau-0.25, c-0.2e-05, s2_bins, electrons), \n",
    "                    cut_definition(tau+0.25, c+0.2e-05, s2_bins, electrons), \n",
    "                    facecolor='green', interpolate=True, alpha = 0.25)\n",
    "\n",
    "#Cut 2\n",
    "electrons=0.01\n",
    "subax1.plot(s2_bins, cut_definition(tau, c, s2_bins, electrons), linestyle=':', color='black', label= '0.01 Electrons')\n",
    "subax1.fill_between(s2_bins, \n",
    "                    cut_definition(tau-0.25, c-0.2e-05, s2_bins, electrons), \n",
    "                    cut_definition(tau+0.25, c+0.2e-05, s2_bins, electrons), \n",
    "                    facecolor='green', interpolate=True, alpha = 0.25)\n",
    "\n",
    "#Format Plot\n",
    "plt.legend(loc=(0.1, 0.5), fontsize=14)\n",
    "plt.xscale('log')\n",
    "plt.xlim([70, 2e6])\n",
    "plt.ylim([0, 70])\n",
    "plt.ylabel('Veto Duration [ms]', fontsize = 14)\n",
    "plt.xlabel('S2 Area [PE]', fontsize = 14)\n",
    "\n",
    "plt.savefig(\"fig_mc_data_match.png\", bboxes='tight')\n",
    "plt.savefig(\"fig_mc_data_match.pdf\", bboxes='tight')\n",
    "plt.show()"
   ]
  },
  {
   "cell_type": "markdown",
   "metadata": {
    "collapsed": true
   },
   "source": [
    "### Fit Data to ToyMC - Constant R"
   ]
  },
  {
   "cell_type": "code",
   "execution_count": null,
   "metadata": {
    "collapsed": false
   },
   "outputs": [],
   "source": [
    "#Store fit values for parameter being scanned\n",
    "scaling_constant_values = np.logspace(-5, -4, 26)\n",
    "time_scale_values = np.linspace(1, 10, 31)\n",
    "#background_rate = np.linspace(0, 4, 25)\n",
    "fit_values=[]\n",
    "p_values=[]\n",
    "waveforms=1000\n",
    "\n",
    "#Settings for ToyMC for other parameters\n",
    "time_bins=200 #Needed to match data\n",
    "window_length=100 #Needed to match data\n",
    "source='Background'\n",
    "source_rate = sampling_dict[source]['event_rate']\n",
    "#source_rate = sampling_dict[source]['event_rate']\n",
    "background_rate=2.2\n",
    "\n",
    "#Rate from Data\n",
    "rate_obs = data_hists_dict[source]['rate']\n",
    "\n",
    "#Match to MC Itself,  \n",
    "#rate_obs = dict_mc_known[source]\n",
    "\n",
    "for  scaling_constant in tqdm(scaling_constant_values):\n",
    "    temp_array=[]\n",
    "    temp_p_array=[]\n",
    "    for  time_scale in time_scale_values:\n",
    "        #Initialize Bins\n",
    "        x_bins = [0]*time_bins\n",
    "        y_bins = [0]*time_bins\n",
    "\n",
    "        #Run 1000 TImes\n",
    "        event_rate = source_rate*window_length/1000\n",
    "        for sim in range(waveforms):\n",
    "            dt_bin_centers, se_rate = se_histogram(event_rate = event_rate, \n",
    "                                                    background_rate=background_rate, \n",
    "                                                    time_scale = time_scale,\n",
    "                                                    scaling_constant = scaling_constant, \n",
    "                                                    source = source,\n",
    "                                                    time_bins=time_bins,\n",
    "                                                    window_length = 100)\n",
    "            y_bins += se_rate/waveforms\n",
    "        rate_exp = y_bins\n",
    "\n",
    "        fit_value, fit_probability = scipy.stats.chisquare(rate_obs[9:198], rate_exp[9:198])\n",
    "        temp_array = np.append(temp_array, fit_value)\n",
    "        temp_p_array = np.append(temp_p_array, fit_probability)\n",
    "    fit_values.append(temp_array)\n",
    "    p_values.append(temp_p_array)\n",
    "fit_values=np.array(fit_values)\n",
    "p_values=np.array(p_values)"
   ]
  },
  {
   "cell_type": "code",
   "execution_count": null,
   "metadata": {
    "collapsed": false
   },
   "outputs": [],
   "source": [
    "#Background\n",
    "fig = plt.figure(figsize=(10, 8))\n",
    "plt.set_cmap(\"Blues\")\n",
    "plt.pcolormesh(scaling_constant_values, time_scale_values, fit_values.T, norm=LogNorm(), vmax=10**2)\n",
    "i_min = np.unravel_index(fit_values.argmin(), fit_values.shape)\n",
    "print(\"Best fit chisq value :\",  fit_values[i_min[0]][i_min[1]])\n",
    "print(\"Best fit p-value :\",  p_values[i_min[0]][i_min[1]])\n",
    "print(\"Best fit scaling constant :\",  scaling_constant_values[i_min[0]])\n",
    "print(\"Best time_scale constant :\",  time_scale_values[i_min[1]])\n",
    "plt.colorbar()\n",
    "#plt.yscale('log')\n",
    "plt.xscale('log')\n",
    "plt.xlabel(\"Scaling Constant Value\")\n",
    "plt.ylabel(\"Time Scale Value\")\n"
   ]
  },
  {
   "cell_type": "markdown",
   "metadata": {},
   "source": [
    "### Fit Data to ToyMC - Constant C"
   ]
  },
  {
   "cell_type": "code",
   "execution_count": null,
   "metadata": {
    "collapsed": false
   },
   "outputs": [],
   "source": [
    "#Store fit values for parameter being scanned\n",
    "background_values = np.linspace(1.5, 3.5, 21)\n",
    "time_scale_values = np.linspace(2, 12, 31)\n",
    "#background_rate = np.linspace(0, 4, 25)\n",
    "fit_values=[]\n",
    "p_values=[]\n",
    "waveforms=1000\n",
    "\n",
    "#Settings for ToyMC for other parameters\n",
    "time_bins=200 #Needed to match data\n",
    "window_length=100 #Needed to match data\n",
    "source='Background'\n",
    "source_rate = sampling_dict[source]['event_rate']\n",
    "#source_rate = sampling_dict[source]['event_rate']\n",
    "scaling_constant=2.08929613085e-05\n",
    "\n",
    "#Rate from Data\n",
    "rate_obs = data_hists_dict[source]['rate']\n",
    "\n",
    "#Match to MC Itself,  \n",
    "#rate_obs = dict_mc_known[source]\n",
    "\n",
    "for background_rate in tqdm(background_values):\n",
    "    temp_array=[]\n",
    "    temp_p_array=[]\n",
    "    for  time_scale in time_scale_values:\n",
    "        #Initialize Bins\n",
    "        x_bins = [0]*time_bins\n",
    "        y_bins = [0]*time_bins\n",
    "\n",
    "        #Run 1000 TImes\n",
    "        event_rate = source_rate*window_length/1000\n",
    "        for sim in range(waveforms):\n",
    "            dt_bin_centers, se_rate = se_histogram(event_rate = event_rate, \n",
    "                                                    background_rate=background_rate, \n",
    "                                                    time_scale = time_scale,\n",
    "                                                    scaling_constant = scaling_constant, \n",
    "                                                    source = source,\n",
    "                                                    time_bins=time_bins,\n",
    "                                                    window_length = 100)\n",
    "            y_bins += se_rate/waveforms\n",
    "        rate_exp = y_bins\n",
    "\n",
    "        fit_value, fit_probability = scipy.stats.chisquare(rate_obs[9:198], rate_exp[9:198])\n",
    "        temp_array = np.append(temp_array, fit_value)\n",
    "        temp_p_array = np.append(temp_p_array, fit_probability)\n",
    "    fit_values.append(temp_array)\n",
    "    p_values.append(temp_p_array)\n",
    "fit_values=np.array(fit_values)\n",
    "p_values=np.array(p_values)"
   ]
  },
  {
   "cell_type": "code",
   "execution_count": null,
   "metadata": {
    "collapsed": false
   },
   "outputs": [],
   "source": [
    "#Background\n",
    "fig = plt.figure(figsize=(10, 8))\n",
    "plt.set_cmap(\"Blues\")\n",
    "plt.pcolormesh(background_values, time_scale_values, fit_values.T, norm=LogNorm(), vmax=10**2)\n",
    "i_min = np.unravel_index(fit_values.argmin(), fit_values.shape)\n",
    "print(\"Best fit chisq value :\",  fit_values[i_min[0]][i_min[1]])\n",
    "print(\"Best fit p-value :\",  p_values[i_min[0]][i_min[1]])\n",
    "print(\"Best fit background rate:\",  background_values[i_min[0]])\n",
    "print(\"Best time_scale constant :\",  time_scale_values[i_min[1]])\n",
    "plt.colorbar()\n",
    "#plt.yscale('log')\n",
    "#plt.xscale('log')\n",
    "plt.xlabel(\"Background Rate\")\n",
    "plt.ylabel(\"Time Scale Value\")\n"
   ]
  },
  {
   "cell_type": "markdown",
   "metadata": {},
   "source": [
    "### Fit All Parameters Together"
   ]
  },
  {
   "cell_type": "code",
   "execution_count": null,
   "metadata": {
    "collapsed": false
   },
   "outputs": [
    {
     "name": "stderr",
     "output_type": "stream",
     "text": [
      " 57%|█████▋    | 17/30 [36:44<28:06, 129.70s/it] "
     ]
    }
   ],
   "source": [
    "#Store fit values for parameter being scanned\n",
    "background_values = np.linspace(1.5, 3.5, 30)\n",
    "time_scale_values = np.linspace(2, 12, 30)\n",
    "scaling_constant_values = np.logspace(-5, -4, 30)\n",
    "fit_values=[]\n",
    "p_values=[]\n",
    "waveforms=1000\n",
    "\n",
    "#Settings for ToyMC for other parameters\n",
    "time_bins=200 #Needed to match data\n",
    "window_length=100 #Needed to match data\n",
    "source='Background'\n",
    "source_rate = sampling_dict[source]['event_rate']\n",
    "\n",
    "\n",
    "#scaling_constant=2.08929613085e-05\n",
    "\n",
    "#Rate from Data\n",
    "rate_obs = data_hists_dict[source]['rate']\n",
    "\n",
    "#Match to MC Itself,  \n",
    "#rate_obs = dict_mc_known[source]\n",
    "\n",
    "for background_rate in tqdm(background_values):\n",
    "    temp_2d_array=[]\n",
    "    temp_2d_p_array=[]\n",
    "    for scaling_constant in scaling_constant_values:\n",
    "        temp_1d_array=[]\n",
    "        temp_1d_p_array=[]\n",
    "        for  time_scale in time_scale_values:\n",
    "            #Initialize Bins\n",
    "            x_bins = [0]*time_bins\n",
    "            y_bins = [0]*time_bins\n",
    "\n",
    "            #Run 1000 TImes\n",
    "            event_rate = source_rate*window_length/1000\n",
    "            for sim in range(waveforms):\n",
    "                dt_bin_centers, se_rate = se_histogram(event_rate = event_rate, \n",
    "                                                        background_rate=background_rate, \n",
    "                                                        time_scale = time_scale,\n",
    "                                                        scaling_constant = scaling_constant, \n",
    "                                                        source = source,\n",
    "                                                        time_bins=time_bins,\n",
    "                                                        window_length = 100)\n",
    "                y_bins += se_rate/waveforms\n",
    "            rate_exp = y_bins\n",
    "\n",
    "            #For Use with Rn\n",
    "            #rate_obs = data_hists_dict[source]['rate']\n",
    "            #rate_exp=np.append(rate_exp[0:18], rate_exp[22:])\n",
    "            #rate_obs=np.append(rate_obs[0:18], rate_obs[22:])\n",
    "            \n",
    "            fit_value, fit_probability = scipy.stats.chisquare(rate_obs[9:198], rate_exp[9:198])\n",
    "            temp_1d_array = np.append(temp_1d_array, fit_value)\n",
    "            temp_1d_p_array = np.append(temp_1d_p_array, fit_probability)\n",
    "        temp_2d_array.append(temp_1d_array)\n",
    "        temp_2d_p_array.append(temp_1d_p_array)\n",
    "    fit_values.append(temp_2d_array)\n",
    "    p_values.append(temp_2d_p_array)\n",
    "fit_values=np.array(fit_values)\n",
    "p_values=np.array(p_values)"
   ]
  },
  {
   "cell_type": "code",
   "execution_count": 111,
   "metadata": {
    "collapsed": false
   },
   "outputs": [
    {
     "name": "stdout",
     "output_type": "stream",
     "text": [
      "(6, 6, 5)\n",
      "Best fit chisq value : 0.390419014925\n",
      "Best fit p-value : 1.0\n",
      "Best fit background rate: 2.13157894737\n",
      "Best scaling constant constant : 2.06913808111e-05\n",
      "Best time scale constant : 4.63157894737\n"
     ]
    },
    {
     "data": {
      "text/plain": [
       "<matplotlib.figure.Figure at 0x7fb495e43ac8>"
      ]
     },
     "metadata": {},
     "output_type": "display_data"
    }
   ],
   "source": [
    "plt.set_cmap(\"Blues\")\n",
    "i_min = np.unravel_index(fit_values.argmin(), fit_values.shape)\n",
    "print(i_min)\n",
    "print(\"Best fit chisq value :\",  fit_values[i_min[0]][i_min[1]][i_min[2]])\n",
    "print(\"Best fit p-value :\",  p_values[i_min[0]][i_min[1]][i_min[2]])\n",
    "print(\"Best fit background rate:\",  background_values[i_min[0]])\n",
    "print(\"Best scaling constant constant :\",  scaling_constant_values[i_min[1]])\n",
    "print(\"Best time scale constant :\",  time_scale_values[i_min[2]])"
   ]
  },
  {
   "cell_type": "code",
   "execution_count": 123,
   "metadata": {
    "collapsed": false
   },
   "outputs": [
    {
     "data": {
      "text/plain": [
       "<matplotlib.text.Text at 0x7fb486b372e8>"
      ]
     },
     "execution_count": 123,
     "metadata": {},
     "output_type": "execute_result"
    },
    {
     "data": {
      "image/png": "[encoded data removed]",
      "text/plain": [
       "<matplotlib.figure.Figure at 0x7fb486bb77b8>"
      ]
     },
     "metadata": {},
     "output_type": "display_data"
    }
   ],
   "source": [
    "#Slice On background Values:\n",
    "\n",
    "fig = plt.figure(figsize=(10, 8))\n",
    "\n",
    "#Slice axis=0, i.e. first loop is removed. Thus no background rate loop\n",
    "i_min = np.unravel_index(fit_values.argmin(), fit_values.shape)\n",
    "fit_values_slice=fit_values[i_min[0],:, :]\n",
    "\n",
    "plt.pcolormesh(scaling_constant_values, time_scale_values, fit_values_slice, vmax=100, norm=LogNorm())\n",
    "#i_min = np.unravel_index(fit_values.argmin(), fit_values.shape)\n",
    "plt.colorbar()\n",
    "#plt.yscale('log')\n",
    "plt.xscale('log')\n",
    "plt.xlabel(\"Scaling Constant Value\")\n",
    "plt.ylabel(\"Time Scale Value\")"
   ]
  },
  {
   "cell_type": "code",
   "execution_count": 113,
   "metadata": {
    "collapsed": false
   },
   "outputs": [
    {
     "data": {
      "text/plain": [
       "<matplotlib.text.Text at 0x7fb495e14a58>"
      ]
     },
     "execution_count": 113,
     "metadata": {},
     "output_type": "execute_result"
    },
    {
     "data": {
      "image/png": "[encoded data removed]",
      "text/plain": [
       "<matplotlib.figure.Figure at 0x7fb495ec02b0>"
      ]
     },
     "metadata": {},
     "output_type": "display_data"
    }
   ],
   "source": [
    "#Slice On background Values:\n",
    "\n",
    "fig = plt.figure(figsize=(10, 8))\n",
    "\n",
    "#Slice axis=1, i.e. second loop is removed. Thus no scaling constant loop\n",
    "i_min = np.unravel_index(fit_values.argmin(), fit_values.shape)\n",
    "fit_values_slice=fit_values[:, i_min[1] ,:]\n",
    "\n",
    "plt.pcolormesh(background_values, time_scale_values, fit_values_slice, norm=LogNorm(), vmax=10**2)\n",
    "#i_min = np.unravel_index(fit_values.argmin(), fit_values.shape)\n",
    "plt.colorbar()\n",
    "#plt.yscale('log')\n",
    "#plt.xscale('log')\n",
    "plt.xlabel(\"Background Value\")\n",
    "plt.ylabel(\"Time Scale Value\")"
   ]
  },
  {
   "cell_type": "code",
   "execution_count": 114,
   "metadata": {
    "collapsed": false
   },
   "outputs": [
    {
     "data": {
      "text/plain": [
       "<matplotlib.text.Text at 0x7fb495b30e48>"
      ]
     },
     "execution_count": 114,
     "metadata": {},
     "output_type": "execute_result"
    },
    {
     "data": {
      "image/png": "[encoded data removed]",
      "text/plain": [
       "<matplotlib.figure.Figure at 0x7fb495b29a58>"
      ]
     },
     "metadata": {},
     "output_type": "display_data"
    }
   ],
   "source": [
    "#Slice On background Values:\n",
    "\n",
    "fig = plt.figure(figsize=(10, 8))\n",
    "\n",
    "#Slice axis=1, i.e. second loop is removed. Thus no scaling constant loop\n",
    "i_min = np.unravel_index(fit_values.argmin(), fit_values.shape)\n",
    "fit_values_slice=fit_values[:, :, i_min[2]]\n",
    "\n",
    "plt.pcolormesh(background_values, scaling_constant_values, fit_values_slice, norm=LogNorm(), vmax=10**2)\n",
    "#i_min = np.unravel_index(fit_values.argmin(), fit_values.shape)\n",
    "plt.colorbar()\n",
    "plt.yscale('log')\n",
    "#plt.xscale('log')\n",
    "plt.xlabel(\"Background Value\")\n",
    "plt.ylabel(\"Scaling Constant Value\")"
   ]
  },
  {
   "cell_type": "markdown",
   "metadata": {
    "collapsed": true
   },
   "source": [
    "### 1D Scans"
   ]
  },
  {
   "cell_type": "code",
   "execution_count": null,
   "metadata": {
    "collapsed": false
   },
   "outputs": [],
   "source": [
    "#Rate from Data\n",
    "rate_obs = data_hists_dict['Background']['rate']\n",
    "\n",
    "#Store fit values for parameter being scanned\n",
    "time_scale_fits=[]\n",
    "time_scale_values=np.logspace(-1, 2, 101)\n",
    "\n",
    "#Settings for ToyMC for other parameters\n",
    "time_bins=200\n",
    "window_length=100\n",
    "source_rate=50\n",
    "source='Krypton'\n",
    "\n",
    "for  time_scale in tqdm(time_scale_values):\n",
    "    #Initialize Bins\n",
    "    x_bins = [0]*time_bins\n",
    "    y_bins = [0]*time_bins\n",
    "\n",
    "    #Run 1000 TImes\n",
    "    event_rate = source_rate*window_length/1000\n",
    "    for sim in range(waveforms):\n",
    "        dt_bin_centers, se_rate = se_histogram(event_rate = event_rate, \n",
    "                                                background_rate=0, \n",
    "                                                time_scale = time_scale,\n",
    "                                                scaling_constant = 1, \n",
    "                                                source = source,\n",
    "                                                time_bins=time_bins,\n",
    "                                                window_length = 100)\n",
    "        y_bins += se_rate/waveforms\n",
    "    rate_exp = y_bins\n",
    "\n",
    "    fit_value, fit_probability = scipy.stats.chisquare(rate_obs[4:], rate_exp[4:])\n",
    "    time_scale_fits.append(fit_value)\n",
    "    \n",
    "print (fit_value, fit_probability)"
   ]
  },
  {
   "cell_type": "code",
   "execution_count": null,
   "metadata": {
    "collapsed": false
   },
   "outputs": [],
   "source": [
    "plt.plot(time_scale_values, np.log10(time_scale_fits))\n",
    "plt.xlabel(\"Scaling Constant Value\")\n",
    "plt.ylabel(\"Log10($\\chi^{2}$)\")\n",
    "print(\"Best fit scaling constant :\",  time_scale_values[np.argmin(scaling_constant_fits)])"
   ]
  },
  {
   "cell_type": "code",
   "execution_count": null,
   "metadata": {
    "collapsed": false
   },
   "outputs": [],
   "source": [
    "plt.plot(scaling_constant_values, np.log10(scaling_constant_fits))\n",
    "plt.xlabel(\"Scaling Constant Value\")\n",
    "plt.ylabel(\"Log10($\\chi^{2}$)\")\n",
    "print(\"Best fit scaling constant :\",  scaling_constant_values[np.argmin(scaling_constant_fits)])"
   ]
  },
  {
   "cell_type": "code",
   "execution_count": null,
   "metadata": {
    "collapsed": false
   },
   "outputs": [],
   "source": [
    "plt.plot(scaling_constant_values, np.log10(scaling_constant_fits))\n",
    "plt.xlabel(\"Scaling Constant Value\")\n",
    "plt.ylabel(\"Log10($\\chi^{2}$)\")\n",
    "print(\"Best fit scaling constant :\",  scaling_constant_values[np.argmin(scaling_constant_fits)])"
   ]
  },
  {
   "cell_type": "code",
   "execution_count": null,
   "metadata": {
    "collapsed": false
   },
   "outputs": [],
   "source": [
    "plt.plot(scaling_constant_values, np.log10(scaling_constant_fits))\n",
    "plt.xlabel(\"Scaling Constant Value\")\n",
    "plt.ylabel(\"Log10($\\chi^{2}$)\")\n",
    "print(\"Best fit scaling constant :\",  scaling_constant_values[np.argmin(scaling_constant_fits)])"
   ]
  },
  {
   "cell_type": "markdown",
   "metadata": {
    "collapsed": true
   },
   "source": [
    "### Load Results from Reproducibility Study"
   ]
  },
  {
   "cell_type": "code",
   "execution_count": null,
   "metadata": {
    "collapsed": false
   },
   "outputs": [],
   "source": [
    "scaling_constant_values=np.logspace(-5, -4, 26)\n",
    "time_scale_values=np.linspace(2, 10, 32)\n",
    "\n",
    "\n",
    "print('Searching for Processed Pickle Files')\n",
    "#simpath= '/project/lgrandi/jpienaar/cache_files/'\n",
    "simpath= '/home/jpienaar/SingleElectrons/processing_scripts/'\n",
    "\n",
    "#Find datasets\n",
    "datasets = get_file_list(simpath, 'fitting_results_Background_*', ' ')\n",
    "print('Found %d datasets' % len(datasets))\n",
    "\n",
    "\n",
    "all_dicts={}\n",
    "for dataset in tqdm(datasets[:]):\n",
    "    with open(simpath+dataset, 'rb') as handle:\n",
    "        data_dict = pickle.load(handle)\n",
    "        \n",
    "        \n",
    "        \n",
    "        \n",
    "        \n",
    "        all_dicts[dataset]=data_dict\n",
    "        "
   ]
  },
  {
   "cell_type": "code",
   "execution_count": null,
   "metadata": {
    "collapsed": false
   },
   "outputs": [],
   "source": [
    "#Average Chi Square values across x fits\n",
    "\n",
    "fit_values_array=np.array([[0.0]*len(scaling_constant_values)]*len(time_scale_values))\n",
    "for key, fitting_dict in tqdm(all_dicts.items()):\n",
    "    tau_bin = np.digitize(fitting_dict['known_tau'], time_scale_values)\n",
    "    c_bin = np.digitize(fitting_dict['known_c'], scaling_constant_values)\n",
    "    #fit_values_array[c_bin-1][tau_bin-1] = np.average(fitting_dict['chi'])\n",
    "    fit_values_array[tau_bin-1][c_bin-1] = np.average(fitting_dict['chi'])\n",
    "    \n",
    "\n",
    "fig = plt.figure(figsize=(10, 8))\n",
    "plt.set_cmap(\"Blues\")\n",
    "plt.pcolormesh(scaling_constant_values, time_scale_values, fit_values_array, norm=LogNorm())\n",
    "plt.colorbar()\n",
    "i_min = np.unravel_index(fit_values_array.argmin(), fit_values_array.shape)\n",
    "#print(\"Best fit chisq value :\",  fit_values_array[i_min[0]][i_min[1]])\n",
    "#print(\"Best fit scaling constant :\",  scaling_constant_values[i_min[0]])\n",
    "print(\"Best time_scale constant :\",  time_scale_values[i_min[1]])\n",
    "#plt.yscale('log')\n",
    "plt.xscale('log')\n",
    "plt.xlabel(\"Scaling Constant Value\")\n",
    "plt.ylabel(\"Time Scale Value\")\n"
   ]
  },
  {
   "cell_type": "code",
   "execution_count": null,
   "metadata": {
    "collapsed": false
   },
   "outputs": [],
   "source": [
    "#Average Error in Tau_Value across 30 Sims\n",
    "\n",
    "fit_values_array=np.array([[0.0]*len(scaling_constant_values)]*len(time_scale_values))\n",
    "for key, fitting_dict in tqdm(all_dicts.items()):\n",
    "    tau_bin = np.digitize(fitting_dict['known_tau'], time_scale_values)\n",
    "    c_bin = np.digitize(fitting_dict['known_c'], scaling_constant_values)\n",
    "    average_tau = np.average(fitting_dict['tau'])\n",
    "    dist_of_taus = np.digitize(average_tau, time_scale_values)-tau_bin                \n",
    "    #fit_values_array[c_bin-1][tau_bin-1] = dist_of_taus\n",
    "    fit_values_array[tau_bin-1][c_bin-1] = dist_of_taus\n",
    "    \n",
    "\n",
    "fig = plt.figure(figsize=(10, 8))\n",
    "plt.set_cmap(\"RdBu\")\n",
    "plt.pcolormesh(scaling_constant_values, time_scale_values, fit_values_array, vmin=-10, vmax=10)#, norm=LogNorm())\n",
    "plt.colorbar()\n",
    "i_min = np.unravel_index(fit_values_array.argmin(), fit_values_array.shape)\n",
    "#print(\"Best fit chisq value :\",  fit_values_array[i_min[0]][i_min[1]])\n",
    "#print(\"Best fit scaling constant :\",  scaling_constant_values[i_min[0]])\n",
    "print(\"Best time_scale constant :\",  time_scale_values[i_min[1]])\n",
    "#plt.yscale('log')\n",
    "plt.xscale('log')\n",
    "plt.xlabel(\"Scaling Constant Value\")\n",
    "plt.ylabel(\"Time Scale Value\")\n"
   ]
  },
  {
   "cell_type": "code",
   "execution_count": null,
   "metadata": {
    "collapsed": false
   },
   "outputs": [],
   "source": [
    "#Average Error in C_Value across 30 Sims\n",
    "\n",
    "fit_values_array=np.array([[0.0]*len(scaling_constant_values)]*len(time_scale_values))\n",
    "for key, fitting_dict in tqdm(all_dicts.items()):\n",
    "    tau_bin = np.digitize(fitting_dict['known_tau'], time_scale_values)\n",
    "    c_bin = np.digitize(fitting_dict['known_c'], scaling_constant_values)\n",
    "    average_c = np.average(fitting_dict['c'])\n",
    "    dist_of_cs = np.digitize(average_c, scaling_constant_values)-c_bin                \n",
    "    #fit_values_array[c_bin-1][tau_bin-1] = dist_of_c\n",
    "    fit_values_array[tau_bin-1][c_bin-1] = dist_of_cs\n",
    "    \n",
    "\n",
    "fig = plt.figure(figsize=(10, 8))\n",
    "plt.set_cmap(\"RdBu\")\n",
    "plt.pcolormesh(scaling_constant_values, time_scale_values, fit_values_array, vmin=-5, vmax=5)#, norm=LogNorm())\n",
    "plt.colorbar()\n",
    "i_min = np.unravel_index(fit_values_array.argmin(), fit_values_array.shape)\n",
    "#print(\"Best fit chisq value :\",  fit_values_array[i_min[0]][i_min[1]])\n",
    "#print(\"Best fit scaling constant :\",  scaling_constant_values[i_min[0]])\n",
    "print(\"Best time_scale constant :\",  time_scale_values[i_min[1]])\n",
    "#plt.yscale('log')\n",
    "plt.xscale('log')\n",
    "plt.xlabel(\"Scaling Constant Value\")\n",
    "plt.ylabel(\"Time Scale Value\")\n"
   ]
  },
  {
   "cell_type": "code",
   "execution_count": null,
   "metadata": {
    "collapsed": true
   },
   "outputs": [],
   "source": [
    "with open('Background_fitting_MCTruth_results.pkl', 'wb') as handle:\n",
    "    pickle.dump(all_dicts, handle, protocol=pickle.HIGHEST_PROTOCOL)"
   ]
  },
  {
   "cell_type": "markdown",
   "metadata": {
    "collapsed": true
   },
   "source": [
    "### Test Tianyu's Rate"
   ]
  },
  {
   "cell_type": "code",
   "execution_count": 84,
   "metadata": {
    "collapsed": true
   },
   "outputs": [],
   "source": [
    "#Load S2 size histograms:\n",
    "with open('rate.pkl', 'rb') as handle:\n",
    "    rate_tianyu = pickle.load(handle)"
   ]
  },
  {
   "cell_type": "code",
   "execution_count": 86,
   "metadata": {
    "collapsed": false
   },
   "outputs": [
    {
     "data": {
      "image/png": "[encoded data removed]",
      "text/plain": [
       "<matplotlib.figure.Figure at 0x7fb495e8f908>"
      ]
     },
     "metadata": {},
     "output_type": "display_data"
    }
   ],
   "source": [
    "plt.plot(rate_tianyu['bin_centers']*1000, rate_tianyu['rate']/1000, linestyle='-')\n",
    "plt.xlabel('Time [s]')\n",
    "plt.ylabel('Rate [/ms]')\n",
    "#plt.yscale('log')\n",
    "#plt.xlim([0, 0.1])\n",
    "plt.show()"
   ]
  },
  {
   "cell_type": "code",
   "execution_count": 87,
   "metadata": {
    "collapsed": true
   },
   "outputs": [],
   "source": [
    "from scipy.optimize import curve_fit\n",
    "from scipy.stats import chisquare\n",
    "\n",
    "def double_exp(x, a, t_1, b, t_2):\n",
    "    return a*np.exp(-x/t_1)+b*np.exp(-x/t_2)\n",
    "\n",
    "def fit_SEs_exp(initial_guess, counts, xcenters):\n",
    "    #Fit\n",
    "    popt, pcov = curve_fit(double_exp, xcenters, counts, p0=initial_guess, maxfev=2500)\n",
    "\n",
    "        \n",
    "    #Determine chi square\n",
    "    counts_fitted = double_exp(xcenters, popt[0], popt[1], popt[2], popt[3])\n",
    "    f_goodness_of_fit = chisquare(counts, counts_fitted)\n",
    "    fit_plot=plt.plot(xcenters, counts_fitted, linewidth=3, linestyle=':', color='black', label='Fit')\n",
    "        \n",
    "        \n",
    "    return popt\n"
   ]
  },
  {
   "cell_type": "code",
   "execution_count": 88,
   "metadata": {
    "collapsed": false
   },
   "outputs": [
    {
     "data": {
      "image/png": "[encoded data removed]",
      "text/plain": [
       "<matplotlib.figure.Figure at 0x7fb495e98c88>"
      ]
     },
     "metadata": {},
     "output_type": "display_data"
    }
   ],
   "source": [
    "fig=plt.figure(figsize=(10, 6))\n",
    "initial_guess=(10, 4.5, 2, 100)\n",
    "plt.plot(rate_tianyu['bin_centers']*1000, rate_tianyu['rate']/1000, linewidth=2, color='red', label='Data')\n",
    "fit_values = fit_SEs_exp(initial_guess, rate_tianyu['rate'][:]/1000, rate_tianyu['bin_centers'][:]*1000)\n",
    "plt.xlabel('Time [s]')\n",
    "plt.ylabel('Rate [/ms]')\n",
    "plt.legend()\n",
    "#plt.yscale('log')\n",
    "plt.xlim([0, 500])\n",
    "plt.show()"
   ]
  },
  {
   "cell_type": "code",
   "execution_count": 89,
   "metadata": {
    "collapsed": false
   },
   "outputs": [
    {
     "data": {
      "text/plain": [
       "array([  3.04526748,   7.21601058,   0.28839343,  88.65886023])"
      ]
     },
     "execution_count": 89,
     "metadata": {},
     "output_type": "execute_result"
    }
   ],
   "source": [
    "fit_values"
   ]
  },
  {
   "cell_type": "markdown",
   "metadata": {
    "collapsed": false
   },
   "source": [
    "### Split By Date - Bkg"
   ]
  },
  {
   "cell_type": "code",
   "execution_count": null,
   "metadata": {
    "collapsed": false
   },
   "outputs": [],
   "source": [
    "%%time\n",
    "\n",
    "bkg_cal_dates=[datetime.date(2017, 1, 17), datetime.date(2017, 3, 1), datetime.date(2017, 4, 1), \n",
    "              datetime.date(2017, 5, 1), datetime.date(2017, 6, 1), datetime.date(2017, 7, 1)]\n",
    "\n",
    "print('Load Data')\n",
    "simpath= '/project/lgrandi/jpienaar/cache_files/'\n",
    "#simpath= '/scratch/midway2/jpienaar/cache_files/'\n",
    "\n",
    "date_label=['Feb', 'Mar', 'Apr', 'May', 'Jun']\n",
    "\n",
    "#Find datasets\n",
    "datasets = get_file_list(simpath, '*dt.pkl', ' ')\n",
    "print('Found %d datasets' % len(datasets))\n",
    "n_files=len(datasets)\n",
    "\n",
    "dict_bkg_calibrations={}\n",
    "for t_index, date in enumerate(bkg_cal_dates[:-1]):\n",
    "    df=datasets_bkg\n",
    "    df_temp=hax.cuts.selection(df, df.start>bkg_cal_dates[t_index], 'TimeCut Low')\n",
    "    df_temp=hax.cuts.selection(df_temp, df_temp.start<bkg_cal_dates[t_index+1], 'TimeCut High')\n",
    "    dataset_names=df_temp['name']\n",
    "    dict_calibration={}\n",
    "    for dataset in tqdm(datasets[:]):\n",
    "        key=dataset[:-7]\n",
    "        if dataset_names.isin([dataset[:-7]]).any():\n",
    "            with open(simpath+dataset, 'rb') as handle:\n",
    "                data_dict = pickle.load(handle)\n",
    "                dict_calibration[key]=data_dict\n",
    "    dict_bkg_calibrations[date_label[t_index]]=dict_calibration"
   ]
  },
  {
   "cell_type": "code",
   "execution_count": null,
   "metadata": {
    "collapsed": false
   },
   "outputs": [],
   "source": [
    "#Plots corrected event with error added#\n",
    "colours=['blue', 'orange', 'green', 'magenta', 'cyan', 'red', 'grey', 'black', 'brown']\n",
    "plt.figure(figsize=(10, 8))\n",
    "index=0\n",
    "window_length=10**8\n",
    "_tpoints=np.linspace(0, window_length, 201)\n",
    "_xmin=_tpoints[1]\n",
    "_ymax=1.7e-7\n",
    "events_hist=0\n",
    "events=0\n",
    "index=0\n",
    "\n",
    "data_hists_dict={}\n",
    "for source, dict_data in dict_bkg_calibrations.items():\n",
    "    print(source, len(dict_data))\n",
    "    del events_hist\n",
    "    #del livet_hist\n",
    "    events=0\n",
    "    for key, data in dict_data.items():\n",
    "        try:\n",
    "            events_hist\n",
    "            events_hist+=data['deltat']\n",
    "            weight_hist+=data['deltat_weights']\n",
    "            livet_hist+=data['livet_hist']\n",
    "            livet_weight+=data['livet_weights']\n",
    "            events+=data['events']\n",
    "        except NameError:\n",
    "            events_hist=data['deltat']\n",
    "            weight_hist=data['deltat_weights']\n",
    "            livet_hist=data['livet_hist']\n",
    "            livet_weight=data['livet_weights']\n",
    "            events=data['events']\n",
    "        except KeyError:\n",
    "            print(source, key)\n",
    "        \n",
    "    events_hist=events_hist.sum('s2_area')\n",
    "    weight_hist=weight_hist.sum('s2_area')\n",
    "    livet_hist=livet_hist.sum('s2_area')\n",
    "    livet_weight=livet_weight.sum('s2_area')\n",
    "    \n",
    "    #Error\n",
    "    num_value=np.array(events_hist)\n",
    "    denum_value=np.array(livet_hist)\n",
    "    num_error = np.sqrt(weight_hist)\n",
    "    denum_error = np.sqrt(livet_weight)\n",
    "    e1 = num_error\n",
    "    e2 = denum_error\n",
    "    b1 = num_value\n",
    "    b2 = denum_value\n",
    "    w=b1/b2\n",
    "    \n",
    "    ratio_error = np.abs(((1-2*w)*e1*e1 + w*w*e2*e2)/(b2*b2))       \n",
    "    ratio = num_value/denum_value \n",
    "    \n",
    "    #Confidence Bands\n",
    "    x = _tpoints\n",
    "    x = np.sort(np.array(list(x[1:]) + list(x[:-1])))\n",
    "    y1=ratio-np.sqrt(ratio_error)\n",
    "    y2=ratio+np.sqrt(ratio_error)\n",
    "    y_lower = np.repeat(y1[:], 2)\n",
    "    y_upper = np.repeat(y2[:], 2)\n",
    "        \n",
    "    #Plot\n",
    "    plt.step(_tpoints[1:], ratio*1000000, linewidth=3,  color=colours[index], label=source)\n",
    "    plt.fill_between(x, y_lower*1000000, y_upper*1000000, facecolor=colours[index], interpolate=True, alpha = 0.25)\n",
    "    \n",
    "    data_hists_dict[source] = {'rate' : ratio*1000000, 'lower' : y_lower*1000000, 'upper' : y_upper*1000000}\n",
    "    index+=1\n",
    "    \n",
    "    print(events)\n",
    "\n",
    "plt.xlim([_tpoints[5], _tpoints[-2]])\n",
    "plt.ylim([1.0, 6])\n",
    "plt.xlabel('Time Since S2 [ns]', fontsize=12)\n",
    "plt.ylabel('Corrected Peak Rate [ms$^{-1}$]', fontsize=12)\n",
    "axes = plt.gca()\n",
    "axes.tick_params(width=2, length=10)\n",
    "plt.legend(loc='best', fontsize=12)\n",
    "#plt.savefig(\"fig_deltat_example.png\", bboxes='tight')\n",
    "#plt.savefig(\"fig_deltat_example.pdf\", bboxes='tight')\n",
    "#plt.yscale('log')\n",
    "plt.show()"
   ]
  },
  {
   "cell_type": "code",
   "execution_count": null,
   "metadata": {
    "collapsed": false,
    "scrolled": false
   },
   "outputs": [],
   "source": [
    "#Store fit values for parameter being scanned\n",
    "scaling_constant_values = np.logspace(-5.5, -4.5, 26)\n",
    "#scaling_constant_values = np.linspace(10**-5.5, 10**-4.5, 26)\n",
    "time_scale_values = np.linspace(4, 18, 40)\n",
    "#background_rate = np.linspace(0, 4, 25)\n",
    "\n",
    "waveforms=1000\n",
    "\n",
    "#Settings for ToyMC for other parameters\n",
    "time_bins=200 #Needed to match data\n",
    "window_length=100 #Needed to match data\n",
    "\n",
    "for key, month in data_hists_dict.items():\n",
    "    fit_values=[]\n",
    "    p_values=[]\n",
    "    \n",
    "    source='Background'\n",
    "    source_rate = sampling_dict[source]['event_rate']\n",
    "    background_rate=2.2\n",
    "\n",
    "    #Rate from Data\n",
    "    rate_obs = month['rate']\n",
    "\n",
    "    for scaling_constant in tqdm(scaling_constant_values):\n",
    "        temp_array=[]\n",
    "        temp_p_array=[]\n",
    "        for  time_scale in time_scale_values:\n",
    "            #Initialize Bins\n",
    "            x_bins = [0]*time_bins\n",
    "            y_bins = [0]*time_bins\n",
    "\n",
    "            #Run 1000 TImes\n",
    "            event_rate = source_rate*window_length/1000\n",
    "            for sim in range(waveforms):\n",
    "                dt_bin_centers, se_rate = se_histogram(event_rate = event_rate, \n",
    "                                                        background_rate=background_rate, \n",
    "                                                        time_scale = time_scale,\n",
    "                                                        scaling_constant = scaling_constant, \n",
    "                                                        source = source,\n",
    "                                                        time_bins=time_bins,\n",
    "                                                        window_length = 100)\n",
    "                y_bins += se_rate/waveforms\n",
    "            rate_exp = y_bins\n",
    "\n",
    "            fit_value, fit_probability = scipy.stats.chisquare(rate_obs[9:198], rate_exp[9:198])\n",
    "            temp_array = np.append(temp_array, fit_value)\n",
    "            temp_p_array = np.append(temp_p_array, fit_probability)\n",
    "        fit_values.append(temp_array)\n",
    "        p_values.append(temp_p_array)\n",
    "    fit_values=np.array(fit_values)\n",
    "    p_values=np.array(p_values)\n",
    "    \n",
    "    #Background\n",
    "    fig = plt.figure(figsize=(10, 8))\n",
    "    plt.set_cmap(\"Blues\")\n",
    "    plt.pcolormesh(scaling_constant_values, time_scale_values, fit_values.T, vmax=10**2, norm=LogNorm())\n",
    "    i_min = np.unravel_index(fit_values.argmin(), fit_values.shape)\n",
    "    print(\"Best fit chisq value :\",  fit_values[i_min[0]][i_min[1]])\n",
    "    print(\"Best fit p-value :\",  p_values[i_min[0]][i_min[1]])\n",
    "    print(\"Best fit scaling constant :\",  scaling_constant_values[i_min[0]])\n",
    "    print(\"Best time_scale constant :\",  time_scale_values[i_min[1]])\n",
    "    plt.colorbar()\n",
    "    #plt.yscale('log')\n",
    "    plt.xscale('log')\n",
    "    plt.xlabel(\"Scaling Constant Value\")\n",
    "    plt.ylabel(\"Time Scale Value\")\n",
    "    plt.show()"
   ]
  },
  {
   "cell_type": "markdown",
   "metadata": {},
   "source": [
    "### Split by Date - Rn"
   ]
  },
  {
   "cell_type": "code",
   "execution_count": null,
   "metadata": {
    "collapsed": false
   },
   "outputs": [],
   "source": [
    "%%time\n",
    "\n",
    "rn_cal_dates=[datetime.date(2017, 1, 17), datetime.date(2017, 4, 1), datetime.date(2017, 6, 1), \n",
    "              datetime.date(2017, 7, 1), datetime.date(2017, 8, 1), datetime.date(2017, 9, 1)]\n",
    "\n",
    "print('Load Data')\n",
    "simpath= '/project/lgrandi/jpienaar/cache_files/'\n",
    "#simpath= '/scratch/midway2/jpienaar/cache_files/'\n",
    "\n",
    "date_label=[\"13 Mar\", \"9 May\", \"12 Jun\", \"10 Jul\", \"7 Aug\"]\n",
    "\n",
    "#Find datasets\n",
    "datasets = get_file_list(simpath, '*dt.pkl', ' ')\n",
    "print('Found %d datasets' % len(datasets))\n",
    "n_files=len(datasets)\n",
    "\n",
    "dict_rn_calibrations={}\n",
    "for t_index, date in enumerate(rn_cal_dates[:-1]):\n",
    "    df=datasets_rn\n",
    "    df_temp=hax.cuts.selection(df, df.start>rn_cal_dates[t_index], 'TimeCut Low')\n",
    "    df_temp=hax.cuts.selection(df_temp, df_temp.start<rn_cal_dates[t_index+1], 'TimeCut High')\n",
    "    dataset_names=df_temp['name']\n",
    "    dict_calibration={}\n",
    "    for dataset in tqdm(datasets[:]):\n",
    "        key=dataset[:-7]\n",
    "        if dataset_names.isin([dataset[:-7]]).any():\n",
    "            with open(simpath+dataset, 'rb') as handle:\n",
    "                data_dict = pickle.load(handle)\n",
    "                dict_calibration[key]=data_dict\n",
    "    dict_rn_calibrations[date_label[t_index]]=dict_calibration"
   ]
  },
  {
   "cell_type": "code",
   "execution_count": null,
   "metadata": {
    "collapsed": false,
    "scrolled": false
   },
   "outputs": [],
   "source": [
    "#Plots corrected event with error added#\n",
    "colours=['blue', 'orange', 'green', 'magenta', 'cyan', 'red', 'grey', 'black', 'brown']\n",
    "plt.figure(figsize=(10, 8))\n",
    "index=0\n",
    "window_length=10**8\n",
    "_tpoints=np.linspace(0, window_length, 201)\n",
    "_xmin=_tpoints[1]\n",
    "_ymax=1.7e-7\n",
    "events_hist=0\n",
    "events=0\n",
    "index=0\n",
    "\n",
    "data_hists_dict={}\n",
    "for source, dict_data in dict_rn_calibrations.items():\n",
    "    print(source, len(dict_data))\n",
    "    del events_hist\n",
    "    #del livet_hist\n",
    "    events=0\n",
    "    for key, data in dict_data.items():\n",
    "        try:\n",
    "            events_hist\n",
    "            events_hist+=data['deltat']\n",
    "            weight_hist+=data['deltat_weights']\n",
    "            livet_hist+=data['livet_hist']\n",
    "            livet_weight+=data['livet_weights']\n",
    "            events+=data['events']\n",
    "        except NameError:\n",
    "            events_hist=data['deltat']\n",
    "            weight_hist=data['deltat_weights']\n",
    "            livet_hist=data['livet_hist']\n",
    "            livet_weight=data['livet_weights']\n",
    "            events=data['events']\n",
    "        except KeyError:\n",
    "            print(source, key)\n",
    "        \n",
    "    events_hist=events_hist.sum('s2_area')\n",
    "    weight_hist=weight_hist.sum('s2_area')\n",
    "    livet_hist=livet_hist.sum('s2_area')\n",
    "    livet_weight=livet_weight.sum('s2_area')\n",
    "    \n",
    "    #Error\n",
    "    num_value=np.array(events_hist)\n",
    "    denum_value=np.array(livet_hist)\n",
    "    num_error = np.sqrt(weight_hist)\n",
    "    denum_error = np.sqrt(livet_weight)\n",
    "    e1 = num_error\n",
    "    e2 = denum_error\n",
    "    b1 = num_value\n",
    "    b2 = denum_value\n",
    "    w=b1/b2\n",
    "    \n",
    "    ratio_error = np.abs(((1-2*w)*e1*e1 + w*w*e2*e2)/(b2*b2))       \n",
    "    ratio = num_value/denum_value \n",
    "    \n",
    "    #Remove problematic time around HV energy veto.\n",
    "    #ratio[18]=np.nan\n",
    "    #ratio[19]=np.nan\n",
    "    #ratio[20]=np.nan\n",
    "    #ratio[21]=np.nan\n",
    "    #ratio_error[18]=np.nan\n",
    "    #ratio_error[19]=np.nan\n",
    "    #ratio_error[20]=np.nan\n",
    "    #ratio_error[21]=np.nan\n",
    "    \n",
    "    #Confidence Bands\n",
    "    x = _tpoints\n",
    "    x = np.sort(np.array(list(x[1:]) + list(x[:-1])))\n",
    "    y1=ratio-np.sqrt(ratio_error)\n",
    "    y2=ratio+np.sqrt(ratio_error)\n",
    "    y_lower = np.repeat(y1[:], 2)\n",
    "    y_upper = np.repeat(y2[:], 2)\n",
    "        \n",
    "    #Plot\n",
    "    plt.step(_tpoints[1:], ratio*1000000, linewidth=3,  color=colours[index], label=source)\n",
    "    plt.fill_between(x, y_lower*1000000, y_upper*1000000, facecolor=colours[index], interpolate=True, alpha = 0.25)\n",
    "    \n",
    "    data_hists_dict[source] = {'rate' : ratio*1000000, 'lower' : y_lower*1000000, 'upper' : y_upper*1000000}\n",
    "    \n",
    "    index+=1\n",
    "    \n",
    "    print(events)\n",
    "\n",
    "plt.xlim([_tpoints[5], _tpoints[-2]])\n",
    "plt.ylim([3.2, 7.5])\n",
    "plt.xlabel('Time Since S2 [ns]', fontsize=12)\n",
    "plt.ylabel('Corrected Peak Rate [ms$^{-1}$]', fontsize=12)\n",
    "axes = plt.gca()\n",
    "axes.tick_params(width=2, length=10)\n",
    "plt.legend(loc='best', fontsize=12)\n",
    "#plt.savefig(\"fig_deltat_example.png\", bboxes='tight')\n",
    "#plt.savefig(\"fig_deltat_example.pdf\", bboxes='tight')\n",
    "#plt.yscale('log')\n",
    "plt.show()"
   ]
  },
  {
   "cell_type": "code",
   "execution_count": null,
   "metadata": {
    "collapsed": false,
    "scrolled": false
   },
   "outputs": [],
   "source": [
    "#Store fit values for parameter being scanned\n",
    "scaling_constant_values = np.logspace(-5.5, -4.5, 26)\n",
    "#scaling_constant_values = np.linspace(10**-5.5, 10**-4.5, 26)\n",
    "time_scale_values = np.linspace(14, 26, 36)\n",
    "#background_rate = np.linspace(0, 4, 25)\n",
    "\n",
    "waveforms=1000\n",
    "\n",
    "#Settings for ToyMC for other parameters\n",
    "time_bins=200 #Needed to match data\n",
    "window_length=100 #Needed to match data\n",
    "\n",
    "for key, month in data_hists_dict.items():\n",
    "    fit_values=[]\n",
    "    p_values=[]\n",
    "    \n",
    "    source='Radon'\n",
    "    source_rate = sampling_dict[source]['event_rate']\n",
    "    background_rate=3.2\n",
    "\n",
    "    #Rate from Data\n",
    "    rate_obs = month['rate']\n",
    "\n",
    "    for scaling_constant in tqdm(scaling_constant_values):\n",
    "        temp_array=[]\n",
    "        temp_p_array=[]\n",
    "        for  time_scale in time_scale_values:\n",
    "            #Initialize Bins\n",
    "            x_bins = [0]*time_bins\n",
    "            y_bins = [0]*time_bins\n",
    "\n",
    "            #Run 1000 TImes\n",
    "            event_rate = source_rate*window_length/1000\n",
    "            for sim in range(waveforms):\n",
    "                dt_bin_centers, se_rate = se_histogram(event_rate = event_rate, \n",
    "                                                        background_rate=background_rate, \n",
    "                                                        time_scale = time_scale,\n",
    "                                                        scaling_constant = scaling_constant, \n",
    "                                                        source = source,\n",
    "                                                        time_bins=time_bins,\n",
    "                                                        window_length = 100)\n",
    "                y_bins += se_rate/waveforms\n",
    "            rate_exp = y_bins\n",
    "\n",
    "            # For Radon data:\n",
    "            rate_obs = month['rate']\n",
    "            rate_exp=np.append(rate_exp[0:18], rate_exp[22:])\n",
    "            rate_obs=np.append(rate_obs[0:18], rate_obs[22:])\n",
    "            \n",
    "            #Chi-square value\n",
    "            fit_value, fit_probability = scipy.stats.chisquare(rate_obs[9:198], rate_exp[9:198])\n",
    "            temp_array = np.append(temp_array, fit_value)\n",
    "            temp_p_array = np.append(temp_p_array, fit_probability)\n",
    "        fit_values.append(temp_array)\n",
    "        p_values.append(temp_p_array)\n",
    "    fit_values=np.array(fit_values)\n",
    "    p_values=np.array(p_values)\n",
    "    \n",
    "    #Background\n",
    "    fig = plt.figure(figsize=(10, 8))\n",
    "    plt.set_cmap(\"Blues\")\n",
    "    plt.pcolormesh(scaling_constant_values, time_scale_values, fit_values.T, norm=LogNorm(), vmax=10**2)\n",
    "    i_min = np.unravel_index(fit_values.argmin(), fit_values.shape)\n",
    "    print(\"Best fit chisq value :\",  fit_values[i_min[0]][i_min[1]])\n",
    "    print(\"Best fit p-value :\",  p_values[i_min[0]][i_min[1]])\n",
    "    print(\"Best fit scaling constant :\",  scaling_constant_values[i_min[0]])\n",
    "    print(\"Best time_scale constant :\",  time_scale_values[i_min[1]])\n",
    "    plt.colorbar()\n",
    "    plt.yscale('log')\n",
    "    plt.xscale('log')\n",
    "    plt.xlabel(\"Scaling Constant Value\")\n",
    "    plt.ylabel(\"Time Scale Value\")\n",
    "    plt.show()"
   ]
  },
  {
   "cell_type": "code",
   "execution_count": null,
   "metadata": {
    "collapsed": true
   },
   "outputs": [],
   "source": []
  }
 ],
 "metadata": {
  "kernelspec": {
   "display_name": "Python 3",
   "language": "python",
   "name": "python3"
  },
  "language_info": {
   "codemirror_mode": {
    "name": "ipython",
    "version": 3
   },
   "file_extension": ".py",
   "mimetype": "text/x-python",
   "name": "python",
   "nbconvert_exporter": "python",
   "pygments_lexer": "ipython3",
   "version": "3.4.4"
  }
 },
 "nbformat": 4,
 "nbformat_minor": 2
}
